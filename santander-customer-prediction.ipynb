{
 "cells": [
  {
   "cell_type": "markdown",
   "metadata": {
    "_cell_guid": "b1076dfc-b9ad-4769-8c92-a6c4dae69d19",
    "_uuid": "8f2839f25d086af736a60e9eeb907d3b93b6e0e5"
   },
   "source": [
    " #  <div style=\"text-align: center\">  Santander customer prediction </div> \n",
    "###  <div style=\"text-align: center\"> A Great model comes from Great modelling of Good Model </div> \n",
    "<img src='https://galeria.bankier.pl/p/b/5/215103d7ace468-645-387-261-168-1786-1072.jpg' width=600 height=600>\n",
    "<div style=\"text-align:center\"> last update: <b> 10/03/2019</b></div>\n",
    "\n",
    "\n",
    "\n",
    "You Follow me on:\n",
    "\n",
    "> ###### [Kaggle](https://www.kaggle.com/satyamsharma/)\n",
    "-------------------------------------------------------------------------------------------------------------\n",
    " <b>I hope you find this kernel helpful and some <font color='red'>UPVOTES</font> would be very much appreciated.</b>\n",
    "    \n",
    " -----------"
   ]
  },
  {
   "cell_type": "markdown",
   "metadata": {
    "_cell_guid": "79c7e3d0-c299-4dcb-8224-4455121ee9b0",
    "_uuid": "d629ff2d2480ee46fbb7e2d37f6b5fab8052498a",
    "collapsed": true
   },
   "source": [
    " <a id=\"top\"></a> <br>\n",
    "## Notebook  Content\n",
    "1. [Introduction](#1)\n",
    "1. [Load packages](#2)\n",
    "    1. [import](21)\n",
    "    1. [Setup](22)\n",
    "    1. [Version](23)\n",
    "1. [Problem Definition](#3)\n",
    "    1. [Problem Feature](#31)\n",
    "    1. [Aim](#32)\n",
    "    1. [Variables](#33)\n",
    "    1. [Evaluation](#34)\n",
    "1. [Exploratory Data Analysis(EDA)](#4)\n",
    "    1. [Data Collection](#41)\n",
    "    1. [Visualization](#42)\n",
    "    1. [Data Preprocessing](#43)\n",
    "1. [Machine Learning Explainability for Santander](#5)\n",
    "    1. [Permutation Importance](#51)\n",
    "    1. [How to calculate and show importances?](#52)\n",
    "    1. [What can be inferred from the above?](#53)\n",
    "    1. [Partial Dependence Plots](#54)\n",
    "1. [Model Development](#6)\n",
    "    1. [lightgbm](#61)\n",
    "    1. [RandomForestClassifier](#62)\n",
    "    1. [DecisionTreeClassifier](#63)\n",
    "    1. [CatBoostClassifier](#64)\n",
    "    1. [Funny Combine](#65)\n",
    "1. [References](#7)"
   ]
  },
  {
   "cell_type": "markdown",
   "metadata": {
    "_uuid": "af63d485947264b68c37768c73ffac21bb631c0f"
   },
   "source": [
    " <a id=\"1\"></a> <br>\n",
    "## 1- Introduction\n",
    "At [Santander](https://www.santanderbank.com) their mission is to help people and businesses prosper. they are always looking for ways to help our customers understand their financial health and identify which products and services might help them achieve their monetary goals.\n",
    "<img src='https://www.smava.de/kredit/wp-content/uploads/2015/12/santander-bank.png' width=400 height=400>\n",
    "\n",
    "In this kernel we are going to create a **Machine Learning Explainability** for **Santander** based this perfect [course](https://www.kaggle.com/learn/machine-learning-explainability) in kaggle.\n",
    "><font color=\"red\"><b>Note: </b></font>\n",
    "how to extract **insights** from models?"
   ]
  },
  {
   "cell_type": "markdown",
   "metadata": {
    "_uuid": "477c78003f7e8a9fa7c83a2e61950f316cc2d26f"
   },
   "source": [
    "<a id=\"2\"></a> <br>\n",
    "## 2- A Data Science Workflow for Santander \n",
    "Of course, the same solution can not be provided for all problems, so the best way is to create a **general framework** and adapt it to new problem.\n",
    "\n",
    "**You can see my workflow in the below image** :\n",
    "\n",
    " <img src=\"http://s8.picofile.com/file/8342707700/workflow2.png\"  />\n",
    "\n",
    "**You should feel free\tto\tadjust \tthis\tchecklist \tto\tyour needs**\n",
    "###### [Go to top](#top)"
   ]
  },
  {
   "cell_type": "markdown",
   "metadata": {
    "_uuid": "733f1f0e45933f46a674df4d9ee6561de156d748"
   },
   "source": [
    " <a id=\"2\"></a> <br>\n",
    " ## 2- Load packages\n",
    "  <a id=\"21\"></a> <br>\n",
    "## 2-1 Import"
   ]
  },
  {
   "cell_type": "code",
   "execution_count": 1,
   "metadata": {
    "_kg_hide-input": false,
    "_uuid": "7646c73810d475601436c096d36498cfaa489ec4"
   },
   "outputs": [],
   "source": [
    "from sklearn.model_selection import train_test_split\n",
    "from sklearn.model_selection import StratifiedKFold\n",
    "from sklearn.ensemble import RandomForestClassifier\n",
    "from sklearn.tree import DecisionTreeClassifier\n",
    "from catboost import CatBoostClassifier,Pool\n",
    "from IPython.display import display\n",
    "import matplotlib.patches as patch\n",
    "import matplotlib.pyplot as plt\n",
    "from sklearn.svm import NuSVR\n",
    "from scipy.stats import norm\n",
    "from sklearn import svm\n",
    "import lightgbm as lgb\n",
    "import xgboost as xgb\n",
    "import seaborn as sns\n",
    "import pandas as pd\n",
    "import numpy as np\n",
    "import warnings\n",
    "import time\n",
    "import glob\n",
    "import sys\n",
    "import os\n",
    "import gc"
   ]
  },
  {
   "cell_type": "markdown",
   "metadata": {
    "_uuid": "ec9e63f88e677ed60bfe5a8de4bb0b2a8be8b00a"
   },
   "source": [
    " <a id=\"22\"></a> <br>\n",
    "##  2-2 Setup"
   ]
  },
  {
   "cell_type": "code",
   "execution_count": 2,
   "metadata": {
    "_kg_hide-input": false,
    "_uuid": "16768a965c3ced6a76d33642e11ecae18f5977e8"
   },
   "outputs": [],
   "source": [
    "# for get better result chage fold_n to 5\n",
    "fold_n=5\n",
    "folds = StratifiedKFold(n_splits=fold_n, shuffle=True, random_state=10)\n",
    "%matplotlib inline\n",
    "%precision 4\n",
    "warnings.filterwarnings('ignore')\n",
    "plt.style.use('ggplot')\n",
    "np.set_printoptions(suppress=True)\n",
    "pd.set_option(\"display.precision\", 15)"
   ]
  },
  {
   "cell_type": "markdown",
   "metadata": {
    "_uuid": "9bcec14c7403174f2a9fdab866ea8248aa76328d"
   },
   "source": [
    " <a id=\"23\"></a> <br>\n",
    "## 2-3 Version\n"
   ]
  },
  {
   "cell_type": "code",
   "execution_count": 3,
   "metadata": {
    "_kg_hide-input": false,
    "_uuid": "4644581a5ce6c2c98ec2668a95037742b189c318"
   },
   "outputs": [
    {
     "name": "stdout",
     "output_type": "stream",
     "text": [
      "pandas: 0.23.4\n",
      "numpy: 1.16.2\n",
      "Python: 3.6.6 |Anaconda, Inc.| (default, Oct  9 2018, 12:34:16) \n",
      "[GCC 7.3.0]\n"
     ]
    }
   ],
   "source": [
    "print('pandas: {}'.format(pd.__version__))\n",
    "print('numpy: {}'.format(np.__version__))\n",
    "print('Python: {}'.format(sys.version))"
   ]
  },
  {
   "cell_type": "markdown",
   "metadata": {
    "_uuid": "ccfe7d54dac0cf31125a49b1981d25a69e679db0"
   },
   "source": [
    "<a id=\"3\"></a> \n",
    "<br>\n",
    "## 3- Problem Definition\n",
    "In this **challenge**, we should help this **bank**  identify which **customers** will make a **specific transaction** in the future, irrespective of the amount of money transacted. The data provided for this competition has the same structure as the real data we have available to solve this **problem**.\n"
   ]
  },
  {
   "cell_type": "markdown",
   "metadata": {
    "_uuid": "dc84d5445dab932c46e2c5dfe86f2131e98aa0f1"
   },
   "source": [
    "<a id=\"31\"></a> \n",
    "### 3-1 Problem Feature\n",
    "\n",
    "1. train.csv - the training set.\n",
    "1. test.csv - the test set. The test set contains some rows which are not included in scoring.\n",
    "1. sample_submission.csv - a sample submission file in the correct format.\n"
   ]
  },
  {
   "cell_type": "markdown",
   "metadata": {
    "_uuid": "449535074de09edf5cdccb5a63539661fff29be6"
   },
   "source": [
    "<a id=\"32\"></a> \n",
    "### 3-2 Aim\n",
    "In this competition, The task is to predict the value of **target** column in the test set."
   ]
  },
  {
   "cell_type": "markdown",
   "metadata": {
    "_uuid": "184d1004ff1f90fdf9d475cbb37ea94b89dd2567"
   },
   "source": [
    "<a id=\"33\"></a> \n",
    "### 3-3 Variables\n",
    "\n",
    "We are provided with an **anonymized dataset containing numeric feature variables**, the binary **target** column, and a string **ID_code** column.\n",
    "\n",
    "The task is to predict the value of **target column** in the test set."
   ]
  },
  {
   "cell_type": "markdown",
   "metadata": {
    "_uuid": "81b77e49bae78bad2c31bc2ce101c1fff8296af0"
   },
   "source": [
    "<a id=\"34\"></a> \n",
    "## 3-4 evaluation\n",
    "**Submissions** are evaluated on area under the [ROC curve](http://en.wikipedia.org/wiki/Receiver_operating_characteristic) between the predicted probability and the observed target.\n",
    "<img src='https://upload.wikimedia.org/wikipedia/commons/6/6b/Roccurves.png' width=300 height=300>"
   ]
  },
  {
   "cell_type": "code",
   "execution_count": 4,
   "metadata": {
    "_uuid": "9ba4b5a56a9c67899ed54c7e4dad0930ce90fbfa"
   },
   "outputs": [],
   "source": [
    "from sklearn.metrics import roc_auc_score, roc_curve"
   ]
  },
  {
   "cell_type": "markdown",
   "metadata": {
    "_uuid": "f8a54abda5d2e30c5cdb25c554bef1f8a341482c"
   },
   "source": [
    "<a id=\"4\"></a> \n",
    "## 4- Exploratory Data Analysis(EDA)\n",
    " In this section, we'll analysis how to use graphical and numerical techniques to begin uncovering the structure of your data. \n",
    "*  Data Collection\n",
    "*  Visualization\n",
    "*  Data Preprocessing\n",
    "*  Data Cleaning\n",
    "<img src=\"http://s9.picofile.com/file/8338476134/EDA.png\" width=400 height=400>"
   ]
  },
  {
   "cell_type": "markdown",
   "metadata": {
    "_uuid": "c90af9d21a49adcbd478c56871149f1282c58b7f"
   },
   "source": [
    " <a id=\"41\"></a> <br>\n",
    "## 4-1 Data Collection"
   ]
  },
  {
   "cell_type": "code",
   "execution_count": 5,
   "metadata": {
    "_kg_hide-input": true,
    "_uuid": "1c883e09dbe7e4b4d7caeb2cf380ec0f07209531"
   },
   "outputs": [
    {
     "name": "stdout",
     "output_type": "stream",
     "text": [
      "['train.csv', 'sample_submission.csv', 'test.csv']\n"
     ]
    }
   ],
   "source": [
    "print(os.listdir(\"../input/\"))"
   ]
  },
  {
   "cell_type": "code",
   "execution_count": 6,
   "metadata": {
    "_kg_hide-input": false,
    "_uuid": "7427d2d9ce7dff9d63a355631a1718a6fb6c5847"
   },
   "outputs": [],
   "source": [
    "# import Dataset to play with it\n",
    "train= pd.read_csv(\"../input/train.csv\")\n",
    "test = pd.read_csv('../input/test.csv')"
   ]
  },
  {
   "cell_type": "code",
   "execution_count": 7,
   "metadata": {
    "_kg_hide-input": false,
    "_uuid": "9be60393f64121beb23124bdec3cef638436e788"
   },
   "outputs": [
    {
     "data": {
      "text/html": [
       "<div>\n",
       "<style scoped>\n",
       "    .dataframe tbody tr th:only-of-type {\n",
       "        vertical-align: middle;\n",
       "    }\n",
       "\n",
       "    .dataframe tbody tr th {\n",
       "        vertical-align: top;\n",
       "    }\n",
       "\n",
       "    .dataframe thead th {\n",
       "        text-align: right;\n",
       "    }\n",
       "</style>\n",
       "<table border=\"1\" class=\"dataframe\">\n",
       "  <thead>\n",
       "    <tr style=\"text-align: right;\">\n",
       "      <th></th>\n",
       "      <th>ID_code</th>\n",
       "      <th>target</th>\n",
       "    </tr>\n",
       "  </thead>\n",
       "  <tbody>\n",
       "    <tr>\n",
       "      <th>0</th>\n",
       "      <td>test_0</td>\n",
       "      <td>0</td>\n",
       "    </tr>\n",
       "    <tr>\n",
       "      <th>1</th>\n",
       "      <td>test_1</td>\n",
       "      <td>0</td>\n",
       "    </tr>\n",
       "    <tr>\n",
       "      <th>2</th>\n",
       "      <td>test_2</td>\n",
       "      <td>0</td>\n",
       "    </tr>\n",
       "    <tr>\n",
       "      <th>3</th>\n",
       "      <td>test_3</td>\n",
       "      <td>0</td>\n",
       "    </tr>\n",
       "    <tr>\n",
       "      <th>4</th>\n",
       "      <td>test_4</td>\n",
       "      <td>0</td>\n",
       "    </tr>\n",
       "  </tbody>\n",
       "</table>\n",
       "</div>"
      ],
      "text/plain": [
       "  ID_code  target\n",
       "0  test_0       0\n",
       "1  test_1       0\n",
       "2  test_2       0\n",
       "3  test_3       0\n",
       "4  test_4       0"
      ]
     },
     "execution_count": 7,
     "metadata": {},
     "output_type": "execute_result"
    }
   ],
   "source": [
    "sample_submission = pd.read_csv('../input/sample_submission.csv')\n",
    "sample_submission.head()"
   ]
  },
  {
   "cell_type": "code",
   "execution_count": 8,
   "metadata": {
    "_uuid": "6acf9a55418407ab1da0e7a8c4e1f540a2618ac3"
   },
   "outputs": [
    {
     "data": {
      "text/plain": [
       "((200000, 202), (200000, 201), (200000, 2))"
      ]
     },
     "execution_count": 8,
     "metadata": {},
     "output_type": "execute_result"
    }
   ],
   "source": [
    "train.shape, test.shape, sample_submission.shape"
   ]
  },
  {
   "cell_type": "code",
   "execution_count": 9,
   "metadata": {
    "_kg_hide-input": true,
    "_uuid": "1d054476a562f14b8d7e88fd2a8ea3b7b70c371c"
   },
   "outputs": [
    {
     "data": {
      "text/html": [
       "<div>\n",
       "<style scoped>\n",
       "    .dataframe tbody tr th:only-of-type {\n",
       "        vertical-align: middle;\n",
       "    }\n",
       "\n",
       "    .dataframe tbody tr th {\n",
       "        vertical-align: top;\n",
       "    }\n",
       "\n",
       "    .dataframe thead th {\n",
       "        text-align: right;\n",
       "    }\n",
       "</style>\n",
       "<table border=\"1\" class=\"dataframe\">\n",
       "  <thead>\n",
       "    <tr style=\"text-align: right;\">\n",
       "      <th></th>\n",
       "      <th>ID_code</th>\n",
       "      <th>target</th>\n",
       "      <th>var_0</th>\n",
       "      <th>var_1</th>\n",
       "      <th>var_2</th>\n",
       "      <th>var_3</th>\n",
       "      <th>var_4</th>\n",
       "      <th>var_5</th>\n",
       "      <th>var_6</th>\n",
       "      <th>var_7</th>\n",
       "      <th>var_8</th>\n",
       "      <th>var_9</th>\n",
       "      <th>var_10</th>\n",
       "      <th>var_11</th>\n",
       "      <th>var_12</th>\n",
       "      <th>var_13</th>\n",
       "      <th>var_14</th>\n",
       "      <th>var_15</th>\n",
       "      <th>var_16</th>\n",
       "      <th>var_17</th>\n",
       "      <th>var_18</th>\n",
       "      <th>var_19</th>\n",
       "      <th>var_20</th>\n",
       "      <th>var_21</th>\n",
       "      <th>var_22</th>\n",
       "      <th>var_23</th>\n",
       "      <th>var_24</th>\n",
       "      <th>var_25</th>\n",
       "      <th>var_26</th>\n",
       "      <th>var_27</th>\n",
       "      <th>var_28</th>\n",
       "      <th>var_29</th>\n",
       "      <th>var_30</th>\n",
       "      <th>var_31</th>\n",
       "      <th>var_32</th>\n",
       "      <th>var_33</th>\n",
       "      <th>var_34</th>\n",
       "      <th>var_35</th>\n",
       "      <th>var_36</th>\n",
       "      <th>var_37</th>\n",
       "      <th>...</th>\n",
       "      <th>var_160</th>\n",
       "      <th>var_161</th>\n",
       "      <th>var_162</th>\n",
       "      <th>var_163</th>\n",
       "      <th>var_164</th>\n",
       "      <th>var_165</th>\n",
       "      <th>var_166</th>\n",
       "      <th>var_167</th>\n",
       "      <th>var_168</th>\n",
       "      <th>var_169</th>\n",
       "      <th>var_170</th>\n",
       "      <th>var_171</th>\n",
       "      <th>var_172</th>\n",
       "      <th>var_173</th>\n",
       "      <th>var_174</th>\n",
       "      <th>var_175</th>\n",
       "      <th>var_176</th>\n",
       "      <th>var_177</th>\n",
       "      <th>var_178</th>\n",
       "      <th>var_179</th>\n",
       "      <th>var_180</th>\n",
       "      <th>var_181</th>\n",
       "      <th>var_182</th>\n",
       "      <th>var_183</th>\n",
       "      <th>var_184</th>\n",
       "      <th>var_185</th>\n",
       "      <th>var_186</th>\n",
       "      <th>var_187</th>\n",
       "      <th>var_188</th>\n",
       "      <th>var_189</th>\n",
       "      <th>var_190</th>\n",
       "      <th>var_191</th>\n",
       "      <th>var_192</th>\n",
       "      <th>var_193</th>\n",
       "      <th>var_194</th>\n",
       "      <th>var_195</th>\n",
       "      <th>var_196</th>\n",
       "      <th>var_197</th>\n",
       "      <th>var_198</th>\n",
       "      <th>var_199</th>\n",
       "    </tr>\n",
       "  </thead>\n",
       "  <tbody>\n",
       "    <tr>\n",
       "      <th>0</th>\n",
       "      <td>train_0</td>\n",
       "      <td>0</td>\n",
       "      <td>8.925500000000000</td>\n",
       "      <td>-6.7863</td>\n",
       "      <td>11.908099999999999</td>\n",
       "      <td>5.093000000000000</td>\n",
       "      <td>11.460699999999999</td>\n",
       "      <td>-9.2834</td>\n",
       "      <td>5.1187</td>\n",
       "      <td>18.626600000000000</td>\n",
       "      <td>-4.9200</td>\n",
       "      <td>5.747000000000001</td>\n",
       "      <td>2.9252</td>\n",
       "      <td>3.182100000000000</td>\n",
       "      <td>14.013700000000000</td>\n",
       "      <td>0.574500000000000</td>\n",
       "      <td>8.7989</td>\n",
       "      <td>14.569100000000001</td>\n",
       "      <td>5.748700000000000</td>\n",
       "      <td>-7.239300000000000</td>\n",
       "      <td>4.284000000000000</td>\n",
       "      <td>30.713300000000000</td>\n",
       "      <td>10.535000000000000</td>\n",
       "      <td>16.219100000000001</td>\n",
       "      <td>2.579100000000000</td>\n",
       "      <td>2.4716</td>\n",
       "      <td>14.383100000000001</td>\n",
       "      <td>13.432499999999999</td>\n",
       "      <td>-5.1488</td>\n",
       "      <td>-0.4073</td>\n",
       "      <td>4.9306</td>\n",
       "      <td>5.9965</td>\n",
       "      <td>-0.308500000000000</td>\n",
       "      <td>12.904100000000000</td>\n",
       "      <td>-3.8766</td>\n",
       "      <td>16.891100000000002</td>\n",
       "      <td>11.192000000000000</td>\n",
       "      <td>10.5785</td>\n",
       "      <td>0.6764</td>\n",
       "      <td>7.8871</td>\n",
       "      <td>...</td>\n",
       "      <td>15.457599999999999</td>\n",
       "      <td>5.3133</td>\n",
       "      <td>3.6159</td>\n",
       "      <td>5.038400000000000</td>\n",
       "      <td>6.676000000000000</td>\n",
       "      <td>12.664400000000001</td>\n",
       "      <td>2.7004</td>\n",
       "      <td>-0.6975</td>\n",
       "      <td>9.598100000000001</td>\n",
       "      <td>5.4879</td>\n",
       "      <td>-4.7645</td>\n",
       "      <td>-8.4254</td>\n",
       "      <td>20.877300000000002</td>\n",
       "      <td>3.1531</td>\n",
       "      <td>18.561800000000002</td>\n",
       "      <td>7.742300000000000</td>\n",
       "      <td>-10.124499999999999</td>\n",
       "      <td>13.724100000000000</td>\n",
       "      <td>-3.518900000000000</td>\n",
       "      <td>1.720200000000000</td>\n",
       "      <td>-8.405099999999999</td>\n",
       "      <td>9.016400000000001</td>\n",
       "      <td>3.065700000000000</td>\n",
       "      <td>14.369100000000000</td>\n",
       "      <td>25.839800000000000</td>\n",
       "      <td>5.8764</td>\n",
       "      <td>11.841100000000001</td>\n",
       "      <td>-19.715900000000001</td>\n",
       "      <td>17.574300000000001</td>\n",
       "      <td>0.5857</td>\n",
       "      <td>4.4354</td>\n",
       "      <td>3.9642</td>\n",
       "      <td>3.1364</td>\n",
       "      <td>1.691000000000000</td>\n",
       "      <td>18.522700000000000</td>\n",
       "      <td>-2.3978</td>\n",
       "      <td>7.8784</td>\n",
       "      <td>8.563499999999999</td>\n",
       "      <td>12.780300000000000</td>\n",
       "      <td>-1.091400000000000</td>\n",
       "    </tr>\n",
       "    <tr>\n",
       "      <th>1</th>\n",
       "      <td>train_1</td>\n",
       "      <td>0</td>\n",
       "      <td>11.500600000000000</td>\n",
       "      <td>-4.1473</td>\n",
       "      <td>13.858800000000000</td>\n",
       "      <td>5.388999999999999</td>\n",
       "      <td>12.362200000000000</td>\n",
       "      <td>7.0433</td>\n",
       "      <td>5.6208</td>\n",
       "      <td>16.533799999999999</td>\n",
       "      <td>3.1468</td>\n",
       "      <td>8.085100000000001</td>\n",
       "      <td>-0.4032</td>\n",
       "      <td>8.058500000000000</td>\n",
       "      <td>14.023899999999999</td>\n",
       "      <td>8.413500000000001</td>\n",
       "      <td>5.4345</td>\n",
       "      <td>13.700300000000000</td>\n",
       "      <td>13.827500000000001</td>\n",
       "      <td>-15.584899999999999</td>\n",
       "      <td>7.800000000000000</td>\n",
       "      <td>28.570799999999998</td>\n",
       "      <td>3.428700000000000</td>\n",
       "      <td>2.740700000000000</td>\n",
       "      <td>8.552400000000000</td>\n",
       "      <td>3.3716</td>\n",
       "      <td>6.977900000000000</td>\n",
       "      <td>13.890999999999998</td>\n",
       "      <td>-11.7684</td>\n",
       "      <td>-2.5586</td>\n",
       "      <td>5.0464</td>\n",
       "      <td>0.5481</td>\n",
       "      <td>-9.298700000000000</td>\n",
       "      <td>7.875500000000000</td>\n",
       "      <td>1.2859</td>\n",
       "      <td>19.370999999999999</td>\n",
       "      <td>11.370200000000001</td>\n",
       "      <td>0.7399</td>\n",
       "      <td>2.7995</td>\n",
       "      <td>5.8434</td>\n",
       "      <td>...</td>\n",
       "      <td>29.484600000000000</td>\n",
       "      <td>5.8683</td>\n",
       "      <td>3.8208</td>\n",
       "      <td>15.834800000000000</td>\n",
       "      <td>-5.012100000000000</td>\n",
       "      <td>15.134499999999999</td>\n",
       "      <td>3.2003</td>\n",
       "      <td>9.3192</td>\n",
       "      <td>3.882100000000000</td>\n",
       "      <td>5.7999</td>\n",
       "      <td>5.5378</td>\n",
       "      <td>5.0988</td>\n",
       "      <td>22.033000000000001</td>\n",
       "      <td>5.5134</td>\n",
       "      <td>30.264500000000002</td>\n",
       "      <td>10.496800000000000</td>\n",
       "      <td>-7.235200000000000</td>\n",
       "      <td>16.572099999999999</td>\n",
       "      <td>-7.347700000000000</td>\n",
       "      <td>11.075200000000001</td>\n",
       "      <td>-5.593700000000000</td>\n",
       "      <td>9.487800000000000</td>\n",
       "      <td>-14.910000000000000</td>\n",
       "      <td>9.424500000000000</td>\n",
       "      <td>22.544100000000000</td>\n",
       "      <td>-4.8622</td>\n",
       "      <td>7.654300000000000</td>\n",
       "      <td>-15.931900000000001</td>\n",
       "      <td>13.317500000000001</td>\n",
       "      <td>-0.3566</td>\n",
       "      <td>7.6421</td>\n",
       "      <td>7.7214</td>\n",
       "      <td>2.5837</td>\n",
       "      <td>10.951599999999999</td>\n",
       "      <td>15.430500000000000</td>\n",
       "      <td>2.0339</td>\n",
       "      <td>8.1267</td>\n",
       "      <td>8.788900000000000</td>\n",
       "      <td>18.355999999999998</td>\n",
       "      <td>1.951800000000000</td>\n",
       "    </tr>\n",
       "    <tr>\n",
       "      <th>2</th>\n",
       "      <td>train_2</td>\n",
       "      <td>0</td>\n",
       "      <td>8.609299999999999</td>\n",
       "      <td>-2.7457</td>\n",
       "      <td>12.080500000000001</td>\n",
       "      <td>7.892800000000000</td>\n",
       "      <td>10.582500000000000</td>\n",
       "      <td>-9.0837</td>\n",
       "      <td>6.9427</td>\n",
       "      <td>14.615500000000001</td>\n",
       "      <td>-4.9193</td>\n",
       "      <td>5.952500000000000</td>\n",
       "      <td>-0.3249</td>\n",
       "      <td>-11.264799999999999</td>\n",
       "      <td>14.192900000000000</td>\n",
       "      <td>7.312400000000000</td>\n",
       "      <td>7.5244</td>\n",
       "      <td>14.647200000000000</td>\n",
       "      <td>7.678200000000000</td>\n",
       "      <td>-1.739500000000000</td>\n",
       "      <td>4.701100000000000</td>\n",
       "      <td>20.477499999999999</td>\n",
       "      <td>17.755900000000000</td>\n",
       "      <td>18.137699999999999</td>\n",
       "      <td>1.214500000000000</td>\n",
       "      <td>3.5137</td>\n",
       "      <td>5.677700000000000</td>\n",
       "      <td>13.217700000000001</td>\n",
       "      <td>-7.9940</td>\n",
       "      <td>-2.9029</td>\n",
       "      <td>5.8463</td>\n",
       "      <td>6.1439</td>\n",
       "      <td>-11.102499999999999</td>\n",
       "      <td>12.485799999999999</td>\n",
       "      <td>-2.2871</td>\n",
       "      <td>19.042200000000001</td>\n",
       "      <td>11.044900000000000</td>\n",
       "      <td>4.1087</td>\n",
       "      <td>4.6974</td>\n",
       "      <td>6.9346</td>\n",
       "      <td>...</td>\n",
       "      <td>13.207000000000001</td>\n",
       "      <td>5.8442</td>\n",
       "      <td>4.7086</td>\n",
       "      <td>5.714100000000000</td>\n",
       "      <td>-1.041000000000000</td>\n",
       "      <td>20.509200000000000</td>\n",
       "      <td>3.2790</td>\n",
       "      <td>-5.5952</td>\n",
       "      <td>7.317600000000000</td>\n",
       "      <td>5.7690</td>\n",
       "      <td>-7.0927</td>\n",
       "      <td>-3.9116</td>\n",
       "      <td>7.256900000000000</td>\n",
       "      <td>-5.8234</td>\n",
       "      <td>25.681999999999999</td>\n",
       "      <td>10.920199999999999</td>\n",
       "      <td>-0.310400000000000</td>\n",
       "      <td>8.843800000000000</td>\n",
       "      <td>-9.700900000000001</td>\n",
       "      <td>2.401300000000000</td>\n",
       "      <td>-4.293500000000000</td>\n",
       "      <td>9.390800000000000</td>\n",
       "      <td>-13.264799999999999</td>\n",
       "      <td>3.154500000000000</td>\n",
       "      <td>23.086600000000001</td>\n",
       "      <td>-5.3000</td>\n",
       "      <td>5.374500000000000</td>\n",
       "      <td>-6.266000000000000</td>\n",
       "      <td>10.193400000000000</td>\n",
       "      <td>-0.8417</td>\n",
       "      <td>2.9057</td>\n",
       "      <td>9.7905</td>\n",
       "      <td>1.6704</td>\n",
       "      <td>1.685800000000000</td>\n",
       "      <td>21.604199999999999</td>\n",
       "      <td>3.1417</td>\n",
       "      <td>-6.5213</td>\n",
       "      <td>8.267500000000000</td>\n",
       "      <td>14.722200000000001</td>\n",
       "      <td>0.396500000000000</td>\n",
       "    </tr>\n",
       "    <tr>\n",
       "      <th>3</th>\n",
       "      <td>train_3</td>\n",
       "      <td>0</td>\n",
       "      <td>11.060400000000000</td>\n",
       "      <td>-2.1518</td>\n",
       "      <td>8.952199999999999</td>\n",
       "      <td>7.195700000000000</td>\n",
       "      <td>12.584600000000000</td>\n",
       "      <td>-1.8361</td>\n",
       "      <td>5.8428</td>\n",
       "      <td>14.925000000000001</td>\n",
       "      <td>-5.8609</td>\n",
       "      <td>8.244999999999999</td>\n",
       "      <td>2.3061</td>\n",
       "      <td>2.810200000000000</td>\n",
       "      <td>13.846299999999999</td>\n",
       "      <td>11.970400000000000</td>\n",
       "      <td>6.4569</td>\n",
       "      <td>14.837199999999999</td>\n",
       "      <td>10.743000000000000</td>\n",
       "      <td>-0.429900000000000</td>\n",
       "      <td>15.942600000000001</td>\n",
       "      <td>13.725700000000000</td>\n",
       "      <td>20.300999999999998</td>\n",
       "      <td>12.557900000000000</td>\n",
       "      <td>6.820200000000000</td>\n",
       "      <td>2.7229</td>\n",
       "      <td>12.135400000000001</td>\n",
       "      <td>13.736700000000001</td>\n",
       "      <td>0.8135</td>\n",
       "      <td>-0.9059</td>\n",
       "      <td>5.9070</td>\n",
       "      <td>2.8407</td>\n",
       "      <td>-15.239800000000001</td>\n",
       "      <td>10.440700000000000</td>\n",
       "      <td>-2.5731</td>\n",
       "      <td>6.179600000000000</td>\n",
       "      <td>10.609299999999999</td>\n",
       "      <td>-5.9158</td>\n",
       "      <td>8.1723</td>\n",
       "      <td>2.8521</td>\n",
       "      <td>...</td>\n",
       "      <td>31.883299999999998</td>\n",
       "      <td>5.9684</td>\n",
       "      <td>7.2084</td>\n",
       "      <td>3.889900000000000</td>\n",
       "      <td>-11.088200000000001</td>\n",
       "      <td>17.250200000000000</td>\n",
       "      <td>2.5881</td>\n",
       "      <td>-2.7018</td>\n",
       "      <td>0.564100000000000</td>\n",
       "      <td>5.3430</td>\n",
       "      <td>-7.1541</td>\n",
       "      <td>-6.1920</td>\n",
       "      <td>18.236599999999999</td>\n",
       "      <td>11.7134</td>\n",
       "      <td>14.748300000000000</td>\n",
       "      <td>8.101300000000000</td>\n",
       "      <td>11.877100000000000</td>\n",
       "      <td>13.955200000000000</td>\n",
       "      <td>-10.470100000000000</td>\n",
       "      <td>5.696100000000000</td>\n",
       "      <td>-3.754600000000000</td>\n",
       "      <td>8.411700000000000</td>\n",
       "      <td>1.898600000000000</td>\n",
       "      <td>7.260100000000000</td>\n",
       "      <td>-0.463900000000000</td>\n",
       "      <td>-0.0498</td>\n",
       "      <td>7.933600000000000</td>\n",
       "      <td>-12.827900000000000</td>\n",
       "      <td>12.412400000000000</td>\n",
       "      <td>1.8489</td>\n",
       "      <td>4.4666</td>\n",
       "      <td>4.7433</td>\n",
       "      <td>0.7178</td>\n",
       "      <td>1.421400000000000</td>\n",
       "      <td>23.034700000000001</td>\n",
       "      <td>-1.2706</td>\n",
       "      <td>-2.9275</td>\n",
       "      <td>10.292199999999999</td>\n",
       "      <td>17.969700000000000</td>\n",
       "      <td>-8.999599999999999</td>\n",
       "    </tr>\n",
       "    <tr>\n",
       "      <th>4</th>\n",
       "      <td>train_4</td>\n",
       "      <td>0</td>\n",
       "      <td>9.836900000000000</td>\n",
       "      <td>-1.4834</td>\n",
       "      <td>12.874599999999999</td>\n",
       "      <td>6.637500000000000</td>\n",
       "      <td>12.277200000000001</td>\n",
       "      <td>2.4486</td>\n",
       "      <td>5.9405</td>\n",
       "      <td>19.251400000000000</td>\n",
       "      <td>6.2654</td>\n",
       "      <td>7.678400000000000</td>\n",
       "      <td>-9.4458</td>\n",
       "      <td>-12.141900000000000</td>\n",
       "      <td>13.848100000000001</td>\n",
       "      <td>7.889500000000000</td>\n",
       "      <td>7.7894</td>\n",
       "      <td>15.055300000000001</td>\n",
       "      <td>8.487100000000000</td>\n",
       "      <td>-3.068000000000000</td>\n",
       "      <td>6.526300000000000</td>\n",
       "      <td>11.315200000000001</td>\n",
       "      <td>21.424600000000002</td>\n",
       "      <td>18.960799999999999</td>\n",
       "      <td>10.110200000000001</td>\n",
       "      <td>2.7142</td>\n",
       "      <td>14.208000000000000</td>\n",
       "      <td>13.543300000000000</td>\n",
       "      <td>3.1736</td>\n",
       "      <td>-3.3423</td>\n",
       "      <td>5.9015</td>\n",
       "      <td>7.9352</td>\n",
       "      <td>-3.158200000000000</td>\n",
       "      <td>9.466799999999999</td>\n",
       "      <td>-0.0083</td>\n",
       "      <td>19.323899999999998</td>\n",
       "      <td>12.405700000000000</td>\n",
       "      <td>0.6329</td>\n",
       "      <td>2.7922</td>\n",
       "      <td>5.8184</td>\n",
       "      <td>...</td>\n",
       "      <td>33.510700000000000</td>\n",
       "      <td>5.6953</td>\n",
       "      <td>5.4663</td>\n",
       "      <td>18.220099999999999</td>\n",
       "      <td>6.576900000000000</td>\n",
       "      <td>21.260700000000000</td>\n",
       "      <td>3.2304</td>\n",
       "      <td>-1.7759</td>\n",
       "      <td>3.128300000000000</td>\n",
       "      <td>5.5518</td>\n",
       "      <td>1.4493</td>\n",
       "      <td>-2.6627</td>\n",
       "      <td>19.805599999999998</td>\n",
       "      <td>2.3705</td>\n",
       "      <td>18.468499999999999</td>\n",
       "      <td>16.330900000000000</td>\n",
       "      <td>-3.345600000000000</td>\n",
       "      <td>13.526100000000000</td>\n",
       "      <td>1.718900000000000</td>\n",
       "      <td>5.174300000000000</td>\n",
       "      <td>-7.693800000000000</td>\n",
       "      <td>9.768500000000000</td>\n",
       "      <td>4.891000000000000</td>\n",
       "      <td>12.219799999999999</td>\n",
       "      <td>11.850300000000001</td>\n",
       "      <td>-7.8931</td>\n",
       "      <td>6.420900000000000</td>\n",
       "      <td>5.927000000000000</td>\n",
       "      <td>16.020099999999999</td>\n",
       "      <td>-0.2829</td>\n",
       "      <td>-1.4905</td>\n",
       "      <td>9.5214</td>\n",
       "      <td>-0.1508</td>\n",
       "      <td>9.194200000000000</td>\n",
       "      <td>13.287599999999999</td>\n",
       "      <td>-1.5121</td>\n",
       "      <td>3.9267</td>\n",
       "      <td>9.503100000000000</td>\n",
       "      <td>17.997399999999999</td>\n",
       "      <td>-8.810400000000000</td>\n",
       "    </tr>\n",
       "  </tbody>\n",
       "</table>\n",
       "</div>"
      ],
      "text/plain": [
       "   ID_code  target        ...                     var_198            var_199\n",
       "0  train_0       0        ...          12.780300000000000 -1.091400000000000\n",
       "1  train_1       0        ...          18.355999999999998  1.951800000000000\n",
       "2  train_2       0        ...          14.722200000000001  0.396500000000000\n",
       "3  train_3       0        ...          17.969700000000000 -8.999599999999999\n",
       "4  train_4       0        ...          17.997399999999999 -8.810400000000000\n",
       "\n",
       "[5 rows x 202 columns]"
      ]
     },
     "execution_count": 9,
     "metadata": {},
     "output_type": "execute_result"
    }
   ],
   "source": [
    "train.head(5)"
   ]
  },
  {
   "cell_type": "markdown",
   "metadata": {
    "_uuid": "2c8980cc8c4a3159bfd559cadf24ddf2c6f661f4"
   },
   "source": [
    "# Reducing  memory size by ~50%\n",
    "Because we make a lot of calculations in this kernel, we'd better reduce the size of the data.\n",
    "1. 300 MB before Reducing\n",
    "1. 150 MB after Reducing"
   ]
  },
  {
   "cell_type": "code",
   "execution_count": 10,
   "metadata": {
    "_kg_hide-input": false,
    "_uuid": "fe728ee1dcbf3436358c696d2b9214da8dd7aa2e"
   },
   "outputs": [],
   "source": [
    "#Based on this great kernel https://www.kaggle.com/arjanso/reducing-dataframe-memory-size-by-65\n",
    "def reduce_mem_usage(df):\n",
    "    start_mem_usg = df.memory_usage().sum() / 1024**2 \n",
    "    print(\"Memory usage of properties dataframe is :\",start_mem_usg,\" MB\")\n",
    "    NAlist = [] # Keeps track of columns that have missing values filled in. \n",
    "    for col in df.columns:\n",
    "        if df[col].dtype != object:  # Exclude strings\n",
    "            \n",
    "            # Print current column type\n",
    "            print(\"******************************\")\n",
    "            print(\"Column: \",col)\n",
    "            print(\"dtype before: \",df[col].dtype)\n",
    "            \n",
    "            # make variables for Int, max and min\n",
    "            IsInt = False\n",
    "            mx = df[col].max()\n",
    "            mn = df[col].min()\n",
    "            \n",
    "            # Integer does not support NA, therefore, NA needs to be filled\n",
    "            if not np.isfinite(df[col]).all(): \n",
    "                NAlist.append(col)\n",
    "                df[col].fillna(mn-1,inplace=True)  \n",
    "                   \n",
    "            # test if column can be converted to an integer\n",
    "            asint = df[col].fillna(0).astype(np.int64)\n",
    "            result = (df[col] - asint)\n",
    "            result = result.sum()\n",
    "            if result > -0.01 and result < 0.01:\n",
    "                IsInt = True\n",
    "\n",
    "            \n",
    "            # Make Integer/unsigned Integer datatypes\n",
    "            if IsInt:\n",
    "                if mn >= 0:\n",
    "                    if mx < 255:\n",
    "                        df[col] = df[col].astype(np.uint8)\n",
    "                    elif mx < 65535:\n",
    "                        df[col] = df[col].astype(np.uint16)\n",
    "                    elif mx < 4294967295:\n",
    "                        df[col] = df[col].astype(np.uint32)\n",
    "                    else:\n",
    "                        df[col] = df[col].astype(np.uint64)\n",
    "                else:\n",
    "                    if mn > np.iinfo(np.int8).min and mx < np.iinfo(np.int8).max:\n",
    "                        df[col] = df[col].astype(np.int8)\n",
    "                    elif mn > np.iinfo(np.int16).min and mx < np.iinfo(np.int16).max:\n",
    "                        df[col] = df[col].astype(np.int16)\n",
    "                    elif mn > np.iinfo(np.int32).min and mx < np.iinfo(np.int32).max:\n",
    "                        df[col] = df[col].astype(np.int32)\n",
    "                    elif mn > np.iinfo(np.int64).min and mx < np.iinfo(np.int64).max:\n",
    "                        df[col] = df[col].astype(np.int64)    \n",
    "            \n",
    "            # Make float datatypes 32 bit\n",
    "            else:\n",
    "                df[col] = df[col].astype(np.float32)\n",
    "            \n",
    "            # Print new column type\n",
    "            print(\"dtype after: \",df[col].dtype)\n",
    "            print(\"******************************\")\n",
    "    \n",
    "    # Print final result\n",
    "    print(\"___MEMORY USAGE AFTER COMPLETION:___\")\n",
    "    mem_usg = df.memory_usage().sum() / 1024**2 \n",
    "    print(\"Memory usage is: \",mem_usg,\" MB\")\n",
    "    print(\"This is \",100*mem_usg/start_mem_usg,\"% of the initial size\")\n",
    "    return df, NAlist"
   ]
  },
  {
   "cell_type": "markdown",
   "metadata": {
    "_uuid": "c4e67b65003989d3ad30219e5fa8fa8e18ba893c"
   },
   "source": [
    "Reducing for train data set"
   ]
  },
  {
   "cell_type": "code",
   "execution_count": 11,
   "metadata": {
    "_kg_hide-output": true,
    "_uuid": "002ea31c89a0c7be4835e21ce75e486f46e64e98"
   },
   "outputs": [
    {
     "name": "stdout",
     "output_type": "stream",
     "text": [
      "Memory usage of properties dataframe is : 308.2276153564453  MB\n",
      "******************************\n",
      "Column:  target\n",
      "dtype before:  int64\n",
      "dtype after:  uint8\n",
      "******************************\n",
      "******************************\n",
      "Column:  var_0\n",
      "dtype before:  float64\n",
      "dtype after:  float32\n",
      "******************************\n",
      "******************************\n",
      "Column:  var_1\n",
      "dtype before:  float64\n",
      "dtype after:  float32\n",
      "******************************\n",
      "******************************\n",
      "Column:  var_2\n",
      "dtype before:  float64\n",
      "dtype after:  float32\n",
      "******************************\n",
      "******************************\n",
      "Column:  var_3\n",
      "dtype before:  float64\n",
      "dtype after:  float32\n",
      "******************************\n",
      "******************************\n",
      "Column:  var_4\n",
      "dtype before:  float64\n",
      "dtype after:  float32\n",
      "******************************\n",
      "******************************\n",
      "Column:  var_5\n",
      "dtype before:  float64\n",
      "dtype after:  float32\n",
      "******************************\n",
      "******************************\n",
      "Column:  var_6\n",
      "dtype before:  float64\n",
      "dtype after:  float32\n",
      "******************************\n",
      "******************************\n",
      "Column:  var_7\n",
      "dtype before:  float64\n",
      "dtype after:  float32\n",
      "******************************\n",
      "******************************\n",
      "Column:  var_8\n",
      "dtype before:  float64\n",
      "dtype after:  float32\n",
      "******************************\n",
      "******************************\n",
      "Column:  var_9\n",
      "dtype before:  float64\n",
      "dtype after:  float32\n",
      "******************************\n",
      "******************************\n",
      "Column:  var_10\n",
      "dtype before:  float64\n",
      "dtype after:  float32\n",
      "******************************\n",
      "******************************\n",
      "Column:  var_11\n",
      "dtype before:  float64\n",
      "dtype after:  float32\n",
      "******************************\n",
      "******************************\n",
      "Column:  var_12\n",
      "dtype before:  float64\n",
      "dtype after:  float32\n",
      "******************************\n",
      "******************************\n",
      "Column:  var_13\n",
      "dtype before:  float64\n",
      "dtype after:  float32\n",
      "******************************\n",
      "******************************\n",
      "Column:  var_14\n",
      "dtype before:  float64\n",
      "dtype after:  float32\n",
      "******************************\n",
      "******************************\n",
      "Column:  var_15\n",
      "dtype before:  float64\n",
      "dtype after:  float32\n",
      "******************************\n",
      "******************************\n",
      "Column:  var_16\n",
      "dtype before:  float64\n",
      "dtype after:  float32\n",
      "******************************\n",
      "******************************\n",
      "Column:  var_17\n",
      "dtype before:  float64\n",
      "dtype after:  float32\n",
      "******************************\n",
      "******************************\n",
      "Column:  var_18\n",
      "dtype before:  float64\n",
      "dtype after:  float32\n",
      "******************************\n",
      "******************************\n",
      "Column:  var_19\n",
      "dtype before:  float64\n",
      "dtype after:  float32\n",
      "******************************\n",
      "******************************\n",
      "Column:  var_20\n",
      "dtype before:  float64\n",
      "dtype after:  float32\n",
      "******************************\n",
      "******************************\n",
      "Column:  var_21\n",
      "dtype before:  float64\n",
      "dtype after:  float32\n",
      "******************************\n",
      "******************************\n",
      "Column:  var_22\n",
      "dtype before:  float64\n",
      "dtype after:  float32\n",
      "******************************\n",
      "******************************\n",
      "Column:  var_23\n",
      "dtype before:  float64\n",
      "dtype after:  float32\n",
      "******************************\n",
      "******************************\n",
      "Column:  var_24\n",
      "dtype before:  float64\n",
      "dtype after:  float32\n",
      "******************************\n",
      "******************************\n",
      "Column:  var_25\n",
      "dtype before:  float64\n",
      "dtype after:  float32\n",
      "******************************\n",
      "******************************\n",
      "Column:  var_26\n",
      "dtype before:  float64\n",
      "dtype after:  float32\n",
      "******************************\n",
      "******************************\n",
      "Column:  var_27\n",
      "dtype before:  float64\n",
      "dtype after:  float32\n",
      "******************************\n",
      "******************************\n",
      "Column:  var_28\n",
      "dtype before:  float64\n",
      "dtype after:  float32\n",
      "******************************\n",
      "******************************\n",
      "Column:  var_29\n",
      "dtype before:  float64\n",
      "dtype after:  float32\n",
      "******************************\n",
      "******************************\n",
      "Column:  var_30\n",
      "dtype before:  float64\n",
      "dtype after:  float32\n",
      "******************************\n",
      "******************************\n",
      "Column:  var_31\n",
      "dtype before:  float64\n",
      "dtype after:  float32\n",
      "******************************\n",
      "******************************\n",
      "Column:  var_32\n",
      "dtype before:  float64\n",
      "dtype after:  float32\n",
      "******************************\n",
      "******************************\n",
      "Column:  var_33\n",
      "dtype before:  float64\n",
      "dtype after:  float32\n",
      "******************************\n",
      "******************************\n",
      "Column:  var_34\n",
      "dtype before:  float64\n",
      "dtype after:  float32\n",
      "******************************\n",
      "******************************\n",
      "Column:  var_35\n",
      "dtype before:  float64\n",
      "dtype after:  float32\n",
      "******************************\n",
      "******************************\n",
      "Column:  var_36\n",
      "dtype before:  float64\n",
      "dtype after:  float32\n",
      "******************************\n",
      "******************************\n",
      "Column:  var_37\n",
      "dtype before:  float64\n",
      "dtype after:  float32\n",
      "******************************\n",
      "******************************\n",
      "Column:  var_38\n",
      "dtype before:  float64\n",
      "dtype after:  float32\n",
      "******************************\n",
      "******************************\n",
      "Column:  var_39\n",
      "dtype before:  float64\n",
      "dtype after:  float32\n",
      "******************************\n",
      "******************************\n",
      "Column:  var_40\n",
      "dtype before:  float64\n",
      "dtype after:  float32\n",
      "******************************\n",
      "******************************\n",
      "Column:  var_41\n",
      "dtype before:  float64\n",
      "dtype after:  float32\n",
      "******************************\n",
      "******************************\n",
      "Column:  var_42\n",
      "dtype before:  float64\n",
      "dtype after:  float32\n",
      "******************************\n",
      "******************************\n",
      "Column:  var_43\n",
      "dtype before:  float64\n",
      "dtype after:  float32\n",
      "******************************\n",
      "******************************\n",
      "Column:  var_44\n",
      "dtype before:  float64\n",
      "dtype after:  float32\n",
      "******************************\n",
      "******************************\n",
      "Column:  var_45\n",
      "dtype before:  float64\n",
      "dtype after:  float32\n",
      "******************************\n",
      "******************************\n",
      "Column:  var_46\n",
      "dtype before:  float64\n",
      "dtype after:  float32\n",
      "******************************\n",
      "******************************\n",
      "Column:  var_47\n",
      "dtype before:  float64\n",
      "dtype after:  float32\n",
      "******************************\n",
      "******************************\n",
      "Column:  var_48\n",
      "dtype before:  float64\n",
      "dtype after:  float32\n",
      "******************************\n",
      "******************************\n",
      "Column:  var_49\n",
      "dtype before:  float64\n",
      "dtype after:  float32\n",
      "******************************\n",
      "******************************\n",
      "Column:  var_50\n",
      "dtype before:  float64\n",
      "dtype after:  float32\n",
      "******************************\n",
      "******************************\n",
      "Column:  var_51\n",
      "dtype before:  float64\n",
      "dtype after:  float32\n",
      "******************************\n",
      "******************************\n",
      "Column:  var_52\n",
      "dtype before:  float64\n",
      "dtype after:  float32\n",
      "******************************\n",
      "******************************\n",
      "Column:  var_53\n",
      "dtype before:  float64\n",
      "dtype after:  float32\n",
      "******************************\n",
      "******************************\n",
      "Column:  var_54\n",
      "dtype before:  float64\n",
      "dtype after:  float32\n",
      "******************************\n",
      "******************************\n",
      "Column:  var_55\n",
      "dtype before:  float64\n",
      "dtype after:  float32\n",
      "******************************\n",
      "******************************\n",
      "Column:  var_56\n",
      "dtype before:  float64\n",
      "dtype after:  float32\n",
      "******************************\n",
      "******************************\n",
      "Column:  var_57\n",
      "dtype before:  float64\n",
      "dtype after:  float32\n",
      "******************************\n",
      "******************************\n",
      "Column:  var_58\n",
      "dtype before:  float64\n",
      "dtype after:  float32\n",
      "******************************\n",
      "******************************\n",
      "Column:  var_59\n",
      "dtype before:  float64\n",
      "dtype after:  float32\n",
      "******************************\n",
      "******************************\n",
      "Column:  var_60\n",
      "dtype before:  float64\n",
      "dtype after:  float32\n",
      "******************************\n",
      "******************************\n",
      "Column:  var_61\n",
      "dtype before:  float64\n",
      "dtype after:  float32\n",
      "******************************\n",
      "******************************\n",
      "Column:  var_62\n",
      "dtype before:  float64\n",
      "dtype after:  float32\n",
      "******************************\n",
      "******************************\n",
      "Column:  var_63\n",
      "dtype before:  float64\n",
      "dtype after:  float32\n",
      "******************************\n",
      "******************************\n",
      "Column:  var_64\n",
      "dtype before:  float64\n",
      "dtype after:  float32\n",
      "******************************\n",
      "******************************\n",
      "Column:  var_65\n",
      "dtype before:  float64\n",
      "dtype after:  float32\n",
      "******************************\n",
      "******************************\n",
      "Column:  var_66\n",
      "dtype before:  float64\n",
      "dtype after:  float32\n",
      "******************************\n",
      "******************************\n",
      "Column:  var_67\n",
      "dtype before:  float64\n",
      "dtype after:  float32\n",
      "******************************\n",
      "******************************\n",
      "Column:  var_68\n",
      "dtype before:  float64\n",
      "dtype after:  float32\n",
      "******************************\n",
      "******************************\n",
      "Column:  var_69\n",
      "dtype before:  float64\n",
      "dtype after:  float32\n",
      "******************************\n",
      "******************************\n",
      "Column:  var_70\n",
      "dtype before:  float64\n",
      "dtype after:  float32\n",
      "******************************\n",
      "******************************\n",
      "Column:  var_71\n",
      "dtype before:  float64\n",
      "dtype after:  float32\n",
      "******************************\n",
      "******************************\n",
      "Column:  var_72\n",
      "dtype before:  float64\n",
      "dtype after:  float32\n",
      "******************************\n",
      "******************************\n",
      "Column:  var_73\n",
      "dtype before:  float64\n",
      "dtype after:  float32\n",
      "******************************\n",
      "******************************\n",
      "Column:  var_74\n",
      "dtype before:  float64\n",
      "dtype after:  float32\n",
      "******************************\n",
      "******************************\n",
      "Column:  var_75\n",
      "dtype before:  float64\n",
      "dtype after:  float32\n",
      "******************************\n",
      "******************************\n",
      "Column:  var_76\n",
      "dtype before:  float64\n",
      "dtype after:  float32\n",
      "******************************\n",
      "******************************\n",
      "Column:  var_77\n",
      "dtype before:  float64\n",
      "dtype after:  float32\n",
      "******************************\n",
      "******************************\n",
      "Column:  var_78\n",
      "dtype before:  float64\n",
      "dtype after:  float32\n",
      "******************************\n",
      "******************************\n",
      "Column:  var_79\n",
      "dtype before:  float64\n",
      "dtype after:  float32\n",
      "******************************\n",
      "******************************\n",
      "Column:  var_80\n",
      "dtype before:  float64\n",
      "dtype after:  float32\n",
      "******************************\n",
      "******************************\n",
      "Column:  var_81\n",
      "dtype before:  float64\n",
      "dtype after:  float32\n",
      "******************************\n",
      "******************************\n",
      "Column:  var_82\n",
      "dtype before:  float64\n",
      "dtype after:  float32\n",
      "******************************\n",
      "******************************\n",
      "Column:  var_83\n",
      "dtype before:  float64\n",
      "dtype after:  float32\n",
      "******************************\n",
      "******************************\n",
      "Column:  var_84\n",
      "dtype before:  float64\n",
      "dtype after:  float32\n",
      "******************************\n",
      "******************************\n",
      "Column:  var_85\n",
      "dtype before:  float64\n",
      "dtype after:  float32\n",
      "******************************\n",
      "******************************\n",
      "Column:  var_86\n",
      "dtype before:  float64\n",
      "dtype after:  float32\n",
      "******************************\n",
      "******************************\n",
      "Column:  var_87\n",
      "dtype before:  float64\n",
      "dtype after:  float32\n",
      "******************************\n",
      "******************************\n",
      "Column:  var_88\n",
      "dtype before:  float64\n",
      "dtype after:  float32\n",
      "******************************\n",
      "******************************\n",
      "Column:  var_89\n",
      "dtype before:  float64\n",
      "dtype after:  float32\n",
      "******************************\n",
      "******************************\n",
      "Column:  var_90\n",
      "dtype before:  float64\n",
      "dtype after:  float32\n",
      "******************************\n",
      "******************************\n",
      "Column:  var_91\n",
      "dtype before:  float64\n",
      "dtype after:  float32\n",
      "******************************\n",
      "******************************\n",
      "Column:  var_92\n",
      "dtype before:  float64\n",
      "dtype after:  float32\n",
      "******************************\n",
      "******************************\n",
      "Column:  var_93\n",
      "dtype before:  float64\n",
      "dtype after:  float32\n",
      "******************************\n",
      "******************************\n",
      "Column:  var_94\n",
      "dtype before:  float64\n",
      "dtype after:  float32\n",
      "******************************\n",
      "******************************\n",
      "Column:  var_95\n",
      "dtype before:  float64\n",
      "dtype after:  float32\n",
      "******************************\n",
      "******************************\n",
      "Column:  var_96\n",
      "dtype before:  float64\n",
      "dtype after:  float32\n",
      "******************************\n",
      "******************************\n",
      "Column:  var_97\n",
      "dtype before:  float64\n",
      "dtype after:  float32\n",
      "******************************\n",
      "******************************\n",
      "Column:  var_98\n",
      "dtype before:  float64\n",
      "dtype after:  float32\n",
      "******************************\n",
      "******************************\n",
      "Column:  var_99\n",
      "dtype before:  float64\n",
      "dtype after:  float32\n",
      "******************************\n",
      "******************************\n",
      "Column:  var_100\n",
      "dtype before:  float64\n",
      "dtype after:  float32\n",
      "******************************\n",
      "******************************\n",
      "Column:  var_101\n",
      "dtype before:  float64\n",
      "dtype after:  float32\n",
      "******************************\n",
      "******************************\n",
      "Column:  var_102\n",
      "dtype before:  float64\n",
      "dtype after:  float32\n",
      "******************************\n",
      "******************************\n",
      "Column:  var_103\n",
      "dtype before:  float64\n",
      "dtype after:  float32\n",
      "******************************\n",
      "******************************\n",
      "Column:  var_104\n",
      "dtype before:  float64\n",
      "dtype after:  float32\n",
      "******************************\n",
      "******************************\n",
      "Column:  var_105\n",
      "dtype before:  float64\n",
      "dtype after:  float32\n",
      "******************************\n",
      "******************************\n",
      "Column:  var_106\n",
      "dtype before:  float64\n",
      "dtype after:  float32\n",
      "******************************\n",
      "******************************\n",
      "Column:  var_107\n",
      "dtype before:  float64\n",
      "dtype after:  float32\n",
      "******************************\n",
      "******************************\n",
      "Column:  var_108\n",
      "dtype before:  float64\n",
      "dtype after:  float32\n",
      "******************************\n",
      "******************************\n",
      "Column:  var_109\n",
      "dtype before:  float64\n",
      "dtype after:  float32\n",
      "******************************\n",
      "******************************\n",
      "Column:  var_110\n",
      "dtype before:  float64\n",
      "dtype after:  float32\n",
      "******************************\n",
      "******************************\n",
      "Column:  var_111\n",
      "dtype before:  float64\n",
      "dtype after:  float32\n",
      "******************************\n",
      "******************************\n",
      "Column:  var_112\n",
      "dtype before:  float64\n",
      "dtype after:  float32\n",
      "******************************\n",
      "******************************\n",
      "Column:  var_113\n",
      "dtype before:  float64\n",
      "dtype after:  float32\n",
      "******************************\n",
      "******************************\n",
      "Column:  var_114\n",
      "dtype before:  float64\n",
      "dtype after:  float32\n",
      "******************************\n",
      "******************************\n",
      "Column:  var_115\n",
      "dtype before:  float64\n",
      "dtype after:  float32\n",
      "******************************\n",
      "******************************\n",
      "Column:  var_116\n",
      "dtype before:  float64\n",
      "dtype after:  float32\n",
      "******************************\n",
      "******************************\n",
      "Column:  var_117\n",
      "dtype before:  float64\n",
      "dtype after:  float32\n",
      "******************************\n",
      "******************************\n",
      "Column:  var_118\n",
      "dtype before:  float64\n",
      "dtype after:  float32\n",
      "******************************\n",
      "******************************\n",
      "Column:  var_119\n",
      "dtype before:  float64\n",
      "dtype after:  float32\n",
      "******************************\n",
      "******************************\n",
      "Column:  var_120\n",
      "dtype before:  float64\n",
      "dtype after:  float32\n",
      "******************************\n",
      "******************************\n",
      "Column:  var_121\n",
      "dtype before:  float64\n",
      "dtype after:  float32\n",
      "******************************\n",
      "******************************\n",
      "Column:  var_122\n",
      "dtype before:  float64\n",
      "dtype after:  float32\n",
      "******************************\n",
      "******************************\n",
      "Column:  var_123\n",
      "dtype before:  float64\n",
      "dtype after:  float32\n",
      "******************************\n",
      "******************************\n",
      "Column:  var_124\n",
      "dtype before:  float64\n",
      "dtype after:  float32\n",
      "******************************\n",
      "******************************\n",
      "Column:  var_125\n",
      "dtype before:  float64\n",
      "dtype after:  float32\n",
      "******************************\n",
      "******************************\n",
      "Column:  var_126\n",
      "dtype before:  float64\n",
      "dtype after:  float32\n",
      "******************************\n",
      "******************************\n",
      "Column:  var_127\n",
      "dtype before:  float64\n",
      "dtype after:  float32\n",
      "******************************\n",
      "******************************\n",
      "Column:  var_128\n",
      "dtype before:  float64\n",
      "dtype after:  float32\n",
      "******************************\n",
      "******************************\n",
      "Column:  var_129\n",
      "dtype before:  float64\n",
      "dtype after:  float32\n",
      "******************************\n",
      "******************************\n",
      "Column:  var_130\n",
      "dtype before:  float64\n",
      "dtype after:  float32\n",
      "******************************\n",
      "******************************\n",
      "Column:  var_131\n",
      "dtype before:  float64\n",
      "dtype after:  float32\n",
      "******************************\n",
      "******************************\n",
      "Column:  var_132\n",
      "dtype before:  float64\n",
      "dtype after:  float32\n",
      "******************************\n",
      "******************************\n",
      "Column:  var_133\n",
      "dtype before:  float64\n",
      "dtype after:  float32\n",
      "******************************\n",
      "******************************\n",
      "Column:  var_134\n",
      "dtype before:  float64\n",
      "dtype after:  float32\n",
      "******************************\n",
      "******************************\n",
      "Column:  var_135\n",
      "dtype before:  float64\n",
      "dtype after:  float32\n",
      "******************************\n",
      "******************************\n",
      "Column:  var_136\n",
      "dtype before:  float64\n",
      "dtype after:  float32\n",
      "******************************\n",
      "******************************\n",
      "Column:  var_137\n",
      "dtype before:  float64\n",
      "dtype after:  float32\n",
      "******************************\n",
      "******************************\n",
      "Column:  var_138\n",
      "dtype before:  float64\n",
      "dtype after:  float32\n",
      "******************************\n",
      "******************************\n",
      "Column:  var_139\n",
      "dtype before:  float64\n",
      "dtype after:  float32\n",
      "******************************\n",
      "******************************\n",
      "Column:  var_140\n",
      "dtype before:  float64\n",
      "dtype after:  float32\n",
      "******************************\n",
      "******************************\n",
      "Column:  var_141\n",
      "dtype before:  float64\n",
      "dtype after:  float32\n",
      "******************************\n",
      "******************************\n",
      "Column:  var_142\n",
      "dtype before:  float64\n",
      "dtype after:  float32\n",
      "******************************\n",
      "******************************\n",
      "Column:  var_143\n",
      "dtype before:  float64\n",
      "dtype after:  float32\n",
      "******************************\n",
      "******************************\n",
      "Column:  var_144\n",
      "dtype before:  float64\n",
      "dtype after:  float32\n",
      "******************************\n",
      "******************************\n",
      "Column:  var_145\n",
      "dtype before:  float64\n",
      "dtype after:  float32\n",
      "******************************\n",
      "******************************\n",
      "Column:  var_146\n",
      "dtype before:  float64\n",
      "dtype after:  float32\n",
      "******************************\n",
      "******************************\n",
      "Column:  var_147\n",
      "dtype before:  float64\n",
      "dtype after:  float32\n",
      "******************************\n",
      "******************************\n",
      "Column:  var_148\n",
      "dtype before:  float64\n",
      "dtype after:  float32\n",
      "******************************\n",
      "******************************\n",
      "Column:  var_149\n",
      "dtype before:  float64\n",
      "dtype after:  float32\n",
      "******************************\n",
      "******************************\n",
      "Column:  var_150\n",
      "dtype before:  float64\n",
      "dtype after:  float32\n",
      "******************************\n",
      "******************************\n",
      "Column:  var_151\n",
      "dtype before:  float64\n",
      "dtype after:  float32\n",
      "******************************\n",
      "******************************\n",
      "Column:  var_152\n",
      "dtype before:  float64\n",
      "dtype after:  float32\n",
      "******************************\n",
      "******************************\n",
      "Column:  var_153\n",
      "dtype before:  float64\n",
      "dtype after:  float32\n",
      "******************************\n",
      "******************************\n",
      "Column:  var_154\n",
      "dtype before:  float64\n",
      "dtype after:  float32\n",
      "******************************\n",
      "******************************\n",
      "Column:  var_155\n",
      "dtype before:  float64\n",
      "dtype after:  float32\n",
      "******************************\n",
      "******************************\n",
      "Column:  var_156\n",
      "dtype before:  float64\n",
      "dtype after:  float32\n",
      "******************************\n",
      "******************************\n",
      "Column:  var_157\n",
      "dtype before:  float64\n",
      "dtype after:  float32\n",
      "******************************\n",
      "******************************\n",
      "Column:  var_158\n",
      "dtype before:  float64\n",
      "dtype after:  float32\n",
      "******************************\n",
      "******************************\n",
      "Column:  var_159\n",
      "dtype before:  float64\n",
      "dtype after:  float32\n",
      "******************************\n",
      "******************************\n",
      "Column:  var_160\n",
      "dtype before:  float64\n",
      "dtype after:  float32\n",
      "******************************\n",
      "******************************\n",
      "Column:  var_161\n",
      "dtype before:  float64\n",
      "dtype after:  float32\n",
      "******************************\n",
      "******************************\n",
      "Column:  var_162\n",
      "dtype before:  float64\n",
      "dtype after:  float32\n",
      "******************************\n",
      "******************************\n",
      "Column:  var_163\n",
      "dtype before:  float64\n",
      "dtype after:  float32\n",
      "******************************\n",
      "******************************\n",
      "Column:  var_164\n",
      "dtype before:  float64\n",
      "dtype after:  float32\n",
      "******************************\n",
      "******************************\n",
      "Column:  var_165\n",
      "dtype before:  float64\n",
      "dtype after:  float32\n",
      "******************************\n",
      "******************************\n",
      "Column:  var_166\n",
      "dtype before:  float64\n",
      "dtype after:  float32\n",
      "******************************\n",
      "******************************\n",
      "Column:  var_167\n",
      "dtype before:  float64\n",
      "dtype after:  float32\n",
      "******************************\n",
      "******************************\n",
      "Column:  var_168\n",
      "dtype before:  float64\n",
      "dtype after:  float32\n",
      "******************************\n",
      "******************************\n",
      "Column:  var_169\n",
      "dtype before:  float64\n",
      "dtype after:  float32\n",
      "******************************\n",
      "******************************\n",
      "Column:  var_170\n",
      "dtype before:  float64\n",
      "dtype after:  float32\n",
      "******************************\n",
      "******************************\n",
      "Column:  var_171\n",
      "dtype before:  float64\n",
      "dtype after:  float32\n",
      "******************************\n",
      "******************************\n",
      "Column:  var_172\n",
      "dtype before:  float64\n",
      "dtype after:  float32\n",
      "******************************\n",
      "******************************\n",
      "Column:  var_173\n",
      "dtype before:  float64\n",
      "dtype after:  float32\n",
      "******************************\n",
      "******************************\n",
      "Column:  var_174\n",
      "dtype before:  float64\n",
      "dtype after:  float32\n",
      "******************************\n",
      "******************************\n",
      "Column:  var_175\n",
      "dtype before:  float64\n",
      "dtype after:  float32\n",
      "******************************\n",
      "******************************\n",
      "Column:  var_176\n",
      "dtype before:  float64\n",
      "dtype after:  float32\n",
      "******************************\n",
      "******************************\n",
      "Column:  var_177\n",
      "dtype before:  float64\n",
      "dtype after:  float32\n",
      "******************************\n",
      "******************************\n",
      "Column:  var_178\n",
      "dtype before:  float64\n",
      "dtype after:  float32\n",
      "******************************\n",
      "******************************\n",
      "Column:  var_179\n",
      "dtype before:  float64\n",
      "dtype after:  float32\n",
      "******************************\n",
      "******************************\n",
      "Column:  var_180\n",
      "dtype before:  float64\n",
      "dtype after:  float32\n",
      "******************************\n",
      "******************************\n",
      "Column:  var_181\n",
      "dtype before:  float64\n",
      "dtype after:  float32\n",
      "******************************\n",
      "******************************\n",
      "Column:  var_182\n",
      "dtype before:  float64\n",
      "dtype after:  float32\n",
      "******************************\n",
      "******************************\n",
      "Column:  var_183\n",
      "dtype before:  float64\n",
      "dtype after:  float32\n",
      "******************************\n",
      "******************************\n",
      "Column:  var_184\n",
      "dtype before:  float64\n",
      "dtype after:  float32\n",
      "******************************\n",
      "******************************\n",
      "Column:  var_185\n",
      "dtype before:  float64\n",
      "dtype after:  float32\n",
      "******************************\n",
      "******************************\n",
      "Column:  var_186\n",
      "dtype before:  float64\n",
      "dtype after:  float32\n",
      "******************************\n",
      "******************************\n",
      "Column:  var_187\n",
      "dtype before:  float64\n",
      "dtype after:  float32\n",
      "******************************\n",
      "******************************\n",
      "Column:  var_188\n",
      "dtype before:  float64\n",
      "dtype after:  float32\n",
      "******************************\n",
      "******************************\n",
      "Column:  var_189\n",
      "dtype before:  float64\n",
      "dtype after:  float32\n",
      "******************************\n",
      "******************************\n",
      "Column:  var_190\n",
      "dtype before:  float64\n",
      "dtype after:  float32\n",
      "******************************\n",
      "******************************\n",
      "Column:  var_191\n",
      "dtype before:  float64\n",
      "dtype after:  float32\n",
      "******************************\n",
      "******************************\n",
      "Column:  var_192\n",
      "dtype before:  float64\n",
      "dtype after:  float32\n",
      "******************************\n",
      "******************************\n",
      "Column:  var_193\n",
      "dtype before:  float64\n",
      "dtype after:  float32\n",
      "******************************\n",
      "******************************\n",
      "Column:  var_194\n",
      "dtype before:  float64\n",
      "dtype after:  float32\n",
      "******************************\n",
      "******************************\n",
      "Column:  var_195\n",
      "dtype before:  float64\n",
      "dtype after:  float32\n",
      "******************************\n",
      "******************************\n",
      "Column:  var_196\n",
      "dtype before:  float64\n",
      "dtype after:  float32\n",
      "******************************\n",
      "******************************\n",
      "Column:  var_197\n",
      "dtype before:  float64\n",
      "dtype after:  float32\n",
      "******************************\n",
      "******************************\n",
      "Column:  var_198\n",
      "dtype before:  float64\n",
      "dtype after:  float32\n",
      "******************************\n",
      "******************************\n",
      "Column:  var_199\n",
      "dtype before:  float64\n",
      "dtype after:  float32\n",
      "******************************\n",
      "___MEMORY USAGE AFTER COMPLETION:___\n",
      "Memory usage is:  154.30458068847656  MB\n",
      "This is  50.06189354903625 % of the initial size\n",
      "_________________\n",
      "\n",
      "Warning: the following columns have missing values filled with 'df['column_name'].min() -1': \n",
      "_________________\n",
      "\n",
      "[]\n"
     ]
    }
   ],
   "source": [
    "train, NAlist = reduce_mem_usage(train)\n",
    "print(\"_________________\")\n",
    "print(\"\")\n",
    "print(\"Warning: the following columns have missing values filled with 'df['column_name'].min() -1': \")\n",
    "print(\"_________________\")\n",
    "print(\"\")\n",
    "print(NAlist)"
   ]
  },
  {
   "cell_type": "markdown",
   "metadata": {
    "_uuid": "e253fac41b697bf73e023cce713614c7b11ebc5f"
   },
   "source": [
    "Reducing for test data set"
   ]
  },
  {
   "cell_type": "code",
   "execution_count": 12,
   "metadata": {
    "_kg_hide-output": true,
    "_uuid": "1f98948df6ead687a7d615984ddb4420baac99ff"
   },
   "outputs": [
    {
     "name": "stdout",
     "output_type": "stream",
     "text": [
      "Memory usage of properties dataframe is : 306.7017364501953  MB\n",
      "******************************\n",
      "Column:  var_0\n",
      "dtype before:  float64\n",
      "dtype after:  float32\n",
      "******************************\n",
      "******************************\n",
      "Column:  var_1\n",
      "dtype before:  float64\n",
      "dtype after:  float32\n",
      "******************************\n",
      "******************************\n",
      "Column:  var_2\n",
      "dtype before:  float64\n",
      "dtype after:  float32\n",
      "******************************\n",
      "******************************\n",
      "Column:  var_3\n",
      "dtype before:  float64\n",
      "dtype after:  float32\n",
      "******************************\n",
      "******************************\n",
      "Column:  var_4\n",
      "dtype before:  float64\n",
      "dtype after:  float32\n",
      "******************************\n",
      "******************************\n",
      "Column:  var_5\n",
      "dtype before:  float64\n",
      "dtype after:  float32\n",
      "******************************\n",
      "******************************\n",
      "Column:  var_6\n",
      "dtype before:  float64\n",
      "dtype after:  float32\n",
      "******************************\n",
      "******************************\n",
      "Column:  var_7\n",
      "dtype before:  float64\n",
      "dtype after:  float32\n",
      "******************************\n",
      "******************************\n",
      "Column:  var_8\n",
      "dtype before:  float64\n",
      "dtype after:  float32\n",
      "******************************\n",
      "******************************\n",
      "Column:  var_9\n",
      "dtype before:  float64\n",
      "dtype after:  float32\n",
      "******************************\n",
      "******************************\n",
      "Column:  var_10\n",
      "dtype before:  float64\n",
      "dtype after:  float32\n",
      "******************************\n",
      "******************************\n",
      "Column:  var_11\n",
      "dtype before:  float64\n",
      "dtype after:  float32\n",
      "******************************\n",
      "******************************\n",
      "Column:  var_12\n",
      "dtype before:  float64\n",
      "dtype after:  float32\n",
      "******************************\n",
      "******************************\n",
      "Column:  var_13\n",
      "dtype before:  float64\n",
      "dtype after:  float32\n",
      "******************************\n",
      "******************************\n",
      "Column:  var_14\n",
      "dtype before:  float64\n",
      "dtype after:  float32\n",
      "******************************\n",
      "******************************\n",
      "Column:  var_15\n",
      "dtype before:  float64\n",
      "dtype after:  float32\n",
      "******************************\n",
      "******************************\n",
      "Column:  var_16\n",
      "dtype before:  float64\n",
      "dtype after:  float32\n",
      "******************************\n",
      "******************************\n",
      "Column:  var_17\n",
      "dtype before:  float64\n",
      "dtype after:  float32\n",
      "******************************\n",
      "******************************\n",
      "Column:  var_18\n",
      "dtype before:  float64\n",
      "dtype after:  float32\n",
      "******************************\n",
      "******************************\n",
      "Column:  var_19\n",
      "dtype before:  float64\n",
      "dtype after:  float32\n",
      "******************************\n",
      "******************************\n",
      "Column:  var_20\n",
      "dtype before:  float64\n",
      "dtype after:  float32\n",
      "******************************\n",
      "******************************\n",
      "Column:  var_21\n",
      "dtype before:  float64\n",
      "dtype after:  float32\n",
      "******************************\n",
      "******************************\n",
      "Column:  var_22\n",
      "dtype before:  float64\n",
      "dtype after:  float32\n",
      "******************************\n",
      "******************************\n",
      "Column:  var_23\n",
      "dtype before:  float64\n",
      "dtype after:  float32\n",
      "******************************\n",
      "******************************\n",
      "Column:  var_24\n",
      "dtype before:  float64\n",
      "dtype after:  float32\n",
      "******************************\n",
      "******************************\n",
      "Column:  var_25\n",
      "dtype before:  float64\n",
      "dtype after:  float32\n",
      "******************************\n",
      "******************************\n",
      "Column:  var_26\n",
      "dtype before:  float64\n",
      "dtype after:  float32\n",
      "******************************\n",
      "******************************\n",
      "Column:  var_27\n",
      "dtype before:  float64\n",
      "dtype after:  float32\n",
      "******************************\n",
      "******************************\n",
      "Column:  var_28\n",
      "dtype before:  float64\n",
      "dtype after:  float32\n",
      "******************************\n",
      "******************************\n",
      "Column:  var_29\n",
      "dtype before:  float64\n",
      "dtype after:  float32\n",
      "******************************\n",
      "******************************\n",
      "Column:  var_30\n",
      "dtype before:  float64\n",
      "dtype after:  float32\n",
      "******************************\n",
      "******************************\n",
      "Column:  var_31\n",
      "dtype before:  float64\n",
      "dtype after:  float32\n",
      "******************************\n",
      "******************************\n",
      "Column:  var_32\n",
      "dtype before:  float64\n",
      "dtype after:  float32\n",
      "******************************\n",
      "******************************\n",
      "Column:  var_33\n",
      "dtype before:  float64\n",
      "dtype after:  float32\n",
      "******************************\n",
      "******************************\n",
      "Column:  var_34\n",
      "dtype before:  float64\n",
      "dtype after:  float32\n",
      "******************************\n",
      "******************************\n",
      "Column:  var_35\n",
      "dtype before:  float64\n",
      "dtype after:  float32\n",
      "******************************\n",
      "******************************\n",
      "Column:  var_36\n",
      "dtype before:  float64\n",
      "dtype after:  float32\n",
      "******************************\n",
      "******************************\n",
      "Column:  var_37\n",
      "dtype before:  float64\n",
      "dtype after:  float32\n",
      "******************************\n",
      "******************************\n",
      "Column:  var_38\n",
      "dtype before:  float64\n",
      "dtype after:  float32\n",
      "******************************\n",
      "******************************\n",
      "Column:  var_39\n",
      "dtype before:  float64\n",
      "dtype after:  float32\n",
      "******************************\n",
      "******************************\n",
      "Column:  var_40\n",
      "dtype before:  float64\n",
      "dtype after:  float32\n",
      "******************************\n",
      "******************************\n",
      "Column:  var_41\n",
      "dtype before:  float64\n",
      "dtype after:  float32\n",
      "******************************\n",
      "******************************\n",
      "Column:  var_42\n",
      "dtype before:  float64\n",
      "dtype after:  float32\n",
      "******************************\n",
      "******************************\n",
      "Column:  var_43\n",
      "dtype before:  float64\n",
      "dtype after:  float32\n",
      "******************************\n",
      "******************************\n",
      "Column:  var_44\n",
      "dtype before:  float64\n",
      "dtype after:  float32\n",
      "******************************\n",
      "******************************\n",
      "Column:  var_45\n",
      "dtype before:  float64\n",
      "dtype after:  float32\n",
      "******************************\n",
      "******************************\n",
      "Column:  var_46\n",
      "dtype before:  float64\n",
      "dtype after:  float32\n",
      "******************************\n",
      "******************************\n",
      "Column:  var_47\n",
      "dtype before:  float64\n",
      "dtype after:  float32\n",
      "******************************\n",
      "******************************\n",
      "Column:  var_48\n",
      "dtype before:  float64\n",
      "dtype after:  float32\n",
      "******************************\n",
      "******************************\n",
      "Column:  var_49\n",
      "dtype before:  float64\n",
      "dtype after:  float32\n",
      "******************************\n",
      "******************************\n",
      "Column:  var_50\n",
      "dtype before:  float64\n",
      "dtype after:  float32\n",
      "******************************\n",
      "******************************\n",
      "Column:  var_51\n",
      "dtype before:  float64\n",
      "dtype after:  float32\n",
      "******************************\n",
      "******************************\n",
      "Column:  var_52\n",
      "dtype before:  float64\n",
      "dtype after:  float32\n",
      "******************************\n",
      "******************************\n",
      "Column:  var_53\n",
      "dtype before:  float64\n",
      "dtype after:  float32\n",
      "******************************\n",
      "******************************\n",
      "Column:  var_54\n",
      "dtype before:  float64\n",
      "dtype after:  float32\n",
      "******************************\n",
      "******************************\n",
      "Column:  var_55\n",
      "dtype before:  float64\n",
      "dtype after:  float32\n",
      "******************************\n",
      "******************************\n",
      "Column:  var_56\n",
      "dtype before:  float64\n",
      "dtype after:  float32\n",
      "******************************\n",
      "******************************\n",
      "Column:  var_57\n",
      "dtype before:  float64\n",
      "dtype after:  float32\n",
      "******************************\n",
      "******************************\n",
      "Column:  var_58\n",
      "dtype before:  float64\n",
      "dtype after:  float32\n",
      "******************************\n",
      "******************************\n",
      "Column:  var_59\n",
      "dtype before:  float64\n",
      "dtype after:  float32\n",
      "******************************\n",
      "******************************\n",
      "Column:  var_60\n",
      "dtype before:  float64\n",
      "dtype after:  float32\n",
      "******************************\n",
      "******************************\n",
      "Column:  var_61\n",
      "dtype before:  float64\n",
      "dtype after:  float32\n",
      "******************************\n",
      "******************************\n",
      "Column:  var_62\n",
      "dtype before:  float64\n",
      "dtype after:  float32\n",
      "******************************\n",
      "******************************\n",
      "Column:  var_63\n",
      "dtype before:  float64\n",
      "dtype after:  float32\n",
      "******************************\n",
      "******************************\n",
      "Column:  var_64\n",
      "dtype before:  float64\n",
      "dtype after:  float32\n",
      "******************************\n",
      "******************************\n",
      "Column:  var_65\n",
      "dtype before:  float64\n",
      "dtype after:  float32\n",
      "******************************\n",
      "******************************\n",
      "Column:  var_66\n",
      "dtype before:  float64\n",
      "dtype after:  float32\n",
      "******************************\n",
      "******************************\n",
      "Column:  var_67\n",
      "dtype before:  float64\n",
      "dtype after:  float32\n",
      "******************************\n",
      "******************************\n",
      "Column:  var_68\n",
      "dtype before:  float64\n",
      "dtype after:  float32\n",
      "******************************\n",
      "******************************\n",
      "Column:  var_69\n",
      "dtype before:  float64\n",
      "dtype after:  float32\n",
      "******************************\n",
      "******************************\n",
      "Column:  var_70\n",
      "dtype before:  float64\n",
      "dtype after:  float32\n",
      "******************************\n",
      "******************************\n",
      "Column:  var_71\n",
      "dtype before:  float64\n",
      "dtype after:  float32\n",
      "******************************\n",
      "******************************\n",
      "Column:  var_72\n",
      "dtype before:  float64\n",
      "dtype after:  float32\n",
      "******************************\n",
      "******************************\n",
      "Column:  var_73\n",
      "dtype before:  float64\n",
      "dtype after:  float32\n",
      "******************************\n",
      "******************************\n",
      "Column:  var_74\n",
      "dtype before:  float64\n",
      "dtype after:  float32\n",
      "******************************\n",
      "******************************\n",
      "Column:  var_75\n",
      "dtype before:  float64\n",
      "dtype after:  float32\n",
      "******************************\n",
      "******************************\n",
      "Column:  var_76\n",
      "dtype before:  float64\n",
      "dtype after:  float32\n",
      "******************************\n",
      "******************************\n",
      "Column:  var_77\n",
      "dtype before:  float64\n",
      "dtype after:  float32\n",
      "******************************\n",
      "******************************\n",
      "Column:  var_78\n",
      "dtype before:  float64\n",
      "dtype after:  float32\n",
      "******************************\n",
      "******************************\n",
      "Column:  var_79\n",
      "dtype before:  float64\n",
      "dtype after:  float32\n",
      "******************************\n",
      "******************************\n",
      "Column:  var_80\n",
      "dtype before:  float64\n",
      "dtype after:  float32\n",
      "******************************\n",
      "******************************\n",
      "Column:  var_81\n",
      "dtype before:  float64\n",
      "dtype after:  float32\n",
      "******************************\n",
      "******************************\n",
      "Column:  var_82\n",
      "dtype before:  float64\n",
      "dtype after:  float32\n",
      "******************************\n",
      "******************************\n",
      "Column:  var_83\n",
      "dtype before:  float64\n",
      "dtype after:  float32\n",
      "******************************\n",
      "******************************\n",
      "Column:  var_84\n",
      "dtype before:  float64\n",
      "dtype after:  float32\n",
      "******************************\n",
      "******************************\n",
      "Column:  var_85\n",
      "dtype before:  float64\n",
      "dtype after:  float32\n",
      "******************************\n",
      "******************************\n",
      "Column:  var_86\n",
      "dtype before:  float64\n",
      "dtype after:  float32\n",
      "******************************\n",
      "******************************\n",
      "Column:  var_87\n",
      "dtype before:  float64\n",
      "dtype after:  float32\n",
      "******************************\n",
      "******************************\n",
      "Column:  var_88\n",
      "dtype before:  float64\n",
      "dtype after:  float32\n",
      "******************************\n",
      "******************************\n",
      "Column:  var_89\n",
      "dtype before:  float64\n",
      "dtype after:  float32\n",
      "******************************\n",
      "******************************\n",
      "Column:  var_90\n",
      "dtype before:  float64\n",
      "dtype after:  float32\n",
      "******************************\n",
      "******************************\n",
      "Column:  var_91\n",
      "dtype before:  float64\n",
      "dtype after:  float32\n",
      "******************************\n",
      "******************************\n",
      "Column:  var_92\n",
      "dtype before:  float64\n",
      "dtype after:  float32\n",
      "******************************\n",
      "******************************\n",
      "Column:  var_93\n",
      "dtype before:  float64\n",
      "dtype after:  float32\n",
      "******************************\n",
      "******************************\n",
      "Column:  var_94\n",
      "dtype before:  float64\n",
      "dtype after:  float32\n",
      "******************************\n",
      "******************************\n",
      "Column:  var_95\n",
      "dtype before:  float64\n",
      "dtype after:  float32\n",
      "******************************\n",
      "******************************\n",
      "Column:  var_96\n",
      "dtype before:  float64\n",
      "dtype after:  float32\n",
      "******************************\n",
      "******************************\n",
      "Column:  var_97\n",
      "dtype before:  float64\n",
      "dtype after:  float32\n",
      "******************************\n",
      "******************************\n",
      "Column:  var_98\n",
      "dtype before:  float64\n",
      "dtype after:  float32\n",
      "******************************\n",
      "******************************\n",
      "Column:  var_99\n",
      "dtype before:  float64\n",
      "dtype after:  float32\n",
      "******************************\n",
      "******************************\n",
      "Column:  var_100\n",
      "dtype before:  float64\n",
      "dtype after:  float32\n",
      "******************************\n",
      "******************************\n",
      "Column:  var_101\n",
      "dtype before:  float64\n",
      "dtype after:  float32\n",
      "******************************\n",
      "******************************\n",
      "Column:  var_102\n",
      "dtype before:  float64\n",
      "dtype after:  float32\n",
      "******************************\n",
      "******************************\n",
      "Column:  var_103\n",
      "dtype before:  float64\n",
      "dtype after:  float32\n",
      "******************************\n",
      "******************************\n",
      "Column:  var_104\n",
      "dtype before:  float64\n",
      "dtype after:  float32\n",
      "******************************\n",
      "******************************\n",
      "Column:  var_105\n",
      "dtype before:  float64\n",
      "dtype after:  float32\n",
      "******************************\n",
      "******************************\n",
      "Column:  var_106\n",
      "dtype before:  float64\n",
      "dtype after:  float32\n",
      "******************************\n",
      "******************************\n",
      "Column:  var_107\n",
      "dtype before:  float64\n",
      "dtype after:  float32\n",
      "******************************\n",
      "******************************\n",
      "Column:  var_108\n",
      "dtype before:  float64\n",
      "dtype after:  float32\n",
      "******************************\n",
      "******************************\n",
      "Column:  var_109\n",
      "dtype before:  float64\n",
      "dtype after:  float32\n",
      "******************************\n",
      "******************************\n",
      "Column:  var_110\n",
      "dtype before:  float64\n",
      "dtype after:  float32\n",
      "******************************\n",
      "******************************\n",
      "Column:  var_111\n",
      "dtype before:  float64\n",
      "dtype after:  float32\n",
      "******************************\n",
      "******************************\n",
      "Column:  var_112\n",
      "dtype before:  float64\n",
      "dtype after:  float32\n",
      "******************************\n",
      "******************************\n",
      "Column:  var_113\n",
      "dtype before:  float64\n",
      "dtype after:  float32\n",
      "******************************\n",
      "******************************\n",
      "Column:  var_114\n",
      "dtype before:  float64\n",
      "dtype after:  float32\n",
      "******************************\n",
      "******************************\n",
      "Column:  var_115\n",
      "dtype before:  float64\n",
      "dtype after:  float32\n",
      "******************************\n",
      "******************************\n",
      "Column:  var_116\n",
      "dtype before:  float64\n",
      "dtype after:  float32\n",
      "******************************\n",
      "******************************\n",
      "Column:  var_117\n",
      "dtype before:  float64\n",
      "dtype after:  float32\n",
      "******************************\n",
      "******************************\n",
      "Column:  var_118\n",
      "dtype before:  float64\n",
      "dtype after:  float32\n",
      "******************************\n",
      "******************************\n",
      "Column:  var_119\n",
      "dtype before:  float64\n",
      "dtype after:  float32\n",
      "******************************\n",
      "******************************\n",
      "Column:  var_120\n",
      "dtype before:  float64\n",
      "dtype after:  float32\n",
      "******************************\n",
      "******************************\n",
      "Column:  var_121\n",
      "dtype before:  float64\n",
      "dtype after:  float32\n",
      "******************************\n",
      "******************************\n",
      "Column:  var_122\n",
      "dtype before:  float64\n",
      "dtype after:  float32\n",
      "******************************\n",
      "******************************\n",
      "Column:  var_123\n",
      "dtype before:  float64\n",
      "dtype after:  float32\n",
      "******************************\n",
      "******************************\n",
      "Column:  var_124\n",
      "dtype before:  float64\n",
      "dtype after:  float32\n",
      "******************************\n",
      "******************************\n",
      "Column:  var_125\n",
      "dtype before:  float64\n",
      "dtype after:  float32\n",
      "******************************\n",
      "******************************\n",
      "Column:  var_126\n",
      "dtype before:  float64\n",
      "dtype after:  float32\n",
      "******************************\n",
      "******************************\n",
      "Column:  var_127\n",
      "dtype before:  float64\n",
      "dtype after:  float32\n",
      "******************************\n",
      "******************************\n",
      "Column:  var_128\n",
      "dtype before:  float64\n",
      "dtype after:  float32\n",
      "******************************\n",
      "******************************\n",
      "Column:  var_129\n",
      "dtype before:  float64\n",
      "dtype after:  float32\n",
      "******************************\n",
      "******************************\n",
      "Column:  var_130\n",
      "dtype before:  float64\n",
      "dtype after:  float32\n",
      "******************************\n",
      "******************************\n",
      "Column:  var_131\n",
      "dtype before:  float64\n",
      "dtype after:  float32\n",
      "******************************\n",
      "******************************\n",
      "Column:  var_132\n",
      "dtype before:  float64\n",
      "dtype after:  float32\n",
      "******************************\n",
      "******************************\n",
      "Column:  var_133\n",
      "dtype before:  float64\n",
      "dtype after:  float32\n",
      "******************************\n",
      "******************************\n",
      "Column:  var_134\n",
      "dtype before:  float64\n",
      "dtype after:  float32\n",
      "******************************\n",
      "******************************\n",
      "Column:  var_135\n",
      "dtype before:  float64\n",
      "dtype after:  float32\n",
      "******************************\n",
      "******************************\n",
      "Column:  var_136\n",
      "dtype before:  float64\n",
      "dtype after:  float32\n",
      "******************************\n",
      "******************************\n",
      "Column:  var_137\n",
      "dtype before:  float64\n",
      "dtype after:  float32\n",
      "******************************\n",
      "******************************\n",
      "Column:  var_138\n",
      "dtype before:  float64\n",
      "dtype after:  float32\n",
      "******************************\n",
      "******************************\n",
      "Column:  var_139\n",
      "dtype before:  float64\n",
      "dtype after:  float32\n",
      "******************************\n",
      "******************************\n",
      "Column:  var_140\n",
      "dtype before:  float64\n",
      "dtype after:  float32\n",
      "******************************\n",
      "******************************\n",
      "Column:  var_141\n",
      "dtype before:  float64\n",
      "dtype after:  float32\n",
      "******************************\n",
      "******************************\n",
      "Column:  var_142\n",
      "dtype before:  float64\n",
      "dtype after:  float32\n",
      "******************************\n",
      "******************************\n",
      "Column:  var_143\n",
      "dtype before:  float64\n",
      "dtype after:  float32\n",
      "******************************\n",
      "******************************\n",
      "Column:  var_144\n",
      "dtype before:  float64\n",
      "dtype after:  float32\n",
      "******************************\n",
      "******************************\n",
      "Column:  var_145\n",
      "dtype before:  float64\n",
      "dtype after:  float32\n",
      "******************************\n",
      "******************************\n",
      "Column:  var_146\n",
      "dtype before:  float64\n",
      "dtype after:  float32\n",
      "******************************\n",
      "******************************\n",
      "Column:  var_147\n",
      "dtype before:  float64\n",
      "dtype after:  float32\n",
      "******************************\n",
      "******************************\n",
      "Column:  var_148\n",
      "dtype before:  float64\n",
      "dtype after:  float32\n",
      "******************************\n",
      "******************************\n",
      "Column:  var_149\n",
      "dtype before:  float64\n",
      "dtype after:  float32\n",
      "******************************\n",
      "******************************\n",
      "Column:  var_150\n",
      "dtype before:  float64\n",
      "dtype after:  float32\n",
      "******************************\n",
      "******************************\n",
      "Column:  var_151\n",
      "dtype before:  float64\n",
      "dtype after:  float32\n",
      "******************************\n",
      "******************************\n",
      "Column:  var_152\n",
      "dtype before:  float64\n",
      "dtype after:  float32\n",
      "******************************\n",
      "******************************\n",
      "Column:  var_153\n",
      "dtype before:  float64\n",
      "dtype after:  float32\n",
      "******************************\n",
      "******************************\n",
      "Column:  var_154\n",
      "dtype before:  float64\n",
      "dtype after:  float32\n",
      "******************************\n",
      "******************************\n",
      "Column:  var_155\n",
      "dtype before:  float64\n",
      "dtype after:  float32\n",
      "******************************\n",
      "******************************\n",
      "Column:  var_156\n",
      "dtype before:  float64\n",
      "dtype after:  float32\n",
      "******************************\n",
      "******************************\n",
      "Column:  var_157\n",
      "dtype before:  float64\n",
      "dtype after:  float32\n",
      "******************************\n",
      "******************************\n",
      "Column:  var_158\n",
      "dtype before:  float64\n",
      "dtype after:  float32\n",
      "******************************\n",
      "******************************\n",
      "Column:  var_159\n",
      "dtype before:  float64\n",
      "dtype after:  float32\n",
      "******************************\n",
      "******************************\n",
      "Column:  var_160\n",
      "dtype before:  float64\n",
      "dtype after:  float32\n",
      "******************************\n",
      "******************************\n",
      "Column:  var_161\n",
      "dtype before:  float64\n",
      "dtype after:  float32\n",
      "******************************\n",
      "******************************\n",
      "Column:  var_162\n",
      "dtype before:  float64\n",
      "dtype after:  float32\n",
      "******************************\n",
      "******************************\n",
      "Column:  var_163\n",
      "dtype before:  float64\n",
      "dtype after:  float32\n",
      "******************************\n",
      "******************************\n",
      "Column:  var_164\n",
      "dtype before:  float64\n",
      "dtype after:  float32\n",
      "******************************\n",
      "******************************\n",
      "Column:  var_165\n",
      "dtype before:  float64\n",
      "dtype after:  float32\n",
      "******************************\n",
      "******************************\n",
      "Column:  var_166\n",
      "dtype before:  float64\n",
      "dtype after:  float32\n",
      "******************************\n",
      "******************************\n",
      "Column:  var_167\n",
      "dtype before:  float64\n",
      "dtype after:  float32\n",
      "******************************\n",
      "******************************\n",
      "Column:  var_168\n",
      "dtype before:  float64\n",
      "dtype after:  float32\n",
      "******************************\n",
      "******************************\n",
      "Column:  var_169\n",
      "dtype before:  float64\n",
      "dtype after:  float32\n",
      "******************************\n",
      "******************************\n",
      "Column:  var_170\n",
      "dtype before:  float64\n",
      "dtype after:  float32\n",
      "******************************\n",
      "******************************\n",
      "Column:  var_171\n",
      "dtype before:  float64\n",
      "dtype after:  float32\n",
      "******************************\n",
      "******************************\n",
      "Column:  var_172\n",
      "dtype before:  float64\n",
      "dtype after:  float32\n",
      "******************************\n",
      "******************************\n",
      "Column:  var_173\n",
      "dtype before:  float64\n",
      "dtype after:  float32\n",
      "******************************\n",
      "******************************\n",
      "Column:  var_174\n",
      "dtype before:  float64\n",
      "dtype after:  float32\n",
      "******************************\n",
      "******************************\n",
      "Column:  var_175\n",
      "dtype before:  float64\n",
      "dtype after:  float32\n",
      "******************************\n",
      "******************************\n",
      "Column:  var_176\n",
      "dtype before:  float64\n",
      "dtype after:  float32\n",
      "******************************\n",
      "******************************\n",
      "Column:  var_177\n",
      "dtype before:  float64\n",
      "dtype after:  float32\n",
      "******************************\n",
      "******************************\n",
      "Column:  var_178\n",
      "dtype before:  float64\n",
      "dtype after:  float32\n",
      "******************************\n",
      "******************************\n",
      "Column:  var_179\n",
      "dtype before:  float64\n",
      "dtype after:  float32\n",
      "******************************\n",
      "******************************\n",
      "Column:  var_180\n",
      "dtype before:  float64\n",
      "dtype after:  float32\n",
      "******************************\n",
      "******************************\n",
      "Column:  var_181\n",
      "dtype before:  float64\n",
      "dtype after:  float32\n",
      "******************************\n",
      "******************************\n",
      "Column:  var_182\n",
      "dtype before:  float64\n",
      "dtype after:  float32\n",
      "******************************\n",
      "******************************\n",
      "Column:  var_183\n",
      "dtype before:  float64\n",
      "dtype after:  float32\n",
      "******************************\n",
      "******************************\n",
      "Column:  var_184\n",
      "dtype before:  float64\n",
      "dtype after:  float32\n",
      "******************************\n",
      "******************************\n",
      "Column:  var_185\n",
      "dtype before:  float64\n",
      "dtype after:  float32\n",
      "******************************\n",
      "******************************\n",
      "Column:  var_186\n",
      "dtype before:  float64\n",
      "dtype after:  float32\n",
      "******************************\n",
      "******************************\n",
      "Column:  var_187\n",
      "dtype before:  float64\n",
      "dtype after:  float32\n",
      "******************************\n",
      "******************************\n",
      "Column:  var_188\n",
      "dtype before:  float64\n",
      "dtype after:  float32\n",
      "******************************\n",
      "******************************\n",
      "Column:  var_189\n",
      "dtype before:  float64\n",
      "dtype after:  float32\n",
      "******************************\n",
      "******************************\n",
      "Column:  var_190\n",
      "dtype before:  float64\n",
      "dtype after:  float32\n",
      "******************************\n",
      "******************************\n",
      "Column:  var_191\n",
      "dtype before:  float64\n",
      "dtype after:  float32\n",
      "******************************\n",
      "******************************\n",
      "Column:  var_192\n",
      "dtype before:  float64\n",
      "dtype after:  float32\n",
      "******************************\n",
      "******************************\n",
      "Column:  var_193\n",
      "dtype before:  float64\n",
      "dtype after:  float32\n",
      "******************************\n",
      "******************************\n",
      "Column:  var_194\n",
      "dtype before:  float64\n",
      "dtype after:  float32\n",
      "******************************\n",
      "******************************\n",
      "Column:  var_195\n",
      "dtype before:  float64\n",
      "dtype after:  float32\n",
      "******************************\n",
      "******************************\n",
      "Column:  var_196\n",
      "dtype before:  float64\n",
      "dtype after:  float32\n",
      "******************************\n",
      "******************************\n",
      "Column:  var_197\n",
      "dtype before:  float64\n",
      "dtype after:  float32\n",
      "******************************\n",
      "******************************\n",
      "Column:  var_198\n",
      "dtype before:  float64\n",
      "dtype after:  float32\n",
      "******************************\n",
      "******************************\n",
      "Column:  var_199\n",
      "dtype before:  float64\n",
      "dtype after:  float32\n",
      "******************************\n",
      "___MEMORY USAGE AFTER COMPLETION:___\n",
      "Memory usage is:  154.1138458251953  MB\n",
      "This is  50.248768594833685 % of the initial size\n",
      "_________________\n",
      "\n",
      "Warning: the following columns have missing values filled with 'df['column_name'].min() -1': \n",
      "_________________\n",
      "\n",
      "[]\n"
     ]
    }
   ],
   "source": [
    "test, NAlist = reduce_mem_usage(test)\n",
    "print(\"_________________\")\n",
    "print(\"\")\n",
    "print(\"Warning: the following columns have missing values filled with 'df['column_name'].min() -1': \")\n",
    "print(\"_________________\")\n",
    "print(\"\")\n",
    "print(NAlist)"
   ]
  },
  {
   "cell_type": "markdown",
   "metadata": {
    "_uuid": "3820345bbd08346359e699ead3f125f438dbaefc"
   },
   "source": [
    " <a id=\"41\"></a> <br>\n",
    "##   4-1-1Data set fields"
   ]
  },
  {
   "cell_type": "code",
   "execution_count": 13,
   "metadata": {
    "_kg_hide-output": true,
    "_uuid": "6e5f5d0a8e6057a19c41d0698c76cfa5f0e61202"
   },
   "outputs": [
    {
     "data": {
      "text/plain": [
       "Index(['ID_code', 'target', 'var_0', 'var_1', 'var_2', 'var_3', 'var_4',\n",
       "       'var_5', 'var_6', 'var_7',\n",
       "       ...\n",
       "       'var_190', 'var_191', 'var_192', 'var_193', 'var_194', 'var_195',\n",
       "       'var_196', 'var_197', 'var_198', 'var_199'],\n",
       "      dtype='object', length=202)"
      ]
     },
     "execution_count": 13,
     "metadata": {},
     "output_type": "execute_result"
    }
   ],
   "source": [
    "train.columns"
   ]
  },
  {
   "cell_type": "code",
   "execution_count": 14,
   "metadata": {
    "_uuid": "1d31392a34a8bba87565f4a00a44084641a28f5b"
   },
   "outputs": [
    {
     "name": "stdout",
     "output_type": "stream",
     "text": [
      "202\n"
     ]
    }
   ],
   "source": [
    "print(len(train.columns))"
   ]
  },
  {
   "cell_type": "code",
   "execution_count": 15,
   "metadata": {
    "_uuid": "2b8083e0022c342963869e609a65bae49cbe2d2a"
   },
   "outputs": [
    {
     "name": "stdout",
     "output_type": "stream",
     "text": [
      "<class 'pandas.core.frame.DataFrame'>\n",
      "RangeIndex: 200000 entries, 0 to 199999\n",
      "Columns: 202 entries, ID_code to var_199\n",
      "dtypes: float32(200), object(1), uint8(1)\n",
      "memory usage: 154.3+ MB\n",
      "None\n"
     ]
    }
   ],
   "source": [
    "print(train.info())"
   ]
  },
  {
   "cell_type": "markdown",
   "metadata": {
    "_uuid": "1292b57ec3e35831def62fa0a51aebac73df3b69"
   },
   "source": [
    " <a id=\"422\"></a> <br>\n",
    "## 4-2-2 numerical values Describe"
   ]
  },
  {
   "cell_type": "code",
   "execution_count": 16,
   "metadata": {
    "_kg_hide-input": false,
    "_uuid": "ca9ae169e960fddc581b8da1b15c7e79d8bbe972"
   },
   "outputs": [
    {
     "data": {
      "text/html": [
       "<div>\n",
       "<style scoped>\n",
       "    .dataframe tbody tr th:only-of-type {\n",
       "        vertical-align: middle;\n",
       "    }\n",
       "\n",
       "    .dataframe tbody tr th {\n",
       "        vertical-align: top;\n",
       "    }\n",
       "\n",
       "    .dataframe thead th {\n",
       "        text-align: right;\n",
       "    }\n",
       "</style>\n",
       "<table border=\"1\" class=\"dataframe\">\n",
       "  <thead>\n",
       "    <tr style=\"text-align: right;\">\n",
       "      <th></th>\n",
       "      <th>target</th>\n",
       "      <th>var_0</th>\n",
       "      <th>var_1</th>\n",
       "      <th>var_2</th>\n",
       "      <th>var_3</th>\n",
       "      <th>var_4</th>\n",
       "      <th>var_5</th>\n",
       "      <th>var_6</th>\n",
       "      <th>var_7</th>\n",
       "      <th>var_8</th>\n",
       "      <th>var_9</th>\n",
       "      <th>var_10</th>\n",
       "      <th>var_11</th>\n",
       "      <th>var_12</th>\n",
       "      <th>var_13</th>\n",
       "      <th>var_14</th>\n",
       "      <th>var_15</th>\n",
       "      <th>var_16</th>\n",
       "      <th>var_17</th>\n",
       "      <th>var_18</th>\n",
       "      <th>var_19</th>\n",
       "      <th>var_20</th>\n",
       "      <th>var_21</th>\n",
       "      <th>var_22</th>\n",
       "      <th>var_23</th>\n",
       "      <th>var_24</th>\n",
       "      <th>var_25</th>\n",
       "      <th>var_26</th>\n",
       "      <th>var_27</th>\n",
       "      <th>var_28</th>\n",
       "      <th>var_29</th>\n",
       "      <th>var_30</th>\n",
       "      <th>var_31</th>\n",
       "      <th>var_32</th>\n",
       "      <th>var_33</th>\n",
       "      <th>var_34</th>\n",
       "      <th>var_35</th>\n",
       "      <th>var_36</th>\n",
       "      <th>var_37</th>\n",
       "      <th>var_38</th>\n",
       "      <th>...</th>\n",
       "      <th>var_160</th>\n",
       "      <th>var_161</th>\n",
       "      <th>var_162</th>\n",
       "      <th>var_163</th>\n",
       "      <th>var_164</th>\n",
       "      <th>var_165</th>\n",
       "      <th>var_166</th>\n",
       "      <th>var_167</th>\n",
       "      <th>var_168</th>\n",
       "      <th>var_169</th>\n",
       "      <th>var_170</th>\n",
       "      <th>var_171</th>\n",
       "      <th>var_172</th>\n",
       "      <th>var_173</th>\n",
       "      <th>var_174</th>\n",
       "      <th>var_175</th>\n",
       "      <th>var_176</th>\n",
       "      <th>var_177</th>\n",
       "      <th>var_178</th>\n",
       "      <th>var_179</th>\n",
       "      <th>var_180</th>\n",
       "      <th>var_181</th>\n",
       "      <th>var_182</th>\n",
       "      <th>var_183</th>\n",
       "      <th>var_184</th>\n",
       "      <th>var_185</th>\n",
       "      <th>var_186</th>\n",
       "      <th>var_187</th>\n",
       "      <th>var_188</th>\n",
       "      <th>var_189</th>\n",
       "      <th>var_190</th>\n",
       "      <th>var_191</th>\n",
       "      <th>var_192</th>\n",
       "      <th>var_193</th>\n",
       "      <th>var_194</th>\n",
       "      <th>var_195</th>\n",
       "      <th>var_196</th>\n",
       "      <th>var_197</th>\n",
       "      <th>var_198</th>\n",
       "      <th>var_199</th>\n",
       "    </tr>\n",
       "  </thead>\n",
       "  <tbody>\n",
       "    <tr>\n",
       "      <th>count</th>\n",
       "      <td>200000.000000000000000</td>\n",
       "      <td>200000.000000000000000</td>\n",
       "      <td>200000.000000000000000</td>\n",
       "      <td>200000.000000000000000</td>\n",
       "      <td>200000.000000000000000</td>\n",
       "      <td>200000.000000000000000</td>\n",
       "      <td>200000.000000000000000</td>\n",
       "      <td>200000.000000000000000</td>\n",
       "      <td>200000.000000000000000</td>\n",
       "      <td>200000.000000000000000</td>\n",
       "      <td>200000.000000000000000</td>\n",
       "      <td>200000.000000000000000</td>\n",
       "      <td>200000.000000000000000</td>\n",
       "      <td>200000.000000000000000</td>\n",
       "      <td>200000.000000000000000</td>\n",
       "      <td>200000.000000000000000</td>\n",
       "      <td>200000.000000000000000</td>\n",
       "      <td>200000.000000000000000</td>\n",
       "      <td>200000.000000000000000</td>\n",
       "      <td>200000.000000000000000</td>\n",
       "      <td>200000.000000000000000</td>\n",
       "      <td>200000.000000000000000</td>\n",
       "      <td>200000.000000000000000</td>\n",
       "      <td>200000.000000000000000</td>\n",
       "      <td>200000.000000000000000</td>\n",
       "      <td>200000.000000000000000</td>\n",
       "      <td>200000.000000000000000</td>\n",
       "      <td>200000.000000000000000</td>\n",
       "      <td>200000.000000000000000</td>\n",
       "      <td>200000.000000000000000</td>\n",
       "      <td>200000.000000000000000</td>\n",
       "      <td>200000.000000000000000</td>\n",
       "      <td>200000.000000000000000</td>\n",
       "      <td>200000.000000000000000</td>\n",
       "      <td>200000.000000000000000</td>\n",
       "      <td>200000.000000000000000</td>\n",
       "      <td>200000.000000000000000</td>\n",
       "      <td>200000.000000000000000</td>\n",
       "      <td>200000.000000000000000</td>\n",
       "      <td>200000.000000000000000</td>\n",
       "      <td>...</td>\n",
       "      <td>200000.000000000000000</td>\n",
       "      <td>200000.000000000000000</td>\n",
       "      <td>200000.000000000000000</td>\n",
       "      <td>200000.000000000000000</td>\n",
       "      <td>200000.000000000000000</td>\n",
       "      <td>200000.000000000000000</td>\n",
       "      <td>200000.000000000000000</td>\n",
       "      <td>200000.000000000000000</td>\n",
       "      <td>200000.000000000000000</td>\n",
       "      <td>200000.000000000000000</td>\n",
       "      <td>200000.000000000000000</td>\n",
       "      <td>200000.000000000000000</td>\n",
       "      <td>200000.000000000000000</td>\n",
       "      <td>200000.000000000000000</td>\n",
       "      <td>200000.000000000000000</td>\n",
       "      <td>200000.000000000000000</td>\n",
       "      <td>200000.000000000000000</td>\n",
       "      <td>200000.000000000000000</td>\n",
       "      <td>200000.000000000000000</td>\n",
       "      <td>200000.000000000000000</td>\n",
       "      <td>200000.000000000000000</td>\n",
       "      <td>200000.000000000000000</td>\n",
       "      <td>200000.000000000000000</td>\n",
       "      <td>200000.000000000000000</td>\n",
       "      <td>200000.000000000000000</td>\n",
       "      <td>200000.000000000000000</td>\n",
       "      <td>200000.000000000000000</td>\n",
       "      <td>200000.000000000000000</td>\n",
       "      <td>200000.000000000000000</td>\n",
       "      <td>200000.000000000000000</td>\n",
       "      <td>200000.000000000000000</td>\n",
       "      <td>200000.000000000000000</td>\n",
       "      <td>200000.000000000000000</td>\n",
       "      <td>200000.000000000000000</td>\n",
       "      <td>200000.000000000000000</td>\n",
       "      <td>200000.000000000000000</td>\n",
       "      <td>200000.000000000000000</td>\n",
       "      <td>200000.000000000000000</td>\n",
       "      <td>200000.000000000000000</td>\n",
       "      <td>200000.000000000000000</td>\n",
       "    </tr>\n",
       "    <tr>\n",
       "      <th>mean</th>\n",
       "      <td>0.100490000000000</td>\n",
       "      <td>10.679972648620605</td>\n",
       "      <td>-1.627627611160278</td>\n",
       "      <td>10.715126037597656</td>\n",
       "      <td>6.796522617340088</td>\n",
       "      <td>11.078254699707031</td>\n",
       "      <td>-5.065340042114258</td>\n",
       "      <td>5.408960819244385</td>\n",
       "      <td>16.545988082885742</td>\n",
       "      <td>0.284159243106842</td>\n",
       "      <td>7.567198753356934</td>\n",
       "      <td>0.394344419240952</td>\n",
       "      <td>-3.245583534240723</td>\n",
       "      <td>14.023975372314453</td>\n",
       "      <td>8.530260086059570</td>\n",
       "      <td>7.537585735321045</td>\n",
       "      <td>14.573036193847656</td>\n",
       "      <td>9.333322525024414</td>\n",
       "      <td>-5.696696281433105</td>\n",
       "      <td>15.244025230407715</td>\n",
       "      <td>12.438426017761230</td>\n",
       "      <td>13.290937423706055</td>\n",
       "      <td>17.257947921752930</td>\n",
       "      <td>4.305424690246582</td>\n",
       "      <td>3.019564151763916</td>\n",
       "      <td>10.584388732910156</td>\n",
       "      <td>13.667485237121582</td>\n",
       "      <td>-4.055144309997559</td>\n",
       "      <td>-1.137891292572021</td>\n",
       "      <td>5.532967090606689</td>\n",
       "      <td>5.053869247436523</td>\n",
       "      <td>-7.687808036804199</td>\n",
       "      <td>10.393088340759277</td>\n",
       "      <td>-0.512887895107269</td>\n",
       "      <td>14.774120330810547</td>\n",
       "      <td>11.434164047241211</td>\n",
       "      <td>3.842468976974487</td>\n",
       "      <td>2.187225580215454</td>\n",
       "      <td>5.868919372558594</td>\n",
       "      <td>10.642142295837402</td>\n",
       "      <td>...</td>\n",
       "      <td>24.259389877319336</td>\n",
       "      <td>5.633270740509033</td>\n",
       "      <td>5.362925052642822</td>\n",
       "      <td>11.002311706542969</td>\n",
       "      <td>-2.871894598007202</td>\n",
       "      <td>19.315820693969727</td>\n",
       "      <td>2.963322877883911</td>\n",
       "      <td>-4.151159763336182</td>\n",
       "      <td>4.937124252319336</td>\n",
       "      <td>5.636033535003662</td>\n",
       "      <td>-0.004962081089616</td>\n",
       "      <td>-0.831779837608337</td>\n",
       "      <td>19.817010879516602</td>\n",
       "      <td>-0.677969634532928</td>\n",
       "      <td>20.210577011108398</td>\n",
       "      <td>11.640645027160645</td>\n",
       "      <td>-2.799602746963501</td>\n",
       "      <td>11.882902145385742</td>\n",
       "      <td>-1.014055371284485</td>\n",
       "      <td>2.591427803039551</td>\n",
       "      <td>-2.741673231124878</td>\n",
       "      <td>10.085389137268066</td>\n",
       "      <td>0.719106554985046</td>\n",
       "      <td>8.769108772277832</td>\n",
       "      <td>12.756799697875977</td>\n",
       "      <td>-3.983258008956909</td>\n",
       "      <td>8.970232009887695</td>\n",
       "      <td>-10.334982872009277</td>\n",
       "      <td>15.377336502075195</td>\n",
       "      <td>0.746070563793182</td>\n",
       "      <td>3.234436273574829</td>\n",
       "      <td>7.438448905944824</td>\n",
       "      <td>1.927832603454590</td>\n",
       "      <td>3.331773042678833</td>\n",
       "      <td>17.993810653686523</td>\n",
       "      <td>-0.142086714506149</td>\n",
       "      <td>2.303354501724243</td>\n",
       "      <td>8.908224105834961</td>\n",
       "      <td>15.870863914489746</td>\n",
       "      <td>-3.326541900634766</td>\n",
       "    </tr>\n",
       "    <tr>\n",
       "      <th>std</th>\n",
       "      <td>0.300652975806093</td>\n",
       "      <td>3.039989709854126</td>\n",
       "      <td>4.049966812133789</td>\n",
       "      <td>2.640832424163818</td>\n",
       "      <td>2.043276309967041</td>\n",
       "      <td>1.623113632202148</td>\n",
       "      <td>7.863115310668945</td>\n",
       "      <td>0.866584956645966</td>\n",
       "      <td>3.418008565902710</td>\n",
       "      <td>3.332575798034668</td>\n",
       "      <td>1.235053658485413</td>\n",
       "      <td>5.500724792480469</td>\n",
       "      <td>5.970123767852783</td>\n",
       "      <td>0.190055906772614</td>\n",
       "      <td>4.639412879943848</td>\n",
       "      <td>2.247882127761841</td>\n",
       "      <td>0.411704421043396</td>\n",
       "      <td>2.557370185852051</td>\n",
       "      <td>6.712454319000244</td>\n",
       "      <td>7.851138114929199</td>\n",
       "      <td>7.996533870697021</td>\n",
       "      <td>5.876118183135986</td>\n",
       "      <td>8.196417808532715</td>\n",
       "      <td>2.847906351089478</td>\n",
       "      <td>0.526885569095612</td>\n",
       "      <td>3.777189970016479</td>\n",
       "      <td>0.285532176494598</td>\n",
       "      <td>5.922068595886230</td>\n",
       "      <td>1.523681402206421</td>\n",
       "      <td>0.783351898193359</td>\n",
       "      <td>2.615882873535156</td>\n",
       "      <td>7.965038299560547</td>\n",
       "      <td>2.159844875335693</td>\n",
       "      <td>2.587777137756348</td>\n",
       "      <td>4.322238922119141</td>\n",
       "      <td>0.541601359844208</td>\n",
       "      <td>5.179450988769531</td>\n",
       "      <td>3.119930982589722</td>\n",
       "      <td>2.249698162078857</td>\n",
       "      <td>4.278829574584961</td>\n",
       "      <td>...</td>\n",
       "      <td>10.880002021789551</td>\n",
       "      <td>0.217932149767876</td>\n",
       "      <td>1.419586420059204</td>\n",
       "      <td>5.261942863464355</td>\n",
       "      <td>5.457670688629150</td>\n",
       "      <td>5.024100303649902</td>\n",
       "      <td>0.369678735733032</td>\n",
       "      <td>7.797882556915283</td>\n",
       "      <td>3.105921983718872</td>\n",
       "      <td>0.369428694248199</td>\n",
       "      <td>4.424531936645508</td>\n",
       "      <td>5.377870559692383</td>\n",
       "      <td>8.674015998840332</td>\n",
       "      <td>5.966554164886475</td>\n",
       "      <td>7.136291503906250</td>\n",
       "      <td>2.892102718353271</td>\n",
       "      <td>7.513805866241455</td>\n",
       "      <td>2.628840684890747</td>\n",
       "      <td>8.579662322998047</td>\n",
       "      <td>2.798909902572632</td>\n",
       "      <td>5.261108398437500</td>\n",
       "      <td>1.371829271316528</td>\n",
       "      <td>8.963241577148438</td>\n",
       "      <td>4.474839210510254</td>\n",
       "      <td>9.318074226379395</td>\n",
       "      <td>4.725077152252197</td>\n",
       "      <td>3.189717054367065</td>\n",
       "      <td>11.574515342712402</td>\n",
       "      <td>3.944553375244141</td>\n",
       "      <td>0.976326882839203</td>\n",
       "      <td>4.559854030609131</td>\n",
       "      <td>3.023208379745483</td>\n",
       "      <td>1.478387713432312</td>\n",
       "      <td>3.991934061050415</td>\n",
       "      <td>3.135113477706909</td>\n",
       "      <td>1.429340600967407</td>\n",
       "      <td>5.454273700714111</td>\n",
       "      <td>0.921603024005890</td>\n",
       "      <td>3.010892391204834</td>\n",
       "      <td>10.437831878662109</td>\n",
       "    </tr>\n",
       "    <tr>\n",
       "      <th>min</th>\n",
       "      <td>0.000000000000000</td>\n",
       "      <td>0.408399999141693</td>\n",
       "      <td>-15.043399810791016</td>\n",
       "      <td>2.117100000381470</td>\n",
       "      <td>-0.040199998766184</td>\n",
       "      <td>5.074800014495850</td>\n",
       "      <td>-32.562599182128906</td>\n",
       "      <td>2.347300052642822</td>\n",
       "      <td>5.349699974060059</td>\n",
       "      <td>-10.505499839782715</td>\n",
       "      <td>3.970499992370605</td>\n",
       "      <td>-20.731300354003906</td>\n",
       "      <td>-26.094999313354492</td>\n",
       "      <td>13.434599876403809</td>\n",
       "      <td>-6.011099815368652</td>\n",
       "      <td>1.013299942016602</td>\n",
       "      <td>13.076899528503418</td>\n",
       "      <td>0.635100007057190</td>\n",
       "      <td>-33.380199432373047</td>\n",
       "      <td>-10.664199829101562</td>\n",
       "      <td>-12.402500152587891</td>\n",
       "      <td>-5.432199954986572</td>\n",
       "      <td>-10.088999748229980</td>\n",
       "      <td>-5.322500228881836</td>\n",
       "      <td>1.209800004959106</td>\n",
       "      <td>-0.678399980068207</td>\n",
       "      <td>12.720000267028809</td>\n",
       "      <td>-24.243099212646484</td>\n",
       "      <td>-6.166800022125244</td>\n",
       "      <td>2.089600086212158</td>\n",
       "      <td>-4.787199974060059</td>\n",
       "      <td>-34.798400878906250</td>\n",
       "      <td>2.140599966049194</td>\n",
       "      <td>-8.986100196838379</td>\n",
       "      <td>1.508499979972839</td>\n",
       "      <td>9.816900253295898</td>\n",
       "      <td>-16.513599395751953</td>\n",
       "      <td>-8.095100402832031</td>\n",
       "      <td>-1.183400034904480</td>\n",
       "      <td>-6.337100028991699</td>\n",
       "      <td>...</td>\n",
       "      <td>-7.452199935913086</td>\n",
       "      <td>4.852600097656250</td>\n",
       "      <td>0.623099982738495</td>\n",
       "      <td>-6.531700134277344</td>\n",
       "      <td>-19.997699737548828</td>\n",
       "      <td>3.816699981689453</td>\n",
       "      <td>1.851199984550476</td>\n",
       "      <td>-35.969501495361328</td>\n",
       "      <td>-5.250199794769287</td>\n",
       "      <td>4.258800029754639</td>\n",
       "      <td>-14.505999565124512</td>\n",
       "      <td>-22.479299545288086</td>\n",
       "      <td>-11.453300476074219</td>\n",
       "      <td>-22.748699188232422</td>\n",
       "      <td>-2.995300054550171</td>\n",
       "      <td>3.241499900817871</td>\n",
       "      <td>-29.116500854492188</td>\n",
       "      <td>4.952099800109863</td>\n",
       "      <td>-29.273399353027344</td>\n",
       "      <td>-7.856100082397461</td>\n",
       "      <td>-22.037399291992188</td>\n",
       "      <td>5.416500091552734</td>\n",
       "      <td>-26.001100540161133</td>\n",
       "      <td>-4.808199882507324</td>\n",
       "      <td>-18.489700317382812</td>\n",
       "      <td>-22.583299636840820</td>\n",
       "      <td>-3.022300004959106</td>\n",
       "      <td>-47.753601074218750</td>\n",
       "      <td>4.412300109863281</td>\n",
       "      <td>-2.554300069808960</td>\n",
       "      <td>-14.093299865722656</td>\n",
       "      <td>-2.691699981689453</td>\n",
       "      <td>-3.814500093460083</td>\n",
       "      <td>-11.783399581909180</td>\n",
       "      <td>8.694399833679199</td>\n",
       "      <td>-5.261000156402588</td>\n",
       "      <td>-14.209600448608398</td>\n",
       "      <td>5.960599899291992</td>\n",
       "      <td>6.299300193786621</td>\n",
       "      <td>-38.852798461914062</td>\n",
       "    </tr>\n",
       "    <tr>\n",
       "      <th>25%</th>\n",
       "      <td>0.000000000000000</td>\n",
       "      <td>8.453850269317627</td>\n",
       "      <td>-4.740024805068970</td>\n",
       "      <td>8.722474813461304</td>\n",
       "      <td>5.254074931144714</td>\n",
       "      <td>9.883174657821655</td>\n",
       "      <td>-11.200350046157837</td>\n",
       "      <td>4.767700195312500</td>\n",
       "      <td>13.943799972534180</td>\n",
       "      <td>-2.317800045013428</td>\n",
       "      <td>6.618800163269043</td>\n",
       "      <td>-3.594949901103973</td>\n",
       "      <td>-7.510600090026855</td>\n",
       "      <td>13.894000053405762</td>\n",
       "      <td>5.072800159454346</td>\n",
       "      <td>5.781874895095825</td>\n",
       "      <td>14.262800216674805</td>\n",
       "      <td>7.452275037765503</td>\n",
       "      <td>-10.476225137710571</td>\n",
       "      <td>9.177950382232666</td>\n",
       "      <td>6.276475191116333</td>\n",
       "      <td>8.627799987792969</td>\n",
       "      <td>11.550999641418457</td>\n",
       "      <td>2.182399988174438</td>\n",
       "      <td>2.634099960327148</td>\n",
       "      <td>7.612999916076660</td>\n",
       "      <td>13.456399917602539</td>\n",
       "      <td>-8.321725130081177</td>\n",
       "      <td>-2.307899951934814</td>\n",
       "      <td>4.992099761962891</td>\n",
       "      <td>3.171700000762939</td>\n",
       "      <td>-13.766175031661987</td>\n",
       "      <td>8.869999885559082</td>\n",
       "      <td>-2.500874936580658</td>\n",
       "      <td>11.456299781799316</td>\n",
       "      <td>11.032299995422363</td>\n",
       "      <td>0.116974998265505</td>\n",
       "      <td>-0.007125000003725</td>\n",
       "      <td>4.125475168228149</td>\n",
       "      <td>7.591050148010254</td>\n",
       "      <td>...</td>\n",
       "      <td>15.696125268936157</td>\n",
       "      <td>5.470499992370605</td>\n",
       "      <td>4.326099872589111</td>\n",
       "      <td>7.029600143432617</td>\n",
       "      <td>-7.094025135040283</td>\n",
       "      <td>15.744550228118896</td>\n",
       "      <td>2.698999881744385</td>\n",
       "      <td>-9.643099784851074</td>\n",
       "      <td>2.703200101852417</td>\n",
       "      <td>5.374599933624268</td>\n",
       "      <td>-3.258500099182129</td>\n",
       "      <td>-4.720350146293640</td>\n",
       "      <td>13.731775045394897</td>\n",
       "      <td>-5.009525060653687</td>\n",
       "      <td>15.064599990844727</td>\n",
       "      <td>9.371600151062012</td>\n",
       "      <td>-8.386500358581543</td>\n",
       "      <td>9.808674812316895</td>\n",
       "      <td>-7.395699977874756</td>\n",
       "      <td>0.625574991106987</td>\n",
       "      <td>-6.673900127410889</td>\n",
       "      <td>9.084699630737305</td>\n",
       "      <td>-6.064425110816956</td>\n",
       "      <td>5.423099994659424</td>\n",
       "      <td>5.663300037384033</td>\n",
       "      <td>-7.360000133514404</td>\n",
       "      <td>6.715199947357178</td>\n",
       "      <td>-19.205124378204346</td>\n",
       "      <td>12.501550197601318</td>\n",
       "      <td>0.014899999834597</td>\n",
       "      <td>-0.058825000189245</td>\n",
       "      <td>5.157400131225586</td>\n",
       "      <td>0.889775007963181</td>\n",
       "      <td>0.584599971771240</td>\n",
       "      <td>15.629799842834473</td>\n",
       "      <td>-1.170699954032898</td>\n",
       "      <td>-1.946925014257431</td>\n",
       "      <td>8.252799987792969</td>\n",
       "      <td>13.829700469970703</td>\n",
       "      <td>-11.208474636077881</td>\n",
       "    </tr>\n",
       "    <tr>\n",
       "      <th>50%</th>\n",
       "      <td>0.000000000000000</td>\n",
       "      <td>10.524750232696533</td>\n",
       "      <td>-1.608050048351288</td>\n",
       "      <td>10.579999923706055</td>\n",
       "      <td>6.824999809265137</td>\n",
       "      <td>11.108250141143799</td>\n",
       "      <td>-4.833149909973145</td>\n",
       "      <td>5.385099887847900</td>\n",
       "      <td>16.456800460815430</td>\n",
       "      <td>0.393700003623962</td>\n",
       "      <td>7.629600048065186</td>\n",
       "      <td>0.487300008535385</td>\n",
       "      <td>-3.286949992179871</td>\n",
       "      <td>14.025500297546387</td>\n",
       "      <td>8.604249954223633</td>\n",
       "      <td>7.520299911499023</td>\n",
       "      <td>14.574099540710449</td>\n",
       "      <td>9.232049942016602</td>\n",
       "      <td>-5.666349887847900</td>\n",
       "      <td>15.196249961853027</td>\n",
       "      <td>12.453900337219238</td>\n",
       "      <td>13.196800231933594</td>\n",
       "      <td>17.234250068664551</td>\n",
       "      <td>4.275150060653687</td>\n",
       "      <td>3.008649945259094</td>\n",
       "      <td>10.380349636077881</td>\n",
       "      <td>13.662500381469727</td>\n",
       "      <td>-4.196899890899658</td>\n",
       "      <td>-1.132099986076355</td>\n",
       "      <td>5.534850120544434</td>\n",
       "      <td>4.950200080871582</td>\n",
       "      <td>-7.411749839782715</td>\n",
       "      <td>10.365649700164795</td>\n",
       "      <td>-0.497649997472763</td>\n",
       "      <td>14.576000213623047</td>\n",
       "      <td>11.435199737548828</td>\n",
       "      <td>3.917750000953674</td>\n",
       "      <td>2.197999954223633</td>\n",
       "      <td>5.900650024414062</td>\n",
       "      <td>10.562700271606445</td>\n",
       "      <td>...</td>\n",
       "      <td>23.864500045776367</td>\n",
       "      <td>5.633500099182129</td>\n",
       "      <td>5.359700202941895</td>\n",
       "      <td>10.788700103759766</td>\n",
       "      <td>-2.637799978256226</td>\n",
       "      <td>19.270799636840820</td>\n",
       "      <td>2.960200071334839</td>\n",
       "      <td>-4.011600017547607</td>\n",
       "      <td>4.761600017547607</td>\n",
       "      <td>5.634300231933594</td>\n",
       "      <td>0.002799999900162</td>\n",
       "      <td>-0.807349979877472</td>\n",
       "      <td>19.748000144958496</td>\n",
       "      <td>-0.569750010967255</td>\n",
       "      <td>20.206100463867188</td>\n",
       "      <td>11.679800033569336</td>\n",
       "      <td>-2.538450002670288</td>\n",
       "      <td>11.737249851226807</td>\n",
       "      <td>-0.942049980163574</td>\n",
       "      <td>2.512300014495850</td>\n",
       "      <td>-2.688800096511841</td>\n",
       "      <td>10.036050319671631</td>\n",
       "      <td>0.720200002193451</td>\n",
       "      <td>8.600000381469727</td>\n",
       "      <td>12.520999908447266</td>\n",
       "      <td>-3.946949958801270</td>\n",
       "      <td>8.902149677276611</td>\n",
       "      <td>-10.209749698638916</td>\n",
       "      <td>15.239449977874756</td>\n",
       "      <td>0.742600023746490</td>\n",
       "      <td>3.203599929809570</td>\n",
       "      <td>7.347749948501587</td>\n",
       "      <td>1.901299953460693</td>\n",
       "      <td>3.396350026130676</td>\n",
       "      <td>17.957949638366699</td>\n",
       "      <td>-0.172700002789497</td>\n",
       "      <td>2.408900022506714</td>\n",
       "      <td>8.888199806213379</td>\n",
       "      <td>15.934050083160400</td>\n",
       "      <td>-2.819550037384033</td>\n",
       "    </tr>\n",
       "    <tr>\n",
       "      <th>75%</th>\n",
       "      <td>0.000000000000000</td>\n",
       "      <td>12.758199691772461</td>\n",
       "      <td>1.358625024557114</td>\n",
       "      <td>12.516699790954590</td>\n",
       "      <td>8.324099540710449</td>\n",
       "      <td>12.261124849319458</td>\n",
       "      <td>0.924799978733063</td>\n",
       "      <td>6.002999782562256</td>\n",
       "      <td>19.102899551391602</td>\n",
       "      <td>2.937900066375732</td>\n",
       "      <td>8.584425210952759</td>\n",
       "      <td>4.382925152778625</td>\n",
       "      <td>0.852825015783310</td>\n",
       "      <td>14.164199829101562</td>\n",
       "      <td>12.274775028228760</td>\n",
       "      <td>9.270425081253052</td>\n",
       "      <td>14.874500274658203</td>\n",
       "      <td>11.055899620056152</td>\n",
       "      <td>-0.810775011777878</td>\n",
       "      <td>21.013324737548828</td>\n",
       "      <td>18.433300018310547</td>\n",
       "      <td>17.879400253295898</td>\n",
       "      <td>23.089050292968750</td>\n",
       "      <td>6.293200016021729</td>\n",
       "      <td>3.403800010681152</td>\n",
       "      <td>13.479599952697754</td>\n",
       "      <td>13.863699913024902</td>\n",
       "      <td>-0.090199999511242</td>\n",
       "      <td>0.015624999534339</td>\n",
       "      <td>6.093699932098389</td>\n",
       "      <td>6.798925042152405</td>\n",
       "      <td>-1.443450033664703</td>\n",
       "      <td>11.885000228881836</td>\n",
       "      <td>1.469099998474121</td>\n",
       "      <td>18.097124576568604</td>\n",
       "      <td>11.844400405883789</td>\n",
       "      <td>7.487725019454956</td>\n",
       "      <td>4.460400104522705</td>\n",
       "      <td>7.542399883270264</td>\n",
       "      <td>13.598924875259399</td>\n",
       "      <td>...</td>\n",
       "      <td>32.622849464416504</td>\n",
       "      <td>5.791999816894531</td>\n",
       "      <td>6.371200084686279</td>\n",
       "      <td>14.623900413513184</td>\n",
       "      <td>1.323600053787231</td>\n",
       "      <td>23.024024963378906</td>\n",
       "      <td>3.241499900817871</td>\n",
       "      <td>1.318724960088730</td>\n",
       "      <td>7.020025014877319</td>\n",
       "      <td>5.905399799346924</td>\n",
       "      <td>3.096400022506714</td>\n",
       "      <td>2.956799983978271</td>\n",
       "      <td>25.907724857330322</td>\n",
       "      <td>3.619899988174438</td>\n",
       "      <td>25.641224384307861</td>\n",
       "      <td>13.745499610900879</td>\n",
       "      <td>2.704400062561035</td>\n",
       "      <td>13.931300163269043</td>\n",
       "      <td>5.338749885559082</td>\n",
       "      <td>4.391124963760376</td>\n",
       "      <td>0.996200025081635</td>\n",
       "      <td>11.011300086975098</td>\n",
       "      <td>7.499175190925598</td>\n",
       "      <td>12.127425193786621</td>\n",
       "      <td>19.456150531768799</td>\n",
       "      <td>-0.590649977326393</td>\n",
       "      <td>11.193799972534180</td>\n",
       "      <td>-1.465999960899353</td>\n",
       "      <td>18.345224857330322</td>\n",
       "      <td>1.482900023460388</td>\n",
       "      <td>6.406199932098389</td>\n",
       "      <td>9.512524843215942</td>\n",
       "      <td>2.949500083923340</td>\n",
       "      <td>6.205800056457520</td>\n",
       "      <td>20.396524906158447</td>\n",
       "      <td>0.829599976539612</td>\n",
       "      <td>6.556725144386292</td>\n",
       "      <td>9.593299865722656</td>\n",
       "      <td>18.064724445343018</td>\n",
       "      <td>4.836800098419189</td>\n",
       "    </tr>\n",
       "    <tr>\n",
       "      <th>max</th>\n",
       "      <td>1.000000000000000</td>\n",
       "      <td>20.315000534057617</td>\n",
       "      <td>10.376799583435059</td>\n",
       "      <td>19.353000640869141</td>\n",
       "      <td>13.188300132751465</td>\n",
       "      <td>16.671400070190430</td>\n",
       "      <td>17.251600265502930</td>\n",
       "      <td>8.447699546813965</td>\n",
       "      <td>27.691799163818359</td>\n",
       "      <td>10.151300430297852</td>\n",
       "      <td>11.150600433349609</td>\n",
       "      <td>18.670200347900391</td>\n",
       "      <td>17.188699722290039</td>\n",
       "      <td>14.654500007629395</td>\n",
       "      <td>22.331499099731445</td>\n",
       "      <td>14.937700271606445</td>\n",
       "      <td>15.863300323486328</td>\n",
       "      <td>17.950599670410156</td>\n",
       "      <td>19.025899887084961</td>\n",
       "      <td>41.748001098632812</td>\n",
       "      <td>35.182998657226562</td>\n",
       "      <td>31.285900115966797</td>\n",
       "      <td>49.044300079345703</td>\n",
       "      <td>14.594499588012695</td>\n",
       "      <td>4.875199794769287</td>\n",
       "      <td>25.445999145507812</td>\n",
       "      <td>14.654600143432617</td>\n",
       "      <td>15.675100326538086</td>\n",
       "      <td>3.243099927902222</td>\n",
       "      <td>8.787400245666504</td>\n",
       "      <td>13.143099784851074</td>\n",
       "      <td>15.651499748229980</td>\n",
       "      <td>20.171899795532227</td>\n",
       "      <td>6.787099838256836</td>\n",
       "      <td>29.546600341796875</td>\n",
       "      <td>13.287799835205078</td>\n",
       "      <td>21.528900146484375</td>\n",
       "      <td>14.245599746704102</td>\n",
       "      <td>11.863800048828125</td>\n",
       "      <td>29.823499679565430</td>\n",
       "      <td>...</td>\n",
       "      <td>58.394199371337891</td>\n",
       "      <td>6.309899806976318</td>\n",
       "      <td>10.134400367736816</td>\n",
       "      <td>27.564800262451172</td>\n",
       "      <td>12.119299888610840</td>\n",
       "      <td>38.332199096679688</td>\n",
       "      <td>4.220399856567383</td>\n",
       "      <td>21.276599884033203</td>\n",
       "      <td>14.886099815368652</td>\n",
       "      <td>7.089000225067139</td>\n",
       "      <td>16.731899261474609</td>\n",
       "      <td>17.917299270629883</td>\n",
       "      <td>53.591899871826172</td>\n",
       "      <td>18.855400085449219</td>\n",
       "      <td>43.546798706054688</td>\n",
       "      <td>20.854799270629883</td>\n",
       "      <td>20.245199203491211</td>\n",
       "      <td>20.596500396728516</td>\n",
       "      <td>29.841299057006836</td>\n",
       "      <td>13.448699951171875</td>\n",
       "      <td>12.750499725341797</td>\n",
       "      <td>14.393899917602539</td>\n",
       "      <td>29.248699188232422</td>\n",
       "      <td>23.704900741577148</td>\n",
       "      <td>44.363399505615234</td>\n",
       "      <td>12.997500419616699</td>\n",
       "      <td>21.739200592041016</td>\n",
       "      <td>22.786100387573242</td>\n",
       "      <td>29.330299377441406</td>\n",
       "      <td>4.034100055694580</td>\n",
       "      <td>18.440900802612305</td>\n",
       "      <td>16.716499328613281</td>\n",
       "      <td>8.402400016784668</td>\n",
       "      <td>18.281799316406250</td>\n",
       "      <td>27.928800582885742</td>\n",
       "      <td>4.272900104522705</td>\n",
       "      <td>18.321500778198242</td>\n",
       "      <td>12.000399589538574</td>\n",
       "      <td>26.079099655151367</td>\n",
       "      <td>28.500699996948242</td>\n",
       "    </tr>\n",
       "  </tbody>\n",
       "</table>\n",
       "</div>"
      ],
      "text/plain": [
       "                       target           ...                           var_199\n",
       "count  200000.000000000000000           ...            200000.000000000000000\n",
       "mean        0.100490000000000           ...                -3.326541900634766\n",
       "std         0.300652975806093           ...                10.437831878662109\n",
       "min         0.000000000000000           ...               -38.852798461914062\n",
       "25%         0.000000000000000           ...               -11.208474636077881\n",
       "50%         0.000000000000000           ...                -2.819550037384033\n",
       "75%         0.000000000000000           ...                 4.836800098419189\n",
       "max         1.000000000000000           ...                28.500699996948242\n",
       "\n",
       "[8 rows x 201 columns]"
      ]
     },
     "execution_count": 16,
     "metadata": {},
     "output_type": "execute_result"
    }
   ],
   "source": [
    "train.describe()"
   ]
  },
  {
   "cell_type": "markdown",
   "metadata": {
    "_uuid": "c1eddbf9a17cb7b15b342b4d2d48af7f0ac79006"
   },
   "source": [
    " <a id=\"42\"></a> <br>\n",
    "## 4-2 Visualization"
   ]
  },
  {
   "cell_type": "markdown",
   "metadata": {
    "_uuid": "70207522d405040466649db4664f6dc9cb75849f"
   },
   "source": [
    "<a id=\"421\"></a> \n",
    "## 4-2-1 hist"
   ]
  },
  {
   "cell_type": "code",
   "execution_count": 17,
   "metadata": {
    "_uuid": "51042af4ef472a7863f9698fdca2d99eefa0af7d"
   },
   "outputs": [
    {
     "data": {
      "image/png": "[encoded data removed]",
      "text/plain": [
       "<Figure size 432x288 with 1 Axes>"
      ]
     },
     "metadata": {},
     "output_type": "display_data"
    }
   ],
   "source": [
    "train['target'].value_counts().plot.bar();"
   ]
  },
  {
   "cell_type": "code",
   "execution_count": 18,
   "metadata": {
    "_uuid": "0cf04a9128e231d216018ba2c23244d6c041e209"
   },
   "outputs": [
    {
     "data": {
      "image/png": "[encoded data removed]",
      "text/plain": [
       "<Figure size 1440x720 with 2 Axes>"
      ]
     },
     "metadata": {},
     "output_type": "display_data"
    }
   ],
   "source": [
    "f,ax=plt.subplots(1,2,figsize=(20,10))\n",
    "train[train['target']==0].var_0.plot.hist(ax=ax[0],bins=20,edgecolor='black',color='red')\n",
    "ax[0].set_title('target= 0')\n",
    "x1=list(range(0,85,5))\n",
    "ax[0].set_xticks(x1)\n",
    "train[train['target']==1].var_0.plot.hist(ax=ax[1],color='green',bins=20,edgecolor='black')\n",
    "ax[1].set_title('target= 1')\n",
    "x2=list(range(0,85,5))\n",
    "ax[1].set_xticks(x2)\n",
    "plt.show()"
   ]
  },
  {
   "cell_type": "markdown",
   "metadata": {
    "_uuid": "225972f02d20b1aed1a2d6a3dae7e2c14b7caad1"
   },
   "source": [
    " <a id=\"422\"></a> <br>\n",
    "## 4-2-2 Mean Frequency"
   ]
  },
  {
   "cell_type": "code",
   "execution_count": 19,
   "metadata": {
    "_uuid": "427a904f784fbf353c728e3abafa8628ffa0a52c"
   },
   "outputs": [
    {
     "data": {
      "image/png": "[encoded data removed]",
      "text/plain": [
       "<Figure size 432x288 with 1 Axes>"
      ]
     },
     "metadata": {},
     "output_type": "display_data"
    }
   ],
   "source": [
    "train[train.columns[2:]].mean().plot('hist');plt.title('Mean Frequency');"
   ]
  },
  {
   "cell_type": "markdown",
   "metadata": {
    "_uuid": "1498698d6c5175ea7a10ff3595d9f0177e1e6861"
   },
   "source": [
    "<a id=\"423\"></a> \n",
    "## 4-2-3 countplot"
   ]
  },
  {
   "cell_type": "code",
   "execution_count": 20,
   "metadata": {
    "_kg_hide-input": true,
    "_uuid": "90cae6c076bcefc862828b177672c2e481b6a15b"
   },
   "outputs": [
    {
     "data": {
      "image/png": "[encoded data removed]",
      "text/plain": [
       "<Figure size 1296x576 with 2 Axes>"
      ]
     },
     "metadata": {},
     "output_type": "display_data"
    }
   ],
   "source": [
    "f,ax=plt.subplots(1,2,figsize=(18,8))\n",
    "train['target'].value_counts().plot.pie(explode=[0,0.1],autopct='%1.1f%%',ax=ax[0],shadow=True)\n",
    "ax[0].set_title('target')\n",
    "ax[0].set_ylabel('')\n",
    "sns.countplot('target',data=train,ax=ax[1])\n",
    "ax[1].set_title('target')\n",
    "plt.show()"
   ]
  },
  {
   "cell_type": "markdown",
   "metadata": {
    "_uuid": "565eea91ba475dfb935f89052738e98c4338206a"
   },
   "source": [
    "<a id=\"424\"></a> \n",
    "## 4-2-4 hist\n",
    "If you check histogram for all feature, you will find that most of them are so similar"
   ]
  },
  {
   "cell_type": "code",
   "execution_count": 21,
   "metadata": {
    "_kg_hide-input": true,
    "_uuid": "4cafe1f825c8f5b7d1115411cf6018649ae2c2a1"
   },
   "outputs": [
    {
     "data": {
      "image/png": "[encoded data removed]",
      "text/plain": [
       "<Figure size 432x288 with 1 Axes>"
      ]
     },
     "metadata": {},
     "output_type": "display_data"
    }
   ],
   "source": [
    "train[\"var_0\"].hist();"
   ]
  },
  {
   "cell_type": "code",
   "execution_count": 22,
   "metadata": {
    "_uuid": "291bf70bbea5066cf44df3e4a1093d8b95999910"
   },
   "outputs": [
    {
     "data": {
      "image/png": "[encoded data removed]",
      "text/plain": [
       "<Figure size 432x288 with 1 Axes>"
      ]
     },
     "metadata": {},
     "output_type": "display_data"
    }
   ],
   "source": [
    "train[\"var_81\"].hist();"
   ]
  },
  {
   "cell_type": "code",
   "execution_count": 23,
   "metadata": {
    "_uuid": "4fca943180a87f02bf9cdb0802835de1c1114df0"
   },
   "outputs": [
    {
     "data": {
      "image/png": "[encoded data removed]",
      "text/plain": [
       "<Figure size 432x288 with 1 Axes>"
      ]
     },
     "metadata": {},
     "output_type": "display_data"
    }
   ],
   "source": [
    "train[\"var_2\"].hist();"
   ]
  },
  {
   "cell_type": "markdown",
   "metadata": {
    "_uuid": "c7c539dd31e2d389813645c30e997f1728e9f926"
   },
   "source": [
    "<a id=\"426\"></a> \n",
    "## 4-2-6 distplot\n",
    " The target in data set is **imbalance**"
   ]
  },
  {
   "cell_type": "code",
   "execution_count": 24,
   "metadata": {
    "_uuid": "6b04bc254eee5dcdeac96c17f9c80a0657515a9b"
   },
   "outputs": [
    {
     "data": {
      "image/png": "[encoded data removed]",
      "text/plain": [
       "<Figure size 648x504 with 1 Axes>"
      ]
     },
     "metadata": {},
     "output_type": "display_data"
    }
   ],
   "source": [
    "sns.set(rc={'figure.figsize':(9,7)})\n",
    "sns.distplot(train['target']);"
   ]
  },
  {
   "cell_type": "markdown",
   "metadata": {
    "_uuid": "b710f6cb8eb852a3b749774172c911de598b986c"
   },
   "source": [
    "<a id=\"427\"></a> \n",
    "## 4-2-7 violinplot"
   ]
  },
  {
   "cell_type": "code",
   "execution_count": 25,
   "metadata": {
    "_uuid": "b01885275f75488166c034eafe8a0ca9870ab70b"
   },
   "outputs": [
    {
     "data": {
      "text/plain": [
       "<matplotlib.axes._subplots.AxesSubplot at 0x7f98d9155c50>"
      ]
     },
     "execution_count": 25,
     "metadata": {},
     "output_type": "execute_result"
    },
    {
     "data": {
      "image/png": "[encoded data removed]",
      "text/plain": [
       "<Figure size 648x504 with 1 Axes>"
      ]
     },
     "metadata": {},
     "output_type": "display_data"
    }
   ],
   "source": [
    "sns.violinplot(data=train,x=\"target\", y=\"var_0\")"
   ]
  },
  {
   "cell_type": "code",
   "execution_count": 26,
   "metadata": {
    "_uuid": "c9c01ab969d0e85f4ba301bdb4656b8a6ec99d32"
   },
   "outputs": [
    {
     "data": {
      "text/plain": [
       "<matplotlib.axes._subplots.AxesSubplot at 0x7f98d8f9d9b0>"
      ]
     },
     "execution_count": 26,
     "metadata": {},
     "output_type": "execute_result"
    },
    {
     "data": {
      "image/png": "[encoded data removed]",
      "text/plain": [
       "<Figure size 648x504 with 1 Axes>"
      ]
     },
     "metadata": {},
     "output_type": "display_data"
    }
   ],
   "source": [
    "sns.violinplot(data=train,x=\"target\", y=\"var_81\")"
   ]
  },
  {
   "cell_type": "raw",
   "metadata": {
    "_uuid": "8a436a7a7f1391cb78ae3cec6c8d5adb42f41bd2"
   },
   "source": []
  },
  {
   "cell_type": "markdown",
   "metadata": {
    "_uuid": "8afaaae9f83971dd442a16af434d88318d82c352"
   },
   "source": [
    " <a id=\"43\"></a> <br>\n",
    "## 4-3 Data Preprocessing\n",
    "Before we start this section let me intrduce you, some other compitation that they were similar to this:\n",
    "\n",
    "1. https://www.kaggle.com/artgor/how-to-not-overfit\n",
    "1. https://www.kaggle.com/c/home-credit-default-risk\n",
    "1. https://www.kaggle.com/c/porto-seguro-safe-driver-prediction"
   ]
  },
  {
   "cell_type": "markdown",
   "metadata": {
    "_uuid": "a03a95410ad45a7e176ca72a7c03d1b05d49eda6"
   },
   "source": [
    " <a id=\"431\"></a> <br>\n",
    "## 4-3-1 Check missing data for test & train"
   ]
  },
  {
   "cell_type": "code",
   "execution_count": 27,
   "metadata": {
    "_uuid": "bbcb30c8b016481a47e46d02ef24241f17412027"
   },
   "outputs": [],
   "source": [
    "def check_missing_data(df):\n",
    "    flag=df.isna().sum().any()\n",
    "    if flag==True:\n",
    "        total = df.isnull().sum()\n",
    "        percent = (df.isnull().sum())/(df.isnull().count()*100)\n",
    "        output = pd.concat([total, percent], axis=1, keys=['Total', 'Percent'])\n",
    "        data_type = []\n",
    "        # written by MJ Bahmani\n",
    "        for col in df.columns:\n",
    "            dtype = str(df[col].dtype)\n",
    "            data_type.append(dtype)\n",
    "        output['Types'] = data_type\n",
    "        return(np.transpose(output))\n",
    "    else:\n",
    "        return(False)"
   ]
  },
  {
   "cell_type": "code",
   "execution_count": 28,
   "metadata": {
    "_kg_hide-input": false,
    "_kg_hide-output": true,
    "_uuid": "6adc1fb6f7ef818946843b3698583ade2458a218"
   },
   "outputs": [
    {
     "data": {
      "text/plain": [
       "False"
      ]
     },
     "execution_count": 28,
     "metadata": {},
     "output_type": "execute_result"
    }
   ],
   "source": [
    "check_missing_data(train)"
   ]
  },
  {
   "cell_type": "code",
   "execution_count": 29,
   "metadata": {
    "_uuid": "c7ac1823585acaa773a4507bcf4db9e3c0711bfd"
   },
   "outputs": [
    {
     "data": {
      "text/plain": [
       "False"
      ]
     },
     "execution_count": 29,
     "metadata": {},
     "output_type": "execute_result"
    }
   ],
   "source": [
    "check_missing_data(test)"
   ]
  },
  {
   "cell_type": "markdown",
   "metadata": {
    "_uuid": "9dd09f6e2a06e6902257497eccbf24bec4bcde48"
   },
   "source": [
    " <a id=\"432\"></a> <br>\n",
    "## 4-3-2 Binary Classification"
   ]
  },
  {
   "cell_type": "code",
   "execution_count": 30,
   "metadata": {
    "_uuid": "5f7f7d7af58eb891481afd42022ce5fb7e75ebbb"
   },
   "outputs": [
    {
     "data": {
      "text/plain": [
       "array([0, 1], dtype=uint64)"
      ]
     },
     "execution_count": 30,
     "metadata": {},
     "output_type": "execute_result"
    }
   ],
   "source": [
    "train['target'].unique()"
   ]
  },
  {
   "cell_type": "markdown",
   "metadata": {
    "_uuid": "f9031786ba1022e0970303451664fbacd9687710"
   },
   "source": [
    " <a id=\"433\"></a> <br>\n",
    "## 4-3-3 Is data set imbalance?"
   ]
  },
  {
   "cell_type": "markdown",
   "metadata": {
    "_uuid": "536e31bea4523d2a9bfdbc3ac8fd2518d3e2e2cb"
   },
   "source": [
    "A large part of the data is unbalanced, but **how can we  solve it?**"
   ]
  },
  {
   "cell_type": "code",
   "execution_count": 31,
   "metadata": {
    "_uuid": "982afe00bd42859191af65e0fd43e06e74dbfab3"
   },
   "outputs": [
    {
     "data": {
      "text/plain": [
       "0    179902\n",
       "1     20098\n",
       "Name: target, dtype: int64"
      ]
     },
     "execution_count": 31,
     "metadata": {},
     "output_type": "execute_result"
    }
   ],
   "source": [
    "train['target'].value_counts()"
   ]
  },
  {
   "cell_type": "code",
   "execution_count": 32,
   "metadata": {
    "_uuid": "d89ebf7be40381c2aca9f78b79ddf11d291b423c"
   },
   "outputs": [],
   "source": [
    "def check_balance(df,target):\n",
    "    check=[]\n",
    "    # written by MJ Bahmani for binary target\n",
    "    print('size of data is:',df.shape[0] )\n",
    "    for i in [0,1]:\n",
    "        print('for target  {} ='.format(i))\n",
    "        print(df[target].value_counts()[i]/df.shape[0]*100,'%')\n",
    "    "
   ]
  },
  {
   "cell_type": "markdown",
   "metadata": {
    "_uuid": "2993992933bd7365e867d38fc619e17b2d6832e3"
   },
   "source": [
    "1. **Imbalanced dataset** is relevant primarily in the context of supervised machine learning involving two or more classes. \n",
    "\n",
    "1. **Imbalance** means that the number of data points available for different the classes is different\n",
    "\n",
    "<img src='https://www.datascience.com/hs-fs/hubfs/imbdata.png?t=1542328336307&width=487&name=imbdata.png'>\n",
    "[Image source](http://api.ning.com/files/vvHEZw33BGqEUW8aBYm4epYJWOfSeUBPVQAsgz7aWaNe0pmDBsjgggBxsyq*8VU1FdBshuTDdL2-bp2ALs0E-0kpCV5kVdwu/imbdata.png)"
   ]
  },
  {
   "cell_type": "code",
   "execution_count": 33,
   "metadata": {
    "_uuid": "bda7929cf124ed55c06e57e6119ec3a1dff2b220"
   },
   "outputs": [
    {
     "name": "stdout",
     "output_type": "stream",
     "text": [
      "size of data is: 200000\n",
      "for target  0 =\n",
      "89.95100000000001 %\n",
      "for target  1 =\n",
      "10.049 %\n"
     ]
    }
   ],
   "source": [
    "check_balance(train,'target')"
   ]
  },
  {
   "cell_type": "markdown",
   "metadata": {
    "_uuid": "ad216b95bcbcf07e0b6ee6000f974acd0d2409b6"
   },
   "source": [
    "## 4-3-4 skewness and kurtosis"
   ]
  },
  {
   "cell_type": "code",
   "execution_count": 34,
   "metadata": {
    "_uuid": "b669c23c1de584988629ac99bbbe0dd74a56dd7c"
   },
   "outputs": [
    {
     "name": "stdout",
     "output_type": "stream",
     "text": [
      "Skewness: 2.657642\n",
      "Kurtosis: 5.063112\n"
     ]
    }
   ],
   "source": [
    "#skewness and kurtosis\n",
    "print(\"Skewness: %f\" % train['target'].skew())\n",
    "print(\"Kurtosis: %f\" % train['target'].kurt())"
   ]
  },
  {
   "cell_type": "markdown",
   "metadata": {
    "_uuid": "a1cba663f360dbbc2fe5a9d76ab219f153921922"
   },
   "source": [
    " <a id=\"5\"></a> <br>\n",
    "# 5- Machine Learning Explainability for Santander\n",
    "In this section, I want to try extract **insights** from models with the help of this excellent [**Course**](https://www.kaggle.com/learn/machine-learning-explainability) in Kaggle.\n",
    "The Goal behind of ML Explainability for Santander is:\n",
    "1. All features are senseless named.(var_1, var2,...) but certainly the importance of each one is different!\n",
    "1. Extract insights from models.\n",
    "1. Find the most inmortant feature in models.\n",
    "1. Affect of each feature on the model's predictions.\n",
    "<img src='http://s8.picofile.com/file/8353215168/ML_Explain.png'>\n",
    "\n",
    "As you can see from the above, we will refer to three important and practical concepts in this section and try to explain each of them in detail."
   ]
  },
  {
   "cell_type": "markdown",
   "metadata": {
    "_uuid": "2569c256bf9b387c2c0e7c06c473f0e841b6db7d"
   },
   "source": [
    " <a id=\"51\"></a> <br>\n",
    "## 5-1 Permutation Importance\n",
    " In this section we will answer following question:\n",
    " 1. What features have the biggest impact on predictions?\n",
    " 1. how to extract insights from models?"
   ]
  },
  {
   "cell_type": "markdown",
   "metadata": {
    "_uuid": "45cb8e4392def434e0c7142f33a847837207dced"
   },
   "source": [
    "### Prepare our data for our model"
   ]
  },
  {
   "cell_type": "code",
   "execution_count": 35,
   "metadata": {
    "_uuid": "9fafaf9cadb57f7c4d51489df141aa3eb85fd2a1"
   },
   "outputs": [],
   "source": [
    "cols=[\"target\",\"ID_code\"]\n",
    "X = train.drop(cols,axis=1)\n",
    "y = train[\"target\"]\n"
   ]
  },
  {
   "cell_type": "code",
   "execution_count": 36,
   "metadata": {
    "_uuid": "b79b286d0b1d7bd46525c73efb4690a7145c5cc1"
   },
   "outputs": [],
   "source": [
    "X_test  = test.drop(\"ID_code\",axis=1)"
   ]
  },
  {
   "cell_type": "markdown",
   "metadata": {
    "_uuid": "acaa4538c419e535e7ef5a68418047215cf8bd33"
   },
   "source": [
    "### Create  a sample model to calculate which feature are more important."
   ]
  },
  {
   "cell_type": "code",
   "execution_count": 37,
   "metadata": {
    "_uuid": "56c4f79c0c33bc8710ee1fd30df191c4b7030d9f"
   },
   "outputs": [],
   "source": [
    "train_X, val_X, train_y, val_y = train_test_split(X, y, random_state=1)\n",
    "#rfc_model = RandomForestClassifier(random_state=0).fit(train_X, train_y)\n",
    "\n"
   ]
  },
  {
   "cell_type": "code",
   "execution_count": 38,
   "metadata": {},
   "outputs": [
    {
     "data": {
      "text/plain": [
       "'sample_leaf_options = [1,5,10,50,100,200,500,1000]\\nfor leaf_size in sample_leaf_options :\\n      rfc_model_pred_non_def = RandomForestRegressor(n_estimators = 200,\\n                                         oob_score = True, \\n                                         min_samples_split = 10,\\n                                         max_depth = 20,\\n                                         n_jobs = -1,\\n                                         random_state =50,\\n                                         max_features = \"auto\",\\n                                         min_samples_leaf = leaf_size)'"
      ]
     },
     "execution_count": 38,
     "metadata": {},
     "output_type": "execute_result"
    }
   ],
   "source": [
    "'''sample_leaf_options = [1,5,10,50,100,200,500,1000]\n",
    "for leaf_size in sample_leaf_options :\n",
    "      rfc_model_pred_non_def = RandomForestRegressor(n_estimators = 200,\n",
    "                                         oob_score = True, \n",
    "                                         min_samples_split = 10,\n",
    "                                         max_depth = 20,\n",
    "                                         n_jobs = -1,\n",
    "                                         random_state =50,\n",
    "                                         max_features = \"auto\",\n",
    "                                         min_samples_leaf = leaf_size)'''"
   ]
  },
  {
   "cell_type": "code",
   "execution_count": 39,
   "metadata": {},
   "outputs": [
    {
     "data": {
      "text/plain": [
       "'rfc_model_pred_non_def.fit(train_X, train_y)'"
      ]
     },
     "execution_count": 39,
     "metadata": {},
     "output_type": "execute_result"
    }
   ],
   "source": [
    "'''rfc_model_pred_non_def.fit(train_X, train_y)'''"
   ]
  },
  {
   "cell_type": "code",
   "execution_count": 40,
   "metadata": {},
   "outputs": [
    {
     "data": {
      "text/plain": [
       "'rfc_model_pred_non_def.predict(X_test)'"
      ]
     },
     "execution_count": 40,
     "metadata": {},
     "output_type": "execute_result"
    }
   ],
   "source": [
    "'''rfc_model_pred_non_def.predict(X_test)'''"
   ]
  },
  {
   "cell_type": "code",
   "execution_count": 41,
   "metadata": {},
   "outputs": [
    {
     "data": {
      "text/plain": [
       "'rfc_model_pred_non_def.score(X_test,y)'"
      ]
     },
     "execution_count": 41,
     "metadata": {},
     "output_type": "execute_result"
    }
   ],
   "source": [
    "'''rfc_model_pred_non_def.score(X_test,y)'''"
   ]
  },
  {
   "cell_type": "code",
   "execution_count": 42,
   "metadata": {},
   "outputs": [],
   "source": []
  },
  {
   "cell_type": "code",
   "execution_count": 42,
   "metadata": {},
   "outputs": [],
   "source": [
    "#import graphlab as gl\n",
    "from sklearn.ensemble import RandomForestRegressor\n",
    "sample_leaf_options = [1,5,10,50,100,200,500,1000]\n",
    "for leaf_size in sample_leaf_options :\n",
    "      #rfc_model_pred = RandomForestRegressor(n_estimators = 200,\n",
    "       #                                  oob_score = True, \n",
    "        #                                 min_samples_split = 10,\n",
    "         #                                max_depth = 20,\n",
    "          #                               n_jobs = -1,\n",
    "           #                              random_state =50,\n",
    "            #                             max_features = \"auto\",\n",
    "             #                            min_samples_leaf = leaf_size)\n",
    "#default parameters\n",
    "        rfc_model_pred = RandomForestRegressor(bootstrap=True, criterion='mse', max_depth=2,\n",
    "                                               max_features='auto', max_leaf_nodes=None,\n",
    "                                               min_impurity_decrease=0.0, min_impurity_split=None,\n",
    "                                               min_samples_leaf=1, min_samples_split=2,\n",
    "                                               min_weight_fraction_leaf=0.0, n_estimators=100, n_jobs=None,\n",
    "                                               oob_score=True, random_state=0, verbose=0, warm_start=False)\n",
    "\n",
    "\n"
   ]
  },
  {
   "cell_type": "code",
   "execution_count": 43,
   "metadata": {},
   "outputs": [
    {
     "data": {
      "text/plain": [
       "RandomForestRegressor(bootstrap=True, criterion='mse', max_depth=2,\n",
       "           max_features='auto', max_leaf_nodes=None,\n",
       "           min_impurity_decrease=0.0, min_impurity_split=None,\n",
       "           min_samples_leaf=1, min_samples_split=2,\n",
       "           min_weight_fraction_leaf=0.0, n_estimators=100, n_jobs=None,\n",
       "           oob_score=True, random_state=0, verbose=0, warm_start=False)"
      ]
     },
     "execution_count": 43,
     "metadata": {},
     "output_type": "execute_result"
    }
   ],
   "source": [
    "rfc_model_pred.fit(train_X, train_y)"
   ]
  },
  {
   "cell_type": "code",
   "execution_count": 44,
   "metadata": {},
   "outputs": [],
   "source": [
    "rfc_model_pred_sub = rfc_model_pred.predict(X_test)"
   ]
  },
  {
   "cell_type": "code",
   "execution_count": 45,
   "metadata": {},
   "outputs": [
    {
     "data": {
      "text/plain": [
       "-0.011627655840975137"
      ]
     },
     "execution_count": 45,
     "metadata": {},
     "output_type": "execute_result"
    }
   ],
   "source": [
    "rfc_model_pred.score(X_test,y)"
   ]
  },
  {
   "cell_type": "code",
   "execution_count": 46,
   "metadata": {},
   "outputs": [],
   "source": []
  },
  {
   "cell_type": "markdown",
   "metadata": {},
   "source": [
    "#### tuning randomforestclassifier"
   ]
  },
  {
   "cell_type": "code",
   "execution_count": 46,
   "metadata": {},
   "outputs": [
    {
     "data": {
      "text/plain": [
       "'sample_leaf_options = [1,5,10,50,100,200,500,1000]\\nfor leaf_size in sample_leaf_options :\\n      rfc_model = RandomForestClassifier(n_estimators = 200,\\n                                         oob_score = True, \\n                                         min_samples_split = 10,\\n                                         max_depth = 20,\\n                                         n_jobs = -1,\\n                                         random_state =50,\\n                                         max_features = \"auto\",\\n                                         min_samples_leaf = leaf_size)'"
      ]
     },
     "execution_count": 46,
     "metadata": {},
     "output_type": "execute_result"
    }
   ],
   "source": [
    "'''sample_leaf_options = [1,5,10,50,100,200,500,1000]\n",
    "for leaf_size in sample_leaf_options :\n",
    "      rfc_model = RandomForestClassifier(n_estimators = 200,\n",
    "                                         oob_score = True, \n",
    "                                         min_samples_split = 10,\n",
    "                                         max_depth = 20,\n",
    "                                         n_jobs = -1,\n",
    "                                         random_state =50,\n",
    "                                         max_features = \"auto\",\n",
    "                                         min_samples_leaf = leaf_size)'''\n",
    "\n",
    "        \n",
    "        "
   ]
  },
  {
   "cell_type": "code",
   "execution_count": 47,
   "metadata": {},
   "outputs": [
    {
     "data": {
      "text/plain": [
       "'rfc_model.fit(train_X, train_y)'"
      ]
     },
     "execution_count": 47,
     "metadata": {},
     "output_type": "execute_result"
    }
   ],
   "source": [
    "'''rfc_model.fit(train_X, train_y)'''"
   ]
  },
  {
   "cell_type": "code",
   "execution_count": 48,
   "metadata": {},
   "outputs": [
    {
     "data": {
      "text/plain": [
       "'rfr_model_def_param = rfc_model.predict(X_test)'"
      ]
     },
     "execution_count": 48,
     "metadata": {},
     "output_type": "execute_result"
    }
   ],
   "source": [
    "'''rfr_model_def_param = rfc_model.predict(X_test)'''"
   ]
  },
  {
   "cell_type": "code",
   "execution_count": 49,
   "metadata": {},
   "outputs": [
    {
     "data": {
      "text/plain": [
       "'rfc_model.score(X_test,y)'"
      ]
     },
     "execution_count": 49,
     "metadata": {},
     "output_type": "execute_result"
    }
   ],
   "source": [
    "'''rfc_model.score(X_test,y)'''"
   ]
  },
  {
   "cell_type": "code",
   "execution_count": 50,
   "metadata": {},
   "outputs": [],
   "source": [
    "#print (\"AUC - ROC : \", roc_auc_score(train_y,rfc_model.oob_score))"
   ]
  },
  {
   "cell_type": "markdown",
   "metadata": {
    "_uuid": "40f4fa49e4294d640b6f96aa27c4730f4be126c2"
   },
   "source": [
    " <a id=\"52\"></a> <br>\n",
    "## 5-2 How to calculate and show importances?"
   ]
  },
  {
   "cell_type": "markdown",
   "metadata": {
    "_uuid": "a26af6d6608bb4102139f13863433e26c9402319"
   },
   "source": [
    "### Here is how to calculate and show importances with the [eli5](https://eli5.readthedocs.io/en/latest/) library:"
   ]
  },
  {
   "cell_type": "code",
   "execution_count": 51,
   "metadata": {
    "_uuid": "9adf93667cd114f0c48b9d4bc362253a4a7ef6ad"
   },
   "outputs": [],
   "source": [
    "#import eli5\n",
    "#from eli5.sklearn import PermutationImportance\n",
    "\n",
    "#perm = PermutationImportance(rfc_model, random_state=1).fit(val_X, val_y)"
   ]
  },
  {
   "cell_type": "code",
   "execution_count": 52,
   "metadata": {
    "_uuid": "c785b21a2428bbe476539801876047f1250cc47a"
   },
   "outputs": [],
   "source": [
    "#eli5.show_weights(perm, feature_names = val_X.columns.tolist(), top=150)"
   ]
  },
  {
   "cell_type": "markdown",
   "metadata": {
    "_uuid": "0b8ee511449fc9646b577d05ac84b3cacf4bb786"
   },
   "source": [
    "<a id=\"53\"></a> <br>\n",
    "## 5-3 What can be inferred from the above?\n",
    "1. As you move down the top of the graph, the importance of the feature decreases.\n",
    "1. The features that are shown in green indicate that they have a positive impact on our prediction\n",
    "1. The features that are shown in white indicate that they have no effect on our prediction\n",
    "1. The features shown in red indicate that they have a negative impact on our prediction\n",
    "1.  The most important feature was **Var_110**."
   ]
  },
  {
   "cell_type": "markdown",
   "metadata": {
    "_uuid": "07ccdd2461ce8a4c3bbc3f349dfbaa2ee499890c"
   },
   "source": [
    "<a id=\"54\"></a> <br>\n",
    "## 5-4 Partial Dependence Plots\n",
    "While **feature importance** shows what **variables** most affect predictions, **partial dependence** plots show how a feature affects predictions.[6][7]\n",
    "and partial dependence plots are calculated after a model has been fit. [partial-plots](https://www.kaggle.com/dansbecker/partial-plots)"
   ]
  },
  {
   "cell_type": "code",
   "execution_count": 53,
   "metadata": {
    "_uuid": "ee0955bd131d648bd537f2539bfb16109775ac7b"
   },
   "outputs": [
    {
     "data": {
      "text/plain": [
       "'train_X, val_X, train_y, val_y = train_test_split(X, y, random_state=1)\\ntree_model = DecisionTreeClassifier(random_state=0, max_depth=5, min_samples_split=5).fit(train_X, train_y)\\n'"
      ]
     },
     "execution_count": 53,
     "metadata": {},
     "output_type": "execute_result"
    }
   ],
   "source": [
    "'''train_X, val_X, train_y, val_y = train_test_split(X, y, random_state=1)\n",
    "tree_model = DecisionTreeClassifier(random_state=0, max_depth=5, min_samples_split=5).fit(train_X, train_y)\n",
    "'''\n",
    "\n"
   ]
  },
  {
   "cell_type": "markdown",
   "metadata": {
    "_uuid": "4e41acfbf4aac345477843189332b0244985b8a6"
   },
   "source": [
    "For the sake of explanation, I use a Decision Tree which you can see below."
   ]
  },
  {
   "cell_type": "code",
   "execution_count": 54,
   "metadata": {
    "_uuid": "9883467c298aff26fa9067a3c52e81914b7613a8"
   },
   "outputs": [
    {
     "data": {
      "text/plain": [
       "\"features = [c for c in train.columns if c not in ['ID_code', 'target']]\""
      ]
     },
     "execution_count": 54,
     "metadata": {},
     "output_type": "execute_result"
    }
   ],
   "source": [
    "'''features = [c for c in train.columns if c not in ['ID_code', 'target']]'''"
   ]
  },
  {
   "cell_type": "code",
   "execution_count": 55,
   "metadata": {
    "_uuid": "90b880a7ee20e9f9b4d730a6aa3533e9a613164a"
   },
   "outputs": [
    {
     "data": {
      "text/plain": [
       "'from sklearn import tree\\nimport graphviz\\ntree_graph = tree.export_graphviz(tree_model, out_file=None, feature_names=features)\\n'"
      ]
     },
     "execution_count": 55,
     "metadata": {},
     "output_type": "execute_result"
    }
   ],
   "source": [
    "'''from sklearn import tree\n",
    "import graphviz\n",
    "tree_graph = tree.export_graphviz(tree_model, out_file=None, feature_names=features)\n",
    "'''"
   ]
  },
  {
   "cell_type": "code",
   "execution_count": 56,
   "metadata": {
    "_uuid": "3f0e5127ef1e07176ec276b54b14f71527b18e94"
   },
   "outputs": [],
   "source": [
    "#graphviz.Source(tree_graph)"
   ]
  },
  {
   "cell_type": "markdown",
   "metadata": {
    "_uuid": "aa18ba89df82369acf1eeccc9ade46d89e9c65a3"
   },
   "source": [
    "As guidance to read the tree:\n",
    "\n",
    "1. Leaves with children show their splitting criterion on the top\n",
    "1. The pair of values at the bottom show the count of True values and False values for the target respectively, of data points in that node of the tree.\n",
    "><font color=\"red\"><b>Note: </b></font>\n",
    "Yes **Var_81** are more effective on our model."
   ]
  },
  {
   "cell_type": "markdown",
   "metadata": {
    "_uuid": "780dad7a7ba8563e8c3350bb12dbc3adddbff032"
   },
   "source": [
    "<a id=\"55\"></a> <br>\n",
    "## 5-5  Partial Dependence Plot\n",
    "In this section, we see the impact of the main variables discovered in the previous sections by using the [pdpbox](https://pdpbox.readthedocs.io/en/latest/)."
   ]
  },
  {
   "cell_type": "code",
   "execution_count": 57,
   "metadata": {
    "_uuid": "a2afa48cb3e7ed89e07b7ea5f14c67fa565c4a07"
   },
   "outputs": [
    {
     "data": {
      "text/plain": [
       "\"from matplotlib import pyplot as plt\\nfrom pdpbox import pdp, get_dataset, info_plots\\n\\n# Create the data that we will plot\\npdp_goals = pdp.pdp_isolate(model=tree_model, dataset=val_X, model_features=features, feature='var_81')\\n\\n# plot it\\npdp.pdp_plot(pdp_goals, 'var_81')\\nplt.show()\\n\""
      ]
     },
     "execution_count": 57,
     "metadata": {},
     "output_type": "execute_result"
    }
   ],
   "source": [
    "'''from matplotlib import pyplot as plt\n",
    "from pdpbox import pdp, get_dataset, info_plots\n",
    "\n",
    "# Create the data that we will plot\n",
    "pdp_goals = pdp.pdp_isolate(model=tree_model, dataset=val_X, model_features=features, feature='var_81')\n",
    "\n",
    "# plot it\n",
    "pdp.pdp_plot(pdp_goals, 'var_81')\n",
    "plt.show()\n",
    "'''"
   ]
  },
  {
   "cell_type": "markdown",
   "metadata": {
    "_uuid": "076a43ef130a0c71834a783a450e3d1f7c34ff90"
   },
   "source": [
    "<a id=\"56\"></a> <br>\n",
    "## 5-6 Chart analysis\n",
    "1. The y axis is interpreted as change in the prediction from what it would be predicted at the baseline or leftmost value.\n",
    "1. A blue shaded area indicates level of confidence"
   ]
  },
  {
   "cell_type": "code",
   "execution_count": 58,
   "metadata": {
    "_uuid": "cb28fd99a6b2bec709a8dda9af6b958cc28c75c1"
   },
   "outputs": [
    {
     "data": {
      "text/plain": [
       "\"# Create the data that we will plot\\npdp_goals = pdp.pdp_isolate(model=tree_model, dataset=val_X, model_features=features, feature='var_82')\\n\\n# plot it\\npdp.pdp_plot(pdp_goals, 'var_82')\\nplt.show()\""
      ]
     },
     "execution_count": 58,
     "metadata": {},
     "output_type": "execute_result"
    }
   ],
   "source": [
    "'''# Create the data that we will plot\n",
    "pdp_goals = pdp.pdp_isolate(model=tree_model, dataset=val_X, model_features=features, feature='var_82')\n",
    "\n",
    "# plot it\n",
    "pdp.pdp_plot(pdp_goals, 'var_82')\n",
    "plt.show()'''\n"
   ]
  },
  {
   "cell_type": "code",
   "execution_count": 59,
   "metadata": {
    "_uuid": "e16c5a3a1301ddb137feb8010e9b48adaf4a2ba8"
   },
   "outputs": [
    {
     "data": {
      "text/plain": [
       "\"# Create the data that we will plot\\npdp_goals = pdp.pdp_isolate(model=tree_model, dataset=val_X, model_features=features, feature='var_139')\\n\\n# plot it\\npdp.pdp_plot(pdp_goals, 'var_139')\\nplt.show()\\n\""
      ]
     },
     "execution_count": 59,
     "metadata": {},
     "output_type": "execute_result"
    }
   ],
   "source": [
    "'''# Create the data that we will plot\n",
    "pdp_goals = pdp.pdp_isolate(model=tree_model, dataset=val_X, model_features=features, feature='var_139')\n",
    "\n",
    "# plot it\n",
    "pdp.pdp_plot(pdp_goals, 'var_139')\n",
    "plt.show()\n",
    "'''"
   ]
  },
  {
   "cell_type": "code",
   "execution_count": 60,
   "metadata": {
    "_uuid": "d051fc154bf318035daa976307774ddf3afe5135"
   },
   "outputs": [
    {
     "data": {
      "text/plain": [
       "\"# Create the data that we will plot\\npdp_goals = pdp.pdp_isolate(model=tree_model, dataset=val_X, model_features=features, feature='var_110')\\n\\n# plot it\\npdp.pdp_plot(pdp_goals, 'var_110')\\nplt.show()\\n\""
      ]
     },
     "execution_count": 60,
     "metadata": {},
     "output_type": "execute_result"
    }
   ],
   "source": [
    "'''# Create the data that we will plot\n",
    "pdp_goals = pdp.pdp_isolate(model=tree_model, dataset=val_X, model_features=features, feature='var_110')\n",
    "\n",
    "# plot it\n",
    "pdp.pdp_plot(pdp_goals, 'var_110')\n",
    "plt.show()\n",
    "'''"
   ]
  },
  {
   "cell_type": "markdown",
   "metadata": {
    "_uuid": "5cf96fc2a60f0e0e80ab072d72d4c8677d027d3e"
   },
   "source": [
    "<a id=\"57\"></a> <br>\n",
    "## 5-7 SHAP Values\n",
    "**SHAP** (SHapley Additive exPlanations) is a unified approach to explain the output of **any machine learning model**. SHAP connects game theory with local explanations, uniting several previous methods [1-7] and representing the only possible consistent and locally accurate additive feature attribution method based on expectations (see the SHAP NIPS paper for details).\n",
    "\n",
    "<img src='https://raw.githubusercontent.com/slundberg/shap/master/docs/artwork/shap_diagram.png' width=400 height=400>\n",
    "[image credits](https://github.com/slundberg/shap)\n",
    "><font color=\"red\"><b>Note: </b></font>\n",
    "Shap can answer to this qeustion : **how the model works for an individual prediction?**"
   ]
  },
  {
   "cell_type": "code",
   "execution_count": 61,
   "metadata": {
    "_uuid": "57a5e96a5533e4f93d2eac8abd74b0225f9d3d81"
   },
   "outputs": [
    {
     "data": {
      "text/plain": [
       "\"'row_to_show = 5\\ndata_for_prediction = val_X.iloc[row_to_show]  # use 1 row of data here. Could use multiple rows if desired\\ndata_for_prediction_array = data_for_prediction.values.reshape(1, -1)\\n\\n\\nrfc_model.predict_proba(data_for_prediction_array);\\n\\n\\n\""
      ]
     },
     "execution_count": 61,
     "metadata": {},
     "output_type": "execute_result"
    }
   ],
   "source": [
    "''''row_to_show = 5\n",
    "data_for_prediction = val_X.iloc[row_to_show]  # use 1 row of data here. Could use multiple rows if desired\n",
    "data_for_prediction_array = data_for_prediction.values.reshape(1, -1)\n",
    "\n",
    "\n",
    "rfc_model.predict_proba(data_for_prediction_array);\n",
    "\n",
    "\n",
    "'''"
   ]
  },
  {
   "cell_type": "code",
   "execution_count": 62,
   "metadata": {
    "_uuid": "4bd5eb8b532c72167ba192b94bfdffa5c5028fa9"
   },
   "outputs": [
    {
     "data": {
      "text/plain": [
       "\"'import shap  # package used to calculate Shap values\\n\\n# Create object that can calculate shap values\\nexplainer = shap.TreeExplainer(rfc_model)\\n\\n# Calculate Shap values\\nshap_values = explainer.shap_values(data_for_prediction)\\n\""
      ]
     },
     "execution_count": 62,
     "metadata": {},
     "output_type": "execute_result"
    }
   ],
   "source": [
    "''''import shap  # package used to calculate Shap values\n",
    "\n",
    "# Create object that can calculate shap values\n",
    "explainer = shap.TreeExplainer(rfc_model)\n",
    "\n",
    "# Calculate Shap values\n",
    "shap_values = explainer.shap_values(data_for_prediction)\n",
    "'''\n",
    "\n",
    "\n",
    "\n"
   ]
  },
  {
   "cell_type": "markdown",
   "metadata": {
    "_uuid": "f0870d8abb31c03d14ac611c518d206bfbe06351"
   },
   "source": [
    "If you look carefully at the code where we created the SHAP values, you'll notice we reference Trees in  **shap.TreeExplainer(my_model)**. But the SHAP package has explainers for every type of model.\n",
    "\n",
    "1. shap.DeepExplainer works with Deep Learning models.\n",
    "1. shap.KernelExplainer works with all models, though it is slower than other Explainers and it offers an approximation rather than exact Shap values."
   ]
  },
  {
   "cell_type": "code",
   "execution_count": 63,
   "metadata": {
    "_uuid": "6b0f8b3fbc92ce157d40ca9de82eef16e61b2b02"
   },
   "outputs": [],
   "source": [
    "#shap.initjs()\n",
    "#shap.force_plot(explainer.expected_value[1], shap_values[1], data_for_prediction)"
   ]
  },
  {
   "cell_type": "markdown",
   "metadata": {
    "_uuid": "bd284df5d62d611a529251e5a9e9ded42956f450"
   },
   "source": [
    " <a id=\"6\"></a> <br>\n",
    "# 6- Model Development\n",
    "So far, we have used two  models, and at this point we add another model and we'll be expanding it soon.\n",
    "in this section you will see following model:\n",
    "1. lightgbm\n",
    "1. RandomForestClassifier\n",
    "1. DecisionTreeClassifier\n",
    "1. CatBoostClassifier"
   ]
  },
  {
   "cell_type": "markdown",
   "metadata": {
    "_uuid": "d29905d41994b8e97236023a2339ca17dbc54018"
   },
   "source": [
    "## 6-1 lightgbm"
   ]
  },
  {
   "cell_type": "code",
   "execution_count": 64,
   "metadata": {
    "_kg_hide-input": false,
    "_uuid": "e69efb809c800429126a0652ea2ad6d142a7748c"
   },
   "outputs": [
    {
     "data": {
      "text/plain": [
       "'# params is based on following kernel https://www.kaggle.com/brandenkmurray/nothing-works\\nparams = {\\'objective\\' : \"binary\", \\n               \\'boost\\':\"gbdt\",\\n               \\'metric\\':\"auc\",\\n               \\'boost_from_average\\':\"false\",\\n               \\'num_threads\\':8,\\n               \\'learning_rate\\' : 0.01,\\n          \\n               \\'num_leaves\\' : 3,\\n               \\'min_data_in_leaf\\' : 80,\\n               \\'max_depth\\':-1,\\n               \\'tree_learner\\' : \"serial\",\\n               \\'feature_fraction\\' : 0.05,\\n               \\'bagging_freq\\' : 5,\\n               \\'bagging_fraction\\' : 0.4,\\n               \\'min_sum_hessian_in_leaf\\' : 20.0,\\n               \\'verbosity\\' : 1}\\n               \\n               '"
      ]
     },
     "execution_count": 64,
     "metadata": {},
     "output_type": "execute_result"
    }
   ],
   "source": [
    "'''# params is based on following kernel https://www.kaggle.com/brandenkmurray/nothing-works\n",
    "params = {'objective' : \"binary\", \n",
    "               'boost':\"gbdt\",\n",
    "               'metric':\"auc\",\n",
    "               'boost_from_average':\"false\",\n",
    "               'num_threads':8,\n",
    "               'learning_rate' : 0.01,\n",
    "          \n",
    "               'num_leaves' : 3,\n",
    "               'min_data_in_leaf' : 80,\n",
    "               'max_depth':-1,\n",
    "               'tree_learner' : \"serial\",\n",
    "               'feature_fraction' : 0.05,\n",
    "               'bagging_freq' : 5,\n",
    "               'bagging_fraction' : 0.4,\n",
    "               'min_sum_hessian_in_leaf' : 20.0,\n",
    "               'verbosity' : 1}\n",
    "               \n",
    "               '''\n",
    "\n",
    "\n"
   ]
  },
  {
   "cell_type": "code",
   "execution_count": 65,
   "metadata": {},
   "outputs": [
    {
     "data": {
      "text/plain": [
       "'\\'# params is based on following kernel https://www.kaggle.com/brandenkmurray/nothing-works\\nparams = {\\'objective\\' : \"binary\", \\n               \\'boost\\':\"gbdt\",\\n               \\'metric\\':\"auc\",\\n               \\'boost_from_average\\':\"false\",\\n               \\'num_threads\\':8,\\n               \\'learning_rate\\' : 0.01,\\n          \\n               \\'num_leaves\\' : 15,\\n               \\'min_data_in_leaf\\' : 80,\\n               \\'max_depth\\':-1,\\n               \\'tree_learner\\' : \"serial\",\\n               \\'feature_fraction\\' : 0.05,\\n               \\'bagging_freq\\' : 5,\\n               \\'bagging_fraction\\' : 0.4,\\n               \\'min_sum_hessian_in_leaf\\' : 10.0,\\n               \\'verbosity\\' : 1}\\n               '"
      ]
     },
     "execution_count": 65,
     "metadata": {},
     "output_type": "execute_result"
    }
   ],
   "source": [
    "# increasing accuracy \n",
    "''''# params is based on following kernel https://www.kaggle.com/brandenkmurray/nothing-works\n",
    "params = {'objective' : \"binary\", \n",
    "               'boost':\"gbdt\",\n",
    "               'metric':\"auc\",\n",
    "               'boost_from_average':\"false\",\n",
    "               'num_threads':8,\n",
    "               'learning_rate' : 0.01,\n",
    "          \n",
    "               'num_leaves' : 15,\n",
    "               'min_data_in_leaf' : 80,\n",
    "               'max_depth':-1,\n",
    "               'tree_learner' : \"serial\",\n",
    "               'feature_fraction' : 0.05,\n",
    "               'bagging_freq' : 5,\n",
    "               'bagging_fraction' : 0.4,\n",
    "               'min_sum_hessian_in_leaf' : 10.0,\n",
    "               'verbosity' : 1}\n",
    "               '''\n",
    "               "
   ]
  },
  {
   "cell_type": "code",
   "execution_count": 66,
   "metadata": {
    "_kg_hide-input": false,
    "_kg_hide-output": true,
    "_uuid": "ce482d4a37fbcaa01ddcfb181c5d81fac729a1e5"
   },
   "outputs": [
    {
     "data": {
      "text/plain": [
       "\"'%%time\\ny_pred_lgb = np.zeros(len(X_test))\\nnum_round = 1000000\\nfor fold_n, (train_index, valid_index) in enumerate(folds.split(X,y)):\\n    print('Fold', fold_n, 'started at', time.ctime())\\n    X_train, X_valid = X.iloc[train_index], X.iloc[valid_index]\\n    y_train, y_valid = y.iloc[train_index], y.iloc[valid_index]\\n    \\n    train_data = lgb.Dataset(X_train, label=y_train)\\n    valid_data = lgb.Dataset(X_valid, label=y_valid)\\n        \\n    lgb_model = lgb.train(params,train_data,num_round,#change 20 to 2000\\n                    valid_sets = [train_data, valid_data],verbose_eval=1000,early_stopping_rounds = 3500)##change 10 to 200\\n            \\n    y_pred_lgb += lgb_model.predict(X_test, num_iteration=lgb_model.best_iteration)/5 \""
      ]
     },
     "execution_count": 66,
     "metadata": {},
     "output_type": "execute_result"
    }
   ],
   "source": [
    "''''%%time\n",
    "y_pred_lgb = np.zeros(len(X_test))\n",
    "num_round = 1000000\n",
    "for fold_n, (train_index, valid_index) in enumerate(folds.split(X,y)):\n",
    "    print('Fold', fold_n, 'started at', time.ctime())\n",
    "    X_train, X_valid = X.iloc[train_index], X.iloc[valid_index]\n",
    "    y_train, y_valid = y.iloc[train_index], y.iloc[valid_index]\n",
    "    \n",
    "    train_data = lgb.Dataset(X_train, label=y_train)\n",
    "    valid_data = lgb.Dataset(X_valid, label=y_valid)\n",
    "        \n",
    "    lgb_model = lgb.train(params,train_data,num_round,#change 20 to 2000\n",
    "                    valid_sets = [train_data, valid_data],verbose_eval=1000,early_stopping_rounds = 3500)##change 10 to 200\n",
    "            \n",
    "    y_pred_lgb += lgb_model.predict(X_test, num_iteration=lgb_model.best_iteration)/5 '''\n",
    "    "
   ]
  },
  {
   "cell_type": "markdown",
   "metadata": {
    "_uuid": "7f44325cc85d5a2b31fa8b8034a82630e3414bf7"
   },
   "source": [
    " <a id=\"62\"></a> <br>\n",
    "## 6-2 RandomForestClassifier"
   ]
  },
  {
   "cell_type": "code",
   "execution_count": 67,
   "metadata": {
    "_uuid": "7ac7d44b0a6664339e8d4a58abacf35de4693163"
   },
   "outputs": [],
   "source": [
    "#y_pred_rfc = rfc_model.predict(X_test)"
   ]
  },
  {
   "cell_type": "code",
   "execution_count": 68,
   "metadata": {},
   "outputs": [],
   "source": [
    "#y_pred_rfc"
   ]
  },
  {
   "cell_type": "markdown",
   "metadata": {
    "_uuid": "889fbdd4dd0550e74a051079113b8042da7cf5a8"
   },
   "source": [
    " <a id=\"63\"></a> <br>\n",
    "## 6-3 DecisionTreeClassifier"
   ]
  },
  {
   "cell_type": "code",
   "execution_count": 69,
   "metadata": {
    "_uuid": "b973d4bedc26288c23eba15c349e1e5cfe6631b5"
   },
   "outputs": [],
   "source": [
    "#y_pred_tree = tree_model.predict(X_test)"
   ]
  },
  {
   "cell_type": "code",
   "execution_count": 70,
   "metadata": {},
   "outputs": [],
   "source": [
    "#y_pred_tree"
   ]
  },
  {
   "cell_type": "markdown",
   "metadata": {
    "_uuid": "3b95767d219b083d8e88341a291dfb01f4b328eb"
   },
   "source": [
    " <a id=\"64\"></a> <br>\n",
    "## 6-4 CatBoostClassifier"
   ]
  },
  {
   "cell_type": "code",
   "execution_count": 71,
   "metadata": {
    "_uuid": "f743b2763fdef90213a713e0c2155c5232f799c8"
   },
   "outputs": [
    {
     "data": {
      "text/plain": [
       "'train_pool = Pool(train_X,train_y)\\ncat_model = CatBoostClassifier(\\n                               iterations=3000,# change 25 to 3000 to get best performance \\n                               learning_rate=0.03,\\n                               objective=\"Logloss\",\\n                               eval_metric=\\'AUC\\',\\n                              )\\ncat_model.fit(train_X,train_y,silent=True)\\ny_pred_cat = cat_model.predict(X_test)\\n'"
      ]
     },
     "execution_count": 71,
     "metadata": {},
     "output_type": "execute_result"
    }
   ],
   "source": [
    "'''train_pool = Pool(train_X,train_y)\n",
    "cat_model = CatBoostClassifier(\n",
    "                               iterations=3000,# change 25 to 3000 to get best performance \n",
    "                               learning_rate=0.03,\n",
    "                               objective=\"Logloss\",\n",
    "                               eval_metric='AUC',\n",
    "                              )\n",
    "cat_model.fit(train_X,train_y,silent=True)\n",
    "y_pred_cat = cat_model.predict(X_test)\n",
    "'''"
   ]
  },
  {
   "cell_type": "markdown",
   "metadata": {},
   "source": [
    " <a id=\"64.1\"></a> <br>\n",
    "## 6-5 adaboost"
   ]
  },
  {
   "cell_type": "code",
   "execution_count": 72,
   "metadata": {},
   "outputs": [
    {
     "data": {
      "text/plain": [
       "'from sklearn.ensemble import AdaBoostClassifier\\nab_model = AdaBoostClassifier(random_state=1)\\nab_model.fit(train_X,train_y)\\ny_pred_ab = ab_model.predict(X_test)'"
      ]
     },
     "execution_count": 72,
     "metadata": {},
     "output_type": "execute_result"
    }
   ],
   "source": [
    "'''from sklearn.ensemble import AdaBoostClassifier\n",
    "ab_model = AdaBoostClassifier(random_state=1)\n",
    "ab_model.fit(train_X,train_y)\n",
    "y_pred_ab = ab_model.predict(X_test)'''\n",
    "\n"
   ]
  },
  {
   "cell_type": "code",
   "execution_count": 73,
   "metadata": {},
   "outputs": [],
   "source": [
    "#ab_model.score(X_test , y)"
   ]
  },
  {
   "cell_type": "markdown",
   "metadata": {},
   "source": [
    "<a id=\"64.2\"></a> <br>\n",
    "## 6-6 XGboost"
   ]
  },
  {
   "cell_type": "code",
   "execution_count": 74,
   "metadata": {},
   "outputs": [
    {
     "data": {
      "text/plain": [
       "'import xgboost as xgb\\nxg_model=xgb.XGBClassifier(random_state=1,learning_rate=0.01)\\nxg_model.fit(train_X, train_y)\\ny_pred_xg = ab_model.predict(X_test)'"
      ]
     },
     "execution_count": 74,
     "metadata": {},
     "output_type": "execute_result"
    }
   ],
   "source": [
    "'''import xgboost as xgb\n",
    "xg_model=xgb.XGBClassifier(random_state=1,learning_rate=0.01)\n",
    "xg_model.fit(train_X, train_y)\n",
    "y_pred_xg = ab_model.predict(X_test)'''\n"
   ]
  },
  {
   "cell_type": "code",
   "execution_count": 75,
   "metadata": {},
   "outputs": [
    {
     "data": {
      "text/plain": [
       "'xg_model.score(X_test,y)'"
      ]
     },
     "execution_count": 75,
     "metadata": {},
     "output_type": "execute_result"
    }
   ],
   "source": [
    "'''xg_model.score(X_test,y)'''"
   ]
  },
  {
   "cell_type": "markdown",
   "metadata": {
    "_uuid": "b576919e7514d144a1a34933d98c341bdc93a854"
   },
   "source": [
    "Now you can change your model and submit the results of other models."
   ]
  },
  {
   "cell_type": "code",
   "execution_count": 76,
   "metadata": {},
   "outputs": [],
   "source": []
  },
  {
   "cell_type": "code",
   "execution_count": 76,
   "metadata": {},
   "outputs": [],
   "source": [
    "#rfr_model_def_param\n",
    "submission_rfc = pd.DataFrame({\n",
    "        \"ID_code\": test[\"ID_code\"],\n",
    "        \"target\": rfc_model_pred_sub\n",
    "    })\n",
    "submission_rfc.to_csv('submission_rfr_def_param.csv', index=False)"
   ]
  },
  {
   "cell_type": "code",
   "execution_count": 77,
   "metadata": {
    "_uuid": "c2765114557a8a202652b6a0397f6c5f23217ca2"
   },
   "outputs": [
    {
     "data": {
      "text/plain": [
       "'submission_rfc = pd.DataFrame({\\n        \"ID_code\": test[\"ID_code\"],\\n        \"target\": y_pred_rfc\\n    })\\nsubmission_rfc.to_csv(\\'submission_rfc.csv\\', index=False)\\n\\n'"
      ]
     },
     "execution_count": 77,
     "metadata": {},
     "output_type": "execute_result"
    }
   ],
   "source": [
    "'''submission_rfc = pd.DataFrame({\n",
    "        \"ID_code\": test[\"ID_code\"],\n",
    "        \"target\": y_pred_rfc\n",
    "    })\n",
    "submission_rfc.to_csv('submission_rfc.csv', index=False)\n",
    "\n",
    "'''"
   ]
  },
  {
   "cell_type": "code",
   "execution_count": 78,
   "metadata": {
    "_uuid": "203de1a68091ba5b2f3281ba0a7ea508cfd34d81"
   },
   "outputs": [
    {
     "data": {
      "text/plain": [
       "'submission_tree = pd.DataFrame({\\n        \"ID_code\": test[\"ID_code\"],\\n        \"target\": y_pred_tree\\n    })\\nsubmission_tree.to_csv(\\'submission_tree.csv\\', index=False)\\n'"
      ]
     },
     "execution_count": 78,
     "metadata": {},
     "output_type": "execute_result"
    }
   ],
   "source": [
    "'''submission_tree = pd.DataFrame({\n",
    "        \"ID_code\": test[\"ID_code\"],\n",
    "        \"target\": y_pred_tree\n",
    "    })\n",
    "submission_tree.to_csv('submission_tree.csv', index=False)\n",
    "'''"
   ]
  },
  {
   "cell_type": "code",
   "execution_count": 79,
   "metadata": {
    "_uuid": "40990b380a27e97f70caacbf81c6852a3842f0da"
   },
   "outputs": [
    {
     "data": {
      "text/plain": [
       "'submission_cat = pd.DataFrame({\\n        \"ID_code\": test[\"ID_code\"],\\n        \"target\": y_pred_cat\\n    })\\nsubmission_cat.to_csv(\\'submission_cat.csv\\', index=False)\\n'"
      ]
     },
     "execution_count": 79,
     "metadata": {},
     "output_type": "execute_result"
    }
   ],
   "source": [
    "'''submission_cat = pd.DataFrame({\n",
    "        \"ID_code\": test[\"ID_code\"],\n",
    "        \"target\": y_pred_cat\n",
    "    })\n",
    "submission_cat.to_csv('submission_cat.csv', index=False)\n",
    "'''"
   ]
  },
  {
   "cell_type": "code",
   "execution_count": 80,
   "metadata": {
    "_uuid": "40990b380a27e97f70caacbf81c6852a3842f0da"
   },
   "outputs": [
    {
     "data": {
      "text/plain": [
       "'submission_lgb = pd.DataFrame({\\n        \"ID_code\": test[\"ID_code\"],\\n        \"target\": y_pred_lgb\\n    })\\nsubmission_lgb.to_csv(\\'submission_lgb.csv\\', index=False)\\n\\n'"
      ]
     },
     "execution_count": 80,
     "metadata": {},
     "output_type": "execute_result"
    }
   ],
   "source": [
    "# good for submit\n",
    "'''submission_lgb = pd.DataFrame({\n",
    "        \"ID_code\": test[\"ID_code\"],\n",
    "        \"target\": y_pred_lgb\n",
    "    })\n",
    "submission_lgb.to_csv('submission_lgb.csv', index=False)\n",
    "\n",
    "'''"
   ]
  },
  {
   "cell_type": "code",
   "execution_count": 81,
   "metadata": {},
   "outputs": [
    {
     "data": {
      "text/plain": [
       "'cat_and_ab = (y_pred_ab + y_pred_cat)/2\\nprint(cat_and_ab)\\n\\n'"
      ]
     },
     "execution_count": 81,
     "metadata": {},
     "output_type": "execute_result"
    }
   ],
   "source": [
    "'''cat_and_ab = (y_pred_ab + y_pred_cat)/2\n",
    "print(cat_and_ab)\n",
    "\n",
    "'''"
   ]
  },
  {
   "cell_type": "code",
   "execution_count": 82,
   "metadata": {},
   "outputs": [
    {
     "data": {
      "text/plain": [
       "'cat_and_xg = (y_pred_xg + y_pred_cat)/2\\nprint(cat_and_xg)'"
      ]
     },
     "execution_count": 82,
     "metadata": {},
     "output_type": "execute_result"
    }
   ],
   "source": [
    "'''cat_and_xg = (y_pred_xg + y_pred_cat)/2\n",
    "print(cat_and_xg)'''"
   ]
  },
  {
   "cell_type": "code",
   "execution_count": 83,
   "metadata": {},
   "outputs": [],
   "source": []
  },
  {
   "cell_type": "code",
   "execution_count": 83,
   "metadata": {},
   "outputs": [],
   "source": []
  },
  {
   "cell_type": "code",
   "execution_count": 83,
   "metadata": {},
   "outputs": [],
   "source": []
  },
  {
   "cell_type": "markdown",
   "metadata": {
    "_uuid": "f07cdaa9c8022f6ded23b632f67d805e0c4f5b4b"
   },
   "source": [
    " <a id=\"65\"></a> <br>\n",
    "## 6-5 Funny Combine "
   ]
  },
  {
   "cell_type": "code",
   "execution_count": 83,
   "metadata": {
    "_uuid": "9f1eeb3307d3c660c68cec153273b7e14e43ed73"
   },
   "outputs": [
    {
     "data": {
      "text/plain": [
       "'submission_rfc_cat = pd.DataFrame({\\n        \"ID_code\": test[\"ID_code\"],\\n        \"target\": (y_pred_rfc +y_pred_cat)/2\\n    })\\nsubmission_rfc_cat.to_csv(\\'submission_rfc_cat.csv\\', index=False)'"
      ]
     },
     "execution_count": 83,
     "metadata": {},
     "output_type": "execute_result"
    }
   ],
   "source": [
    "'''submission_rfc_cat = pd.DataFrame({\n",
    "        \"ID_code\": test[\"ID_code\"],\n",
    "        \"target\": (y_pred_rfc +y_pred_cat)/2\n",
    "    })\n",
    "submission_rfc_cat.to_csv('submission_rfc_cat.csv', index=False)'''"
   ]
  },
  {
   "cell_type": "code",
   "execution_count": 84,
   "metadata": {
    "_uuid": "6bf9c325149e074d8ffb35277b755d177d3a38de"
   },
   "outputs": [
    {
     "data": {
      "text/plain": [
       "'submission_lgb_cat = pd.DataFrame({\\n        \"ID_code\": test[\"ID_code\"],\\n        \"target\": (y_pred_lgb +y_pred_cat)/2\\n    })\\nsubmission_lgb_cat.to_csv(\\'submission_lgb_cat.csv\\', index=False)'"
      ]
     },
     "execution_count": 84,
     "metadata": {},
     "output_type": "execute_result"
    }
   ],
   "source": [
    "'''submission_lgb_cat = pd.DataFrame({\n",
    "        \"ID_code\": test[\"ID_code\"],\n",
    "        \"target\": (y_pred_lgb +y_pred_cat)/2\n",
    "    })\n",
    "submission_lgb_cat.to_csv('submission_lgb_cat.csv', index=False)'''"
   ]
  },
  {
   "cell_type": "code",
   "execution_count": 85,
   "metadata": {
    "_uuid": "cbd3cd8487f073be60343b208935965979e9d5c2"
   },
   "outputs": [
    {
     "data": {
      "text/plain": [
       "'submission_rfc_lgb = pd.DataFrame({\\n        \"ID_code\": test[\"ID_code\"],\\n        \"target\": (y_pred_rfc +y_pred_lgb)/2\\n    })\\nsubmission_rfc_lgb.to_csv(\\'submission_rfc_lgb.csv\\', index=False)'"
      ]
     },
     "execution_count": 85,
     "metadata": {},
     "output_type": "execute_result"
    }
   ],
   "source": [
    "'''submission_rfc_lgb = pd.DataFrame({\n",
    "        \"ID_code\": test[\"ID_code\"],\n",
    "        \"target\": (y_pred_rfc +y_pred_lgb)/2\n",
    "    })\n",
    "submission_rfc_lgb.to_csv('submission_rfc_lgb.csv', index=False)'''"
   ]
  },
  {
   "cell_type": "markdown",
   "metadata": {
    "_uuid": "435fe67f1a833ad62045a29288c440c6952d315c"
   },
   "source": [
    "### lgm + ab , xb"
   ]
  },
  {
   "cell_type": "code",
   "execution_count": 86,
   "metadata": {},
   "outputs": [
    {
     "data": {
      "text/plain": [
       "'submission_lgb_ab = pd.DataFrame({\\n        \"ID_code\": test[\"ID_code\"],\\n        \"target\": (y_pred_lgb +y_pred_ab)/2\\n    })\\nsubmission_lgb_cat.to_csv(\\'submission_lgb_ab.csv\\', index=False)'"
      ]
     },
     "execution_count": 86,
     "metadata": {},
     "output_type": "execute_result"
    }
   ],
   "source": [
    "'''submission_lgb_ab = pd.DataFrame({\n",
    "        \"ID_code\": test[\"ID_code\"],\n",
    "        \"target\": (y_pred_lgb +y_pred_ab)/2\n",
    "    })\n",
    "submission_lgb_cat.to_csv('submission_lgb_ab.csv', index=False)'''"
   ]
  },
  {
   "cell_type": "code",
   "execution_count": 87,
   "metadata": {},
   "outputs": [
    {
     "data": {
      "text/plain": [
       "'submission_lgb_xg = pd.DataFrame({\\n        \"ID_code\": test[\"ID_code\"],\\n        \"target\": (y_pred_lgb +y_pred_xg)/2\\n    })\\nsubmission_lgb_cat.to_csv(\\'submission_lgb_xg.csv\\', index=False)'"
      ]
     },
     "execution_count": 87,
     "metadata": {},
     "output_type": "execute_result"
    }
   ],
   "source": [
    "'''submission_lgb_xg = pd.DataFrame({\n",
    "        \"ID_code\": test[\"ID_code\"],\n",
    "        \"target\": (y_pred_lgb +y_pred_xg)/2\n",
    "    })\n",
    "submission_lgb_cat.to_csv('submission_lgb_xg.csv', index=False)'''"
   ]
  },
  {
   "cell_type": "markdown",
   "metadata": {
    "_uuid": "a4fcaac6e4e792e6313b496c578aeaf5329ec5a3"
   },
   "source": [
    " <a id=\"7\"></a> <br>\n",
    "# 7- References & credits\n",
    "Thanks fo following kernels that help me to create this kernel."
   ]
  },
  {
   "cell_type": "markdown",
   "metadata": {
    "_uuid": "f67456896c63e2834e461c68ec6a960b60789663"
   },
   "source": [
    "1. [https://www.kaggle.com/dansbecker/permutation-importance](https://www.kaggle.com/dansbecker/permutation-importance)\n",
    "1. [https://www.kaggle.com/dansbecker/partial-plots](https://www.kaggle.com/dansbecker/partial-plots)\n",
    "1. [https://www.kaggle.com/miklgr500/catboost-with-gridsearch-cv](https://www.kaggle.com/miklgr500/catboost-with-gridsearch-cv)\n",
    "1. [https://www.kaggle.com/dromosys/sctp-working-lgb](https://www.kaggle.com/dromosys/sctp-working-lgb)\n",
    "1. [https://www.kaggle.com/gpreda/santander-eda-and-prediction](https://www.kaggle.com/gpreda/santander-eda-and-prediction)\n",
    "1. [https://www.kaggle.com/dansbecker/permutation-importance](https://www.kaggle.com/dansbecker/permutation-importance)\n",
    "1. [https://www.kaggle.com/dansbecker/partial-plots](https://www.kaggle.com/dansbecker/partial-plots)\n",
    "1. [https://www.kaggle.com/dansbecker/shap-values](https://www.kaggle.com/dansbecker/shap-values)\n",
    "1. [https://docs.microsoft.com/en-us/azure/machine-learning/studio/algorithm-choice](https://docs.microsoft.com/en-us/azure/machine-learning/studio/algorithm-choice)\n",
    "1. [kernel https://www.kaggle.com/arjanso/reducing-dataframe-memory-size-by-65](kernel https://www.kaggle.com/arjanso/reducing-dataframe-memory-size-by-65)\n",
    "1. [https://www.kaggle.com/brandenkmurray/nothing-works](https://www.kaggle.com/brandenkmurray/nothing-works)"
   ]
  }
 ],
 "metadata": {
  "kernelspec": {
   "display_name": "Python 3",
   "language": "python",
   "name": "python3"
  },
  "language_info": {
   "codemirror_mode": {
    "name": "ipython",
    "version": 3
   },
   "file_extension": ".py",
   "mimetype": "text/x-python",
   "name": "python",
   "nbconvert_exporter": "python",
   "pygments_lexer": "ipython3",
   "version": "3.6.6"
  }
 },
 "nbformat": 4,
 "nbformat_minor": 1
}
